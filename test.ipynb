{
 "cells": [
  {
   "cell_type": "code",
   "execution_count": null,
   "metadata": {},
   "outputs": [],
   "source": [
    "#use \"topfind\"\n",
    "#require \"owl-top\"\n",
    "#require \"gp\"\n",
    "#require \"juplot\"\n",
    "#require \"owl\"\n",
    "let _ = Jupyter_notebook.clear_output ()\n",
    "open Owl\n",
    "open Gp"
   ]
  },
  {
   "cell_type": "code",
   "execution_count": null,
   "metadata": {},
   "outputs": [],
   "source": [
    "#directory \"_build\"\n",
    "#load \"_build/lib.cmo\""
   ]
  },
  {
   "cell_type": "code",
   "execution_count": null,
   "metadata": {},
   "outputs": [],
   "source": [
    "module P = struct\n",
    "    let w_rec = Mat.of_arrays [| [| 5.; -5. |]; [| 5.; -5. |] |]\n",
    "    let dt = 1E-4\n",
    "    let sampling_dt = 1E-3\n",
    "    let tau = 20E-3\n",
    "    let noise_prms = Some (20E-3, Mat.eye 2)\n",
    "    let rate_function x = x\n",
    "end\n",
    "module D = Lib.Dynamics (P)"
   ]
  },
  {
   "cell_type": "code",
   "execution_count": null,
   "metadata": {},
   "outputs": [],
   "source": [
    "let x = D.simulate ~verbose:false ~duration:1.;;"
   ]
  },
  {
   "cell_type": "code",
   "execution_count": null,
   "metadata": {},
   "outputs": [],
   "source": [
    "let _ = Juplot.draw ~fmt:`svg ~size:(300,200) (fun (module F) ->\n",
    "    F.barebone ();\n",
    "    F.ex \"set key top left\";\n",
    "    F.plot [| [ Mat.col x 0 ], \"t 'exc.' w l lc 7\";\n",
    "              [ Mat.col x 1 ], \"t 'inh.' w l lc 3\" |])"
   ]
  },
  {
   "cell_type": "code",
   "execution_count": null,
   "metadata": {},
   "outputs": [],
   "source": []
  }
 ],
 "metadata": {
  "kernelspec": {
   "display_name": "OCaml default",
   "language": "OCaml",
   "name": "ocaml-jupyter"
  },
  "language_info": {
   "codemirror_mode": "text/x-ocaml",
   "file_extension": ".ml",
   "mimetype": "text/x-ocaml",
   "name": "OCaml",
   "nbconverter_exporter": null,
   "pygments_lexer": "OCaml",
   "version": "4.07.1"
  }
 },
 "nbformat": 4,
 "nbformat_minor": 2
}
