{
 "cells": [
  {
   "cell_type": "markdown",
   "metadata": {},
   "source": [
    "# Introduction to functional programming in OCaml\n",
    "\n",
    "OCaml is probably a new language for you, and functional programming (FP) a yet unknown way of writing programs. This session covers the basics of functional programming in OCaml, and will teach you enough to enable you to perform all coding exercises in this neuroscience course. I strongly recommend you take a look at the list of online resources listed at the very end of this notebook to get a broader view and acquire further practice."
   ]
  },
  {
   "cell_type": "markdown",
   "metadata": {},
   "source": [
    "## Why functional programming?\n",
    "\n",
    "- Often a very natural way to express in code what you mean in maths ─ great for computational scientific fields\n",
    "- Safe, succinct, predictable code that's easy to reason about\n",
    "- FUN and intellectually stimulating\n",
    "- Evolution of language trends shows it has a bright future"
   ]
  },
  {
   "cell_type": "markdown",
   "metadata": {},
   "source": [
    "## Why OCaml?\n",
    "\n",
    "OCaml is a practical FP language that combines a suite of features that are rarely found in a single language:\n",
    "\n",
    "- Expressive, high-level: very little boilerplate / clutter\n",
    "- Blends FP with imperative programming, so you get to pick what works best for your application\n",
    "- Flexible, static typing with automatic type inference \n",
    "- Powerful module system to organise your code (as well as an object-oriented layer if you really must...)\n",
    "- Fast: compiles to native machine code which is often just as fast as C (however, we are forced to use the OCaml interpreter in Jupyter notebooks, which is much slower)\n",
    "- Modern in many ways:\n",
    "  - labelled and optional arguments\n",
    "  - exception handling\n",
    "  - fast garbage collection\n",
    "  - foreign interface to C / Fortran\n",
    "  - community-driven ecosystem with package manager, build tool, autoformatters (try `Ctrl-l` in any code cell!), documentation generator, ...\n",
    "  - mechanisms to extend the syntax\n",
    "  - ..."
   ]
  },
  {
   "cell_type": "markdown",
   "metadata": {},
   "source": [
    "## About this course\n",
    "\n",
    "Instead of learning FP in an academic, abstract context (as is often done), here we will take a hands-on approach based on solving computational neuroscience problems ─ hopefully a more engaging way to learn! For each of your 8 tutorials, I wrote:\n",
    "\n",
    "1. A specific OCaml library providing modules and functions for most of the heavy-lifting (e.g. our tutorial on single neurons will come with a library for the simulation of specific neuron models); those libraries are all bundled in a single library called `pkp` which you can use in your notebooks (`#require \"pkp\"`)\n",
    "2. A jupyter notebook (such as this one!) containing a skeleton of problems to be solved\n",
    "3. A jupyter notebook containing solutions. I trust you will give each problem a good try before peeking into those!\n",
    "\n",
    "Each tutorial begins fairly easily with simple exercises mostly making use of ready-made library functions, and becomes increasingly challenging near the end."
   ]
  },
  {
   "cell_type": "markdown",
   "metadata": {},
   "source": [
    "# Using notebooks\n",
    "\n",
    "Before we begin, a few words about the notebooks. Jupyter notebooks let you write text and code, plot figures, and export your work in a variety of formats. For coursework submissions, please simply email me your notebook files (menu → File → Download as... → Notebook (`.ipynb`)).\n",
    "\n",
    "<p>\n",
    "<div style=\"color:red\"><b>IMPORTANT</b>: each time you begin working on a notebook templates provided in the <code>pkp-tutorials/notebooks/</code>, open the template and <b>immediately</b> save your own version of the file in your <code>work</code> directory. This `work` directory is the only place where files persist. Anything else gets wiped out or replaced upon re-booting your jupyter server, so be warned :) To save your version of a notebook: <code>File → Save as...</code> with the following path: <code>work/name_of_notebook.ipynb</code>.</div></p>\n",
    "\n",
    "Take 5 min to become familiar with the keyboard shortcuts (`top menu → Help → Keyboard Shortcuts`): if you don't do that, you will waste a lot of time during the tutorials. There are two keyboard interaction modes:\n",
    "  1. the default “navigation mode” when you are not actively typing but can navigate cells, move cells around, etc - to return to this mode, press `Esc`\n",
    "  2. the “edit mode” where you can type code/text ─ to enter this mode, simply press \"Enter\" after focussing on the relevant cell.\n",
    "\n",
    "Important keyboard shortcuts in navigation mode:\n",
    "- `Shift-Enter`: evaluate (“execute”) current cell\n",
    "- `j`/`k`: move down/up (arrows work, too)\n",
    "- `a`: add a code cell above the current one\n",
    "- `b`: add a code cell beneath the current one\n",
    "- `m`: convert code cell to markdown (this is when you want to type text, not code)\n",
    "- `x`: cut cell\n",
    "- `c`: copy cell\n",
    "- `v`: paste cell beneath current one\n",
    "\n",
    "... and in edit mode: \n",
    "- `Ctrl-l`: ocaml autoformat (if your code isn't syntactically correct, this won't work though)\n",
    "- `Ctrl-Shift-l`: ocaml autoformat on the entire notebook\n",
    "- `Tab`: autocomplete\n",
    "- `Shift-Tab`: opens a tooltip with information about expression under cursor (e.g. type, documentation, ...); if you hold `Shift` and press `Tab` repeatedly, the tooltip will get bigger (`Shift-Tab-Tab`), stick for 10 sec as you carry on writing your code (`Shift-Tab-Tab-Tab`), or pop-out as a mini window at the bottom of the notebook (`Shift-Tab-Tab-Tab-Tab`; this is very handy if you want e.g. to keep a function's documentation open as you carry on coding).\n"
   ]
  },
  {
   "cell_type": "markdown",
   "metadata": {},
   "source": [
    "# Basics of functional programming in OCaml\n",
    "\n",
    "## Name binding\n",
    "\n",
    "The first thing to wrap your head around is that, in FP, you typically don't “define variables”, but instead you “bind expressions” to names. Name-expression binding is done by the `let ...` construct:"
   ]
  },
  {
   "cell_type": "code",
   "execution_count": null,
   "metadata": {},
   "outputs": [],
   "source": [
    "let x = 1"
   ]
  },
  {
   "cell_type": "markdown",
   "metadata": {},
   "source": [
    "Here, `x` becomes a new name for the expression `1` (of type `int`, more on that below), but you cannot modify it. What you _can_ do, however, is _transform_ `x` into another new expression. **Value transformation is the essence of functional programming**. For example:"
   ]
  },
  {
   "cell_type": "code",
   "execution_count": null,
   "metadata": {},
   "outputs": [],
   "source": [
    "let y = x + 1"
   ]
  },
  {
   "cell_type": "markdown",
   "metadata": {},
   "source": [
    "You can even call it the same name (and try evaluating the cell below several times in a row):"
   ]
  },
  {
   "cell_type": "code",
   "execution_count": null,
   "metadata": {},
   "outputs": [],
   "source": [
    "let x = x + 1"
   ]
  },
  {
   "cell_type": "markdown",
   "metadata": {},
   "source": [
    "You can see that once you've bound `x` to a value at the top level of a code cell, any subsequent cell can use `x` too. Now, this actually illustrates a common limitation of Jupyter notebooks: there is nothing that prevents you from jumping up and down across cells and evaluate the notebook in a nonlinear way. Always bear in mind that the expression names you are using will be bound as dictated by the most recently evaluated let-binding! For example, if you go back 2 cell up (`let y = x+1`), you'll now get a different result (try it!).\n",
    "\n",
    "Sometimes, when you are no longer sure where you're at, or you don't know where that darn bug is hiding, I recommend trying `menu → Kernel → Restart & Clear output` so you start again with a fresh evaluation history."
   ]
  },
  {
   "cell_type": "markdown",
   "metadata": {},
   "source": [
    "Importantly, you can nest let-bindings using `let ... in`, which you will end up doing all the time to express more complicated transformations:"
   ]
  },
  {
   "cell_type": "code",
   "execution_count": null,
   "metadata": {},
   "outputs": [],
   "source": [
    "let z =\n",
    "  let x = 1 in\n",
    "  let y = 10 in\n",
    "  x + y\n",
    "\n",
    "(* note that even though 'x' is already bound (cf above),\n",
    "   here we are locally re-binding it;\n",
    "   oh, and by the way: this is your first OCaml comment :) *)"
   ]
  },
  {
   "cell_type": "markdown",
   "metadata": {},
   "source": [
    "## Types\n",
    "\n",
    "In OCaml, any value has a type; when you evaluate a cell, the results are conveniently displayed _with their types_ by the REPL. Let's look at some common types:"
   ]
  },
  {
   "cell_type": "code",
   "execution_count": null,
   "metadata": {},
   "outputs": [],
   "source": [
    "let _ = true"
   ]
  },
  {
   "cell_type": "markdown",
   "metadata": {},
   "source": [
    "(notice the `let _ =` which is just a way of telling OCaml we don't even want to bind the result to a name ─ I am getting tired of thinking of new letters :))"
   ]
  },
  {
   "cell_type": "code",
   "execution_count": null,
   "metadata": {},
   "outputs": [],
   "source": [
    "let _ = 3.14"
   ]
  },
  {
   "cell_type": "code",
   "execution_count": null,
   "metadata": {},
   "outputs": [],
   "source": [
    "let _ = \"A short sentence.\""
   ]
  },
  {
   "cell_type": "code",
   "execution_count": null,
   "metadata": {},
   "outputs": [],
   "source": [
    "let _ = ()"
   ]
  },
  {
   "cell_type": "markdown",
   "metadata": {},
   "source": [
    "That one looks a little odd ─ `unit` is the type of “nothing” and only one value of that type exists, which is denoted by `()`. You might wonder who cares about a variable that doesn't even carry one bit of information :) Well, this is actually only useful when we “use OCaml like Python” and e.g. define functions that do not return anything in particular but only “do stuff” (e.g. print something) ─ in OCaml, such functions return `()`. We'll see examples of that later."
   ]
  },
  {
   "cell_type": "markdown",
   "metadata": {},
   "source": [
    "OCaml comes with “product types”, which are simply tuples of other types, e.g.: "
   ]
  },
  {
   "cell_type": "code",
   "execution_count": null,
   "metadata": {},
   "outputs": [],
   "source": [
    "let _ = 1.0, \"one\""
   ]
  },
  {
   "cell_type": "code",
   "execution_count": null,
   "metadata": {},
   "outputs": [],
   "source": [
    "let _ = 1.0, \"one\", 1"
   ]
  },
  {
   "cell_type": "code",
   "execution_count": null,
   "metadata": {},
   "outputs": [],
   "source": [
    "let _ = 1.0, (\"one\", 1)"
   ]
  },
  {
   "cell_type": "markdown",
   "metadata": {},
   "source": [
    "(Note how the parentheses matter.)"
   ]
  },
  {
   "cell_type": "code",
   "execution_count": null,
   "metadata": {},
   "outputs": [],
   "source": [
    "let a = []"
   ]
  },
  {
   "cell_type": "markdown",
   "metadata": {},
   "source": [
    "This looks like a strange type, too. Here, type `'a list` means \"a list of values of the same type `'a` which is yet unspecified and could be anything\" (this is called polymorphism). We will return to lists later in the section on \"Data structures\", because they are often used in FP."
   ]
  },
  {
   "cell_type": "code",
   "execution_count": null,
   "metadata": {},
   "outputs": [],
   "source": [
    "let b = [ \"PKP\"; \"neuro\" ]"
   ]
  },
  {
   "cell_type": "markdown",
   "metadata": {},
   "source": [
    "Here, because the list contains `string` elements, it's automatically inferred to be a `string list`. \n",
    "\n",
    "Let's see if you can generalise: what's the type of _that_ ↓ ? (try to guess before evaluating the cell...)"
   ]
  },
  {
   "cell_type": "code",
   "execution_count": null,
   "metadata": {},
   "outputs": [],
   "source": [
    "let c = [ [ \"let\"; \"PKP\" ]; [ \"begin\"; \"(yeah!)\" ] ]"
   ]
  },
  {
   "cell_type": "markdown",
   "metadata": {},
   "source": [
    "Another convenient type is the `'a array` type (see also section on Data structures below):"
   ]
  },
  {
   "cell_type": "code",
   "execution_count": null,
   "metadata": {},
   "outputs": [],
   "source": [
    "let c = [||]"
   ]
  },
  {
   "cell_type": "code",
   "execution_count": null,
   "metadata": {},
   "outputs": [],
   "source": [
    "let d = [| 1; 2; 3 |]"
   ]
  },
  {
   "cell_type": "markdown",
   "metadata": {},
   "source": [
    "Array indexing is via the `.( )` notation (C-indexing: from 0 to N-1 for an array of size N):"
   ]
  },
  {
   "cell_type": "code",
   "execution_count": null,
   "metadata": {},
   "outputs": [],
   "source": [
    "let _ = d.(1)"
   ]
  },
  {
   "cell_type": "markdown",
   "metadata": {},
   "source": [
    "Now, OCaml won't let you put apples and oranges in the same bag (though see below for ways of doing this):"
   ]
  },
  {
   "cell_type": "code",
   "execution_count": null,
   "metadata": {},
   "outputs": [],
   "source": [
    "let d = [ 1; 2; \"haha\" ]"
   ]
  },
  {
   "cell_type": "markdown",
   "metadata": {},
   "source": [
    "This is a manifestation of type inference, similar to e.g.:"
   ]
  },
  {
   "cell_type": "code",
   "execution_count": null,
   "metadata": {},
   "outputs": [],
   "source": [
    "let _ = \"1\" + 2"
   ]
  },
  {
   "cell_type": "markdown",
   "metadata": {},
   "source": [
    "It is tempting to think of this strongly typed behaviour as a limitation, but you will soon realise it's a blessing. You get the type safety of e.g. C / C++ without ever having to define your types explicitly ─ OCaml infers them. You will see how far that can go when we begin looking at functions, higher-order functions, etc."
   ]
  },
  {
   "cell_type": "markdown",
   "metadata": {},
   "source": [
    "Now, to handle scenarios where you do want to “put different types in the same bag”, OCaml has a great way of letting you extend the type system with your own types ─ this is one of my favourite features, as I find it always leads to simpler (and more readable!) algorithms. Here is a simple example of a so-called “sum type”:"
   ]
  },
  {
   "cell_type": "code",
   "execution_count": null,
   "metadata": {},
   "outputs": [],
   "source": [
    "type apple_or_orange =\n",
    "  | Apple of int\n",
    "  | Orange of string"
   ]
  },
  {
   "cell_type": "code",
   "execution_count": null,
   "metadata": {},
   "outputs": [],
   "source": [
    "let x = Apple 10"
   ]
  },
  {
   "cell_type": "code",
   "execution_count": null,
   "metadata": {},
   "outputs": [],
   "source": [
    "let y = Orange \"clockwork\""
   ]
  },
  {
   "cell_type": "code",
   "execution_count": null,
   "metadata": {},
   "outputs": [],
   "source": [
    "let _ = [ x; y ]"
   ]
  },
  {
   "cell_type": "markdown",
   "metadata": {},
   "source": [
    "Another useful way of packaging expressions of different types is to use custom record types:"
   ]
  },
  {
   "cell_type": "code",
   "execution_count": null,
   "metadata": {},
   "outputs": [],
   "source": [
    "type prm =\n",
    "  { a : float\n",
    "  ; b : int\n",
    "  ; c : string\n",
    "  }"
   ]
  },
  {
   "cell_type": "code",
   "execution_count": null,
   "metadata": {},
   "outputs": [],
   "source": [
    "let p = { a = 1.0; b = 2; c = \"nice!\" }"
   ]
  },
  {
   "cell_type": "code",
   "execution_count": null,
   "metadata": {},
   "outputs": [],
   "source": [
    "let _ = p.a"
   ]
  },
  {
   "cell_type": "markdown",
   "metadata": {},
   "source": [
    "## Pattern matching"
   ]
  },
  {
   "cell_type": "markdown",
   "metadata": {},
   "source": [
    "Pattern matching is OCaml's way of “unpacking expressions”. The simplest use case is for unpacking a tuple. You already know how to pack a tuple into a product type expression:"
   ]
  },
  {
   "cell_type": "code",
   "execution_count": null,
   "metadata": {},
   "outputs": [],
   "source": [
    "let x = 1.0, \"one\""
   ]
  },
  {
   "cell_type": "markdown",
   "metadata": {},
   "source": [
    "Now, say we are given an `x` of type `float * string`, and we want to unpack it, i.e. separately access the float and the string. This is how to do it:"
   ]
  },
  {
   "cell_type": "code",
   "execution_count": null,
   "metadata": {},
   "outputs": [],
   "source": [
    "let x1, x2 = x"
   ]
  },
  {
   "cell_type": "markdown",
   "metadata": {},
   "source": [
    "Recall the other example above:"
   ]
  },
  {
   "cell_type": "code",
   "execution_count": null,
   "metadata": {},
   "outputs": [],
   "source": [
    "let x = 1.0, (\"one\", 1)"
   ]
  },
  {
   "cell_type": "markdown",
   "metadata": {},
   "source": [
    "Say we want to extract the string only:"
   ]
  },
  {
   "cell_type": "code",
   "execution_count": null,
   "metadata": {},
   "outputs": [],
   "source": [
    "let _, (x2, _) = x"
   ]
  },
  {
   "cell_type": "markdown",
   "metadata": {},
   "source": [
    "(I could have given `x2` any name, of course.)"
   ]
  },
  {
   "cell_type": "markdown",
   "metadata": {},
   "source": [
    "The other important use case for pattern matching is to match sum types:"
   ]
  },
  {
   "cell_type": "code",
   "execution_count": null,
   "metadata": {},
   "outputs": [],
   "source": [
    "type t =\n",
    "  | Apples of int\n",
    "  | Oranges of string\n",
    "\n",
    "let x = Oranges \"clockwork\"\n",
    "\n",
    "let _ =\n",
    "  match x with\n",
    "  | Apples n -> string_of_int n\n",
    "  | Oranges s -> s"
   ]
  },
  {
   "cell_type": "markdown",
   "metadata": {},
   "source": [
    "Check what happens if you change the definition of `x` above to `let x = Apples 10`."
   ]
  },
  {
   "cell_type": "markdown",
   "metadata": {},
   "source": [
    "Yet another example is to unpack a list. Here, the one thing to know is that a list is constructed starting from an empty list `[]` and adding elements using the construct `head :: tail`:"
   ]
  },
  {
   "cell_type": "code",
   "execution_count": null,
   "metadata": {},
   "outputs": [],
   "source": [
    "let a = [ 1 ]\n",
    "\n",
    "let b = 2 :: 3 :: 4 :: a"
   ]
  },
  {
   "cell_type": "code",
   "execution_count": null,
   "metadata": {},
   "outputs": [],
   "source": [
    "let (b_head :: _) = b"
   ]
  },
  {
   "cell_type": "markdown",
   "metadata": {},
   "source": [
    "Notice the warning here ─ this is an awesome feature of the type inference engine that (here) automatically catches the bug that would have occurred if `b` was actually the empty list `[]`:"
   ]
  },
  {
   "cell_type": "code",
   "execution_count": null,
   "metadata": {},
   "outputs": [],
   "source": [
    "let (b_head :: _) = []"
   ]
  },
  {
   "cell_type": "markdown",
   "metadata": {},
   "source": [
    "In other words, OCaml knows when we are ignoring important corner cases. The proper way of extracting the head of a list is to embrace the possibility of an empty list explicitly (and return an exception):"
   ]
  },
  {
   "cell_type": "code",
   "execution_count": null,
   "metadata": {},
   "outputs": [],
   "source": [
    "let b_head =\n",
    "  match b with\n",
    "  | hd :: tl -> hd\n",
    "  | [] -> failwith \"empty list!\""
   ]
  },
  {
   "cell_type": "markdown",
   "metadata": {},
   "source": [
    "## Functions\n",
    "\n",
    "### Basics\n",
    "\n",
    "FP is called FP for a reason: functions are “first-class citizens”, i.e. they are treated just like ordinary values`1`, `true`, `[ 4.0; 5.0 ]`. This has many cool implications that we will go through later.\n",
    "\n",
    "So, because functions are just like other values, they are “defined” using `let` too, with arguments: "
   ]
  },
  {
   "cell_type": "code",
   "execution_count": null,
   "metadata": {},
   "outputs": [],
   "source": [
    "let f x = x + 1"
   ]
  },
  {
   "cell_type": "markdown",
   "metadata": {},
   "source": [
    "OCaml automatically infers the type of `f`, which is `int → int`, meaning that it's a function that takes an `int` as input and returns an `int`.\n",
    "\n",
    "Another example, also showcasing the `if ... then ... else` clause:"
   ]
  },
  {
   "cell_type": "code",
   "execution_count": null,
   "metadata": {},
   "outputs": [],
   "source": [
    "let g x = if x < 1. then 0. else 1."
   ]
  },
  {
   "cell_type": "code",
   "execution_count": null,
   "metadata": {},
   "outputs": [],
   "source": [
    "let _ = g 0.2"
   ]
  },
  {
   "cell_type": "markdown",
   "metadata": {},
   "source": [
    "Note how arguments are simply given after the function name. There is no limit to the number of arguments (at least no limit that you will ever want to break):"
   ]
  },
  {
   "cell_type": "code",
   "execution_count": 3,
   "metadata": {},
   "outputs": [
    {
     "data": {
      "text/plain": [
       "val f : float -> float -> float -> float = <fun>\n"
      ]
     },
     "execution_count": 3,
     "metadata": {},
     "output_type": "execute_result"
    }
   ],
   "source": [
    "let f x y z = x +. y -. z"
   ]
  },
  {
   "cell_type": "markdown",
   "metadata": {},
   "source": [
    "(in passing, note the dedicated `+.`, `-.`, `*.` and `/.` operators for `float` numbers, in contrast to `+`, `-`, `*`, `/` are for `int` numbers)."
   ]
  },
  {
   "cell_type": "code",
   "execution_count": 4,
   "metadata": {},
   "outputs": [
    {
     "data": {
      "text/plain": [
       "- : float = 0.\n"
      ]
     },
     "execution_count": 4,
     "metadata": {},
     "output_type": "execute_result"
    }
   ],
   "source": [
    "let _ = f 1. 2. 3."
   ]
  },
  {
   "cell_type": "markdown",
   "metadata": {},
   "source": [
    "### Partial evaluation\n",
    "\n",
    "OCaml lets you “partially evaluate” functions, which results in new functions that are still awaiting one or more arguments. For example:"
   ]
  },
  {
   "cell_type": "code",
   "execution_count": 5,
   "metadata": {},
   "outputs": [
    {
     "data": {
      "text/plain": [
       "val g : float -> float = <fun>\n"
      ]
     },
     "execution_count": 5,
     "metadata": {},
     "output_type": "execute_result"
    }
   ],
   "source": [
    "let g = f 1. 2."
   ]
  },
  {
   "cell_type": "code",
   "execution_count": 6,
   "metadata": {},
   "outputs": [
    {
     "data": {
      "text/plain": [
       "- : float = 0.\n"
      ]
     },
     "execution_count": 6,
     "metadata": {},
     "output_type": "execute_result"
    }
   ],
   "source": [
    "let _ = g 3."
   ]
  },
  {
   "cell_type": "code",
   "execution_count": 7,
   "metadata": {},
   "outputs": [
    {
     "data": {
      "text/plain": [
       "- : float = 0.\n"
      ]
     },
     "execution_count": 7,
     "metadata": {},
     "output_type": "execute_result"
    }
   ],
   "source": [
    "let _ = (f 1.) 2. 3."
   ]
  },
  {
   "cell_type": "code",
   "execution_count": null,
   "metadata": {},
   "outputs": [],
   "source": [
    "let sum "
   ]
  },
  {
   "cell_type": "markdown",
   "metadata": {},
   "source": [
    "### Labelled arguments and optional arguments\n",
    "\n",
    "You can label your arguments, which I often do because labels are almost like built-in documentation:"
   ]
  },
  {
   "cell_type": "code",
   "execution_count": null,
   "metadata": {},
   "outputs": [],
   "source": [
    "let "
   ]
  },
  {
   "cell_type": "markdown",
   "metadata": {},
   "source": [
    "### Recursive functions"
   ]
  },
  {
   "cell_type": "code",
   "execution_count": 25,
   "metadata": {},
   "outputs": [
    {
     "data": {
      "text/plain": [
       "val sum_until : int -> int = <fun>\n"
      ]
     },
     "execution_count": 25,
     "metadata": {},
     "output_type": "execute_result"
    }
   ],
   "source": [
    "let rec sum_until n = if n < 1 then 0 else n + sum_until (n - 1)"
   ]
  },
  {
   "cell_type": "code",
   "execution_count": 26,
   "metadata": {},
   "outputs": [
    {
     "data": {
      "text/plain": [
       "- : int = 125250\n"
      ]
     },
     "execution_count": 26,
     "metadata": {},
     "output_type": "execute_result"
    }
   ],
   "source": [
    "let _ = sum_until 500 (* try 500000 though... *)"
   ]
  },
  {
   "cell_type": "markdown",
   "metadata": {},
   "source": [
    "To avoid memory problems with recursion, you will often want to write recursive functions whose last thing they do is to call themselves (note that above, the last thing the function does is not to call `sum_until`, but to call the `(+)` function):"
   ]
  },
  {
   "cell_type": "code",
   "execution_count": 27,
   "metadata": {},
   "outputs": [
    {
     "data": {
      "text/plain": [
       "val sum_until : int -> int = <fun>\n"
      ]
     },
     "execution_count": 27,
     "metadata": {},
     "output_type": "execute_result"
    }
   ],
   "source": [
    "let sum_until n =\n",
    "  let rec iter accu n = if n < 1 then accu else iter (accu + n) (n - 1) in\n",
    "  iter 0 n"
   ]
  },
  {
   "cell_type": "code",
   "execution_count": 38,
   "metadata": {},
   "outputs": [
    {
     "data": {
      "text/plain": [
       "- : int = 12500002500000\n"
      ]
     },
     "execution_count": 38,
     "metadata": {},
     "output_type": "execute_result"
    }
   ],
   "source": [
    "let _ = sum_until 5000000"
   ]
  },
  {
   "cell_type": "markdown",
   "metadata": {},
   "source": [
    "The possibility to write recursive functions essentially means you no longer need “for loops” (don't worry if you don't even know what that is ^^). "
   ]
  },
  {
   "cell_type": "markdown",
   "metadata": {},
   "source": []
  },
  {
   "cell_type": "markdown",
   "metadata": {},
   "source": [
    "## Data structures\n",
    "\n",
    "### Lists\n",
    "\n",
    "Lists are the bread & butter of most FP languages, so here are a couple of useful functions to manipulate them (all those functions can be found in module `List`). Take some time to inspect the type of these functions, and their documentation (using `Shift-Tab` to call out a tooltip)."
   ]
  },
  {
   "cell_type": "code",
   "execution_count": null,
   "metadata": {},
   "outputs": [],
   "source": [
    "let x = List.init 5 (fun i -> i + 3)"
   ]
  },
  {
   "cell_type": "code",
   "execution_count": null,
   "metadata": {},
   "outputs": [],
   "source": [
    "let _ = List.length x"
   ]
  },
  {
   "cell_type": "code",
   "execution_count": null,
   "metadata": {},
   "outputs": [],
   "source": [
    "let _ = x @ x (* list concatenation *)"
   ]
  },
  {
   "cell_type": "code",
   "execution_count": null,
   "metadata": {},
   "outputs": [],
   "source": [
    "let _ = List.rev x"
   ]
  },
  {
   "cell_type": "code",
   "execution_count": null,
   "metadata": {},
   "outputs": [],
   "source": [
    "let _ = List.filter (fun z -> z > 4) x"
   ]
  },
  {
   "cell_type": "code",
   "execution_count": null,
   "metadata": {},
   "outputs": [],
   "source": [
    "let _ = List.fold_left (fun accu z -> accu + z) 0 x"
   ]
  },
  {
   "cell_type": "markdown",
   "metadata": {},
   "source": [
    "which says \"accumulate the sum of all elements in `x`, from left to right, starting with 0."
   ]
  },
  {
   "cell_type": "code",
   "execution_count": null,
   "metadata": {},
   "outputs": [],
   "source": [
    "let _ = List.fold_left (fun accu z -> accu + (z * z)) 2 x"
   ]
  },
  {
   "cell_type": "markdown",
   "metadata": {},
   "source": [
    "### Arrays"
   ]
  },
  {
   "cell_type": "markdown",
   "metadata": {},
   "source": [
    "Exercise: look up module `Array`, (`Array.` and `Tab` for autocompletion with list all functions in the `Array` module) and redo all the steps taken above for the list x, now for a similar array `x` defined as:"
   ]
  },
  {
   "cell_type": "code",
   "execution_count": null,
   "metadata": {},
   "outputs": [],
   "source": [
    "let x = Array.init 5 (fun i -> i + 3)"
   ]
  },
  {
   "cell_type": "markdown",
   "metadata": {},
   "source": [
    "# Numerical computing with Owl"
   ]
  },
  {
   "cell_type": "markdown",
   "metadata": {},
   "source": [
    "# Plotting results\n",
    "\n",
    "To make plots, you will use the `Gp` and `Juplot` modules."
   ]
  },
  {
   "cell_type": "code",
   "execution_count": null,
   "metadata": {},
   "outputs": [],
   "source": [
    ";;\n",
    "#require \"owl, gp, juplot\""
   ]
  },
  {
   "cell_type": "code",
   "execution_count": null,
   "metadata": {},
   "outputs": [],
   "source": [
    "open Owl\n",
    "\n",
    "open Gp"
   ]
  },
  {
   "cell_type": "code",
   "execution_count": null,
   "metadata": {},
   "outputs": [],
   "source": [
    "let () =\n",
    "  let x = Mat.linspace 0. 1. 100 in\n",
    "  let y = Mat.(sin (Const.pi2 $* x)) in\n",
    "  let figure (module P : Plot) =\n",
    "    P.plot\n",
    "      (L [ x; y ])\n",
    "      ~style:\"l lc 8\"\n",
    "      [ barebone\n",
    "      ; borders [ `left; `bottom ]\n",
    "      ; xtics `auto ~o:\"out nomirror\"\n",
    "      ; xlabel \"time\"\n",
    "      ; ylabel \"something\"\n",
    "      ]\n",
    "  in\n",
    "  Juplot.draw ~fmt:`svg ~size:(300, 200) figure"
   ]
  },
  {
   "cell_type": "markdown",
   "metadata": {},
   "source": [
    "# Going further\n",
    "\n",
    "A lot of general information can be found on the [official ocaml website](http://ocaml.org). For learning, the following are good online resources:\n",
    "1. the [real world OCaml book](http://dev.realworldocaml.org) (fully available online) ─ in particular, the first part on \"Language concepts\" is fantastic.\n",
    "2. official [OCaml manual](http://caml.inria.fr/pub/docs/manual-ocaml/) ─ in particular, the [documentation of the standard library](http://caml.inria.fr/pub/docs/manual-ocaml/stdlib.html) is really helpful\n",
    "3. a great set of [tutorials](http://ocaml.org/learn/tutorials/)\n",
    "4. [online lessons](https://try.ocamlpro.com) with a rudimentary browser-based interpreter (kind of a step down from Jupyter though...)"
   ]
  }
 ],
 "metadata": {
  "kernelspec": {
   "display_name": "OCaml 4.07.1+flambda",
   "language": "OCaml",
   "name": "ocaml-jupyter"
  },
  "language_info": {
   "codemirror_mode": "text/x-ocaml",
   "file_extension": ".ml",
   "mimetype": "text/x-ocaml",
   "name": "OCaml",
   "nbconverter_exporter": null,
   "pygments_lexer": "OCaml",
   "version": "4.07.1"
  }
 },
 "nbformat": 4,
 "nbformat_minor": 2
}
