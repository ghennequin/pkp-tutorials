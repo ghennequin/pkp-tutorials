{
 "cells": [
  {
   "cell_type": "markdown",
   "metadata": {},
   "source": [
    "# Introduction to functional programming in OCaml\n",
    "\n",
    "OCaml is probably a new language for you, and functional programming (FP) a yet unknown way of writing programs. This session covers the basics of functional programming in OCaml, and will teach you enough to enable you to perform all coding exercises in this neuroscience course. I strongly recommend you take a look at the online resources listed at the very end of this notebook to get a broader view and gain further practice."
   ]
  },
  {
   "cell_type": "markdown",
   "metadata": {},
   "source": [
    "## Why functional programming?\n",
    "\n",
    "- Often a very natural way to express in code what you mean in the maths\n",
    "- Safe, succinct, predictable code that's easy to reason about\n",
    "- FUN and intellectually stimulating\n",
    "- Evolution of language trends shows it has a bright future"
   ]
  },
  {
   "cell_type": "markdown",
   "metadata": {},
   "source": [
    "## Why OCaml?\n",
    "\n",
    "OCaml is a practical FP language that combines a suite of features that are rarely found in a single language:\n",
    "\n",
    "- Expressive, high-level: very little boilerplate / clutter\n",
    "- Blends FP with imperative programming, so you get to pick what works best for your application\n",
    "- Flexible, static typing with automatic type inference \n",
    "- Powerful module system to organise your code (as well as an object-oriented layer if you really must...)\n",
    "- Fast: compiles to native machine code which is often just as fast as C (however, we are forced to use the OCaml interpreter in Jupyter notebooks, which is much slower)\n",
    "- Modern in many ways:\n",
    "  - labelled and optional arguments\n",
    "  - exception handling\n",
    "  - fast garbage collection\n",
    "  - foreign interface to C / Fortran\n",
    "  - community-driven ecosystem with package manager, build tool, autoformatters (try `Ctrl-l` in any code cell!), documentation generator, ...\n",
    "  - mechanisms to extend the syntax\n",
    "  - ..."
   ]
  },
  {
   "cell_type": "markdown",
   "metadata": {},
   "source": [
    "## About this course\n",
    "\n",
    "Instead of learning FP in an academic, abstract context (as is often done), here we will take a hands-on approach based on solving computational neuroscience problems ─ hopefully a more engaging way to learn! For each of your 8 tutorials, I wrote:\n",
    "\n",
    "1. A specific OCaml library providing modules and functions for most of the heavy-lifting (e.g. our tutorial on single neurons will come with a library for the simulation of specific neuron models); those libraries are all bundled in a single library called `pkp` which you can use in your notebooks (`#require \"pkp\"`), and which is [documented online](https://pkp-neuro.github.io/pkp-tutorials/pkp/Pkp/index.html). \n",
    "2. A jupyter notebook (such as this one!) containing a skeleton of problems to be solved.\n",
    "\n",
    "Each tutorial begins fairly easily with simple exercises mostly making use of ready-made library functions, and becomes increasingly challenging near the end. I anticipate that you will not have time to finish the tutorials in the 1h15min alloted time, so it would be great if you carried on working on those when back in college."
   ]
  },
  {
   "cell_type": "code",
   "execution_count": null,
   "metadata": {},
   "outputs": [],
   "source": [
    ";;\n",
    "#require \"pkp\""
   ]
  },
  {
   "cell_type": "markdown",
   "metadata": {},
   "source": [
    "# Using notebooks\n",
    "\n",
    "Jupyter notebooks let you write text and code, plot figures, and export your work in a variety of formats. For coursework submissions, please simply download your notebook file (menu → File → Download as... → Notebook (`.ipynb`) and send it over [Slack](https://pkp-neuro.slack.com) (direct message to me).\n",
    "\n",
    "<p>\n",
    "<div style=\"color:red\"><b>IMPORTANT</b>: each time you begin working on a notebook templates provided in the <code>pkp-tutorials/notebooks/</code>, open the template and <b>immediately</b> save your own version of the file in your <code>work</code> directory. This <code>work</code> directory is the only place where files persist. Anything else gets wiped out or replaced upon re-booting your jupyter server, so be warned :) To save your version of a notebook: <code>File → Save as...</code> with the following path: <code>work/name_of_notebook.ipynb</code>.</div></p>\n",
    "\n",
    "Take 5 min to become familiar with the keyboard shortcuts (`top menu → Help → Keyboard Shortcuts`): if you don't do that, you will waste a lot of time during the tutorials. There are two keyboard interaction modes:\n",
    "  1. the default “command mode” when you are not actively typing but can navigate within the notebook, move cells around, etc - to return to this mode, press `Esc`\n",
    "  2. the “edit mode” where you can type code/text ─ to enter this mode, simply press \"Enter\" after focussing on the relevant cell.\n",
    "\n",
    "Important keyboard shortcuts in command mode:\n",
    "- `Shift-Enter`: evaluate (“execute”) current cell\n",
    "- `j`/`k`: move down/up (arrows work, too)\n",
    "- `dd` (`d` pressed twice consecutively): delete cell\n",
    "- `a`: add a code cell above the current one\n",
    "- `b`: add a code cell beneath the current one\n",
    "- `m`: convert code cell to markdown (this is when you want to type text, not code)\n",
    "- `x`: cut cell\n",
    "- `c`: copy cell\n",
    "- `v`: paste cell beneath current one\n",
    "\n",
    "... and in edit mode: \n",
    "- `Ctrl-l`: ocaml autoformat (if your code isn't syntactically correct, this won't work though)\n",
    "- `Ctrl-Shift-l`: ocaml autoformat on the entire notebook\n",
    "- `Tab`: autocomplete\n",
    "- `Shift-Tab`: opens a tooltip with information about expression under cursor (e.g. type, documentation, ...); if you hold `Shift` and press `Tab` repeatedly, the tooltip will get bigger (`Shift-Tab-Tab`), stick for 10 sec as you carry on writing your code (`Shift-Tab-Tab-Tab`), or pop-out as a mini window at the bottom of the notebook (`Shift-Tab-Tab-Tab-Tab`; this is very handy if you want e.g. to keep a function's documentation open as you carry on coding).\n"
   ]
  },
  {
   "cell_type": "markdown",
   "metadata": {},
   "source": [
    "# Basics of functional programming in OCaml\n",
    "\n",
    "## Name binding\n",
    "\n",
    "The first thing to wrap your head around is that, in FP, you typically don't “define variables”, but instead you “bind expressions” to names. Name-expression binding is done by the `let ... = ...` construct:"
   ]
  },
  {
   "cell_type": "code",
   "execution_count": null,
   "metadata": {},
   "outputs": [],
   "source": [
    "let x = 1"
   ]
  },
  {
   "cell_type": "markdown",
   "metadata": {},
   "source": [
    "Here, `x` becomes a new name for the expression `1` (of type `int`, more on that below), but you cannot modify it. What you _can_ do, however, is _transform_ `x` into another, new expression. Value transformation is the essence of functional programming. For example:"
   ]
  },
  {
   "cell_type": "code",
   "execution_count": null,
   "metadata": {},
   "outputs": [],
   "source": [
    "let y = x + 1"
   ]
  },
  {
   "cell_type": "markdown",
   "metadata": {},
   "source": [
    "You can even call it the same name (and try evaluating the cell below several times in a row):"
   ]
  },
  {
   "cell_type": "code",
   "execution_count": null,
   "metadata": {},
   "outputs": [],
   "source": [
    "let x = x + 1"
   ]
  },
  {
   "cell_type": "markdown",
   "metadata": {},
   "source": [
    "You can see that once you've bound `x` to a value at the top level of a code cell, any subsequent cell can use `x` too. Now, this actually illustrates a drawback of Jupyter notebooks: there is nothing that prevents you from jumping forward and backward across cells and evaluate the notebook in a nonlinear way. Always bear in mind that any name is bound by the most recently evaluated let-binding! For example, if you go back 2 cells up (`let y = x+1`), you'll now get a different result (try it!).\n",
    "\n",
    "Sometimes, when you are no longer sure where you're at, or you don't know where that darn bug is hiding, I recommend trying `menu → Kernel → Restart & Clear output` so you start again with a fresh evaluation history.\n",
    "\n",
    "Importantly, you can nest let-bindings using `let ... in`, which you will end up doing all the time to express more complicated transformations:"
   ]
  },
  {
   "cell_type": "code",
   "execution_count": null,
   "metadata": {},
   "outputs": [],
   "source": [
    "let z =\n",
    "  let x = 1 in\n",
    "  let ten = 10 in\n",
    "  x + ten\n",
    "\n",
    "(* Note that even though 'x' is already bound (cf above),\n",
    "   here we are locally re-binding it;\n",
    "   oh, and by the way: this is your first OCaml comment :) *)"
   ]
  },
  {
   "cell_type": "markdown",
   "metadata": {},
   "source": [
    "And the follwing will fail, as `ten` is only defined locally as an intermediate variable in the definition of `z` above, but is not defined at the top level of the notebook:"
   ]
  },
  {
   "cell_type": "code",
   "execution_count": null,
   "metadata": {},
   "outputs": [],
   "source": [
    "let x = ten + 2"
   ]
  },
  {
   "cell_type": "markdown",
   "metadata": {},
   "source": [
    "## Types\n",
    "\n",
    "In OCaml, any value has a type; when you evaluate a cell, the results are conveniently displayed _with their types_ by the REPL. Let's look at some common types:"
   ]
  },
  {
   "cell_type": "code",
   "execution_count": null,
   "metadata": {},
   "outputs": [],
   "source": [
    "let _ = true"
   ]
  },
  {
   "cell_type": "markdown",
   "metadata": {},
   "source": [
    "(notice this `let _ =` which is just a way of telling OCaml we don't even want to bind the result to a name ─ I am getting tired of thinking of new letters :))"
   ]
  },
  {
   "cell_type": "code",
   "execution_count": null,
   "metadata": {},
   "outputs": [],
   "source": [
    "let _ = 3.14"
   ]
  },
  {
   "cell_type": "code",
   "execution_count": null,
   "metadata": {},
   "outputs": [],
   "source": [
    "let _ = \"A short sentence.\""
   ]
  },
  {
   "cell_type": "code",
   "execution_count": null,
   "metadata": {},
   "outputs": [],
   "source": [
    "let _ = ()"
   ]
  },
  {
   "cell_type": "markdown",
   "metadata": {},
   "source": [
    "That one looks a little odd ─ `unit` is the type of “nothing”; in fact, only one value exists of that type, and it is this mysterious `()`. You might wonder who cares about a variable that doesn't even carry one bit of information :) I won't tell you now ─ the longer you wonder about `()`, the more it shows you are learning FP well :)\n",
    "\n",
    "OCaml can also do “product types”, which are simply tuples of other types, e.g.: "
   ]
  },
  {
   "cell_type": "code",
   "execution_count": null,
   "metadata": {},
   "outputs": [],
   "source": [
    "let _ = 1.0, \"one\""
   ]
  },
  {
   "cell_type": "code",
   "execution_count": null,
   "metadata": {},
   "outputs": [],
   "source": [
    "let _ = 1.0, \"one\", 1"
   ]
  },
  {
   "cell_type": "code",
   "execution_count": null,
   "metadata": {},
   "outputs": [],
   "source": [
    "let _ = 1.0, (\"one\", 1)"
   ]
  },
  {
   "cell_type": "markdown",
   "metadata": {},
   "source": [
    "(Note how the parentheses matter.)"
   ]
  },
  {
   "cell_type": "code",
   "execution_count": null,
   "metadata": {},
   "outputs": [],
   "source": [
    "let a = []"
   ]
  },
  {
   "cell_type": "markdown",
   "metadata": {},
   "source": [
    "This looks like a strange type, too. Here, type `'a list` means \"a list of elements that all have the same type `'a`, which is yet unspecified and could be anything\". We will return to lists later in the section on \"Data structures\", because they are often used in FP."
   ]
  },
  {
   "cell_type": "code",
   "execution_count": null,
   "metadata": {},
   "outputs": [],
   "source": [
    "let b = [ \"PKP\"; \"neuro\" ]"
   ]
  },
  {
   "cell_type": "markdown",
   "metadata": {},
   "source": [
    "Here, because the list contains `string` elements, it's automatically inferred to be a `string list`. \n",
    "\n",
    "Let's see if you can generalise: what's the type of _that_ ↓ ? (try to guess before evaluating the cell...)"
   ]
  },
  {
   "cell_type": "code",
   "execution_count": null,
   "metadata": {},
   "outputs": [],
   "source": [
    "let c = [ [ \"let\"; \"PKP\" ]; [ \"begin\"; \"(yeah!)\" ] ]"
   ]
  },
  {
   "cell_type": "markdown",
   "metadata": {},
   "source": [
    "Another convenient type is the `'a array` type (see also section on Data structures below):"
   ]
  },
  {
   "cell_type": "code",
   "execution_count": null,
   "metadata": {},
   "outputs": [],
   "source": [
    "let c = [||] (* that's just an empty array *)"
   ]
  },
  {
   "cell_type": "code",
   "execution_count": null,
   "metadata": {},
   "outputs": [],
   "source": [
    "let d = [| 1; 2; 3 |]"
   ]
  },
  {
   "cell_type": "markdown",
   "metadata": {},
   "source": [
    "Array indexing is via the `.( )` notation (C-indexing: from 0 to N-1 for an array of size N):"
   ]
  },
  {
   "cell_type": "code",
   "execution_count": null,
   "metadata": {},
   "outputs": [],
   "source": [
    "let _ = d.(1)"
   ]
  },
  {
   "cell_type": "markdown",
   "metadata": {},
   "source": [
    "Now, OCaml won't let you put apples and oranges in the same bag (though see below for ways of doing this):"
   ]
  },
  {
   "cell_type": "code",
   "execution_count": null,
   "metadata": {},
   "outputs": [],
   "source": [
    "let d = [ 1; 2; \"haha\" ]"
   ]
  },
  {
   "cell_type": "markdown",
   "metadata": {},
   "source": [
    "This is a manifestation of type inference, similar to e.g.:"
   ]
  },
  {
   "cell_type": "code",
   "execution_count": null,
   "metadata": {},
   "outputs": [],
   "source": [
    "let _ = \"1\" + 2"
   ]
  },
  {
   "cell_type": "markdown",
   "metadata": {},
   "source": [
    "It is tempting to think of this strongly typed behaviour as a limitation, but you will soon realise it's a blessing. You get the type safety of e.g. C / C++ without ever having to define your types explicitly ─ OCaml infers them. You will see how far that can go when we begin looking at functions, higher-order functions, etc."
   ]
  },
  {
   "cell_type": "markdown",
   "metadata": {},
   "source": [
    "Now, to handle scenarios where you do want to “put different types in the same bag”, OCaml has a great way of letting you extend the type system with your own types ─ this is one of my favourite features, as I find it always leads to simpler (and more readable!) algorithms. Here is a simple example of a so-called “sum type”:"
   ]
  },
  {
   "cell_type": "code",
   "execution_count": null,
   "metadata": {},
   "outputs": [],
   "source": [
    "type apple_or_orange =\n",
    "  | Apple of int\n",
    "  | Orange of string"
   ]
  },
  {
   "cell_type": "code",
   "execution_count": null,
   "metadata": {},
   "outputs": [],
   "source": [
    "let x = Apple 0"
   ]
  },
  {
   "cell_type": "code",
   "execution_count": null,
   "metadata": {},
   "outputs": [],
   "source": [
    "let y = Orange \"clockwork\""
   ]
  },
  {
   "cell_type": "code",
   "execution_count": null,
   "metadata": {},
   "outputs": [],
   "source": [
    "let _ = [ x; y ]"
   ]
  },
  {
   "cell_type": "markdown",
   "metadata": {},
   "source": [
    "An important sum type is the `'a option` type, which is already defined natively: "
   ]
  },
  {
   "cell_type": "code",
   "execution_count": null,
   "metadata": {},
   "outputs": [],
   "source": [
    "let _ = Some \"hi\""
   ]
  },
  {
   "cell_type": "code",
   "execution_count": null,
   "metadata": {},
   "outputs": [],
   "source": [
    "let _ = None"
   ]
  },
  {
   "cell_type": "markdown",
   "metadata": {},
   "source": [
    "(here, OCaml has no way of knowing `'a` so it's left unspecified.).\n",
    "\n",
    "What's the type of _that_ ↓ ?"
   ]
  },
  {
   "cell_type": "code",
   "execution_count": null,
   "metadata": {},
   "outputs": [],
   "source": [
    "let _ = [ Some 5.4; None ]"
   ]
  },
  {
   "cell_type": "markdown",
   "metadata": {},
   "source": [
    "Another useful way of packaging expressions of different types is to use custom record types:"
   ]
  },
  {
   "cell_type": "code",
   "execution_count": null,
   "metadata": {},
   "outputs": [],
   "source": [
    "type prm =\n",
    "  { a : float\n",
    "  ; b : int\n",
    "  ; c : string\n",
    "  }"
   ]
  },
  {
   "cell_type": "code",
   "execution_count": null,
   "metadata": {},
   "outputs": [],
   "source": [
    "let p = { a = 1.0; b = 2; c = \"nice!\" }"
   ]
  },
  {
   "cell_type": "code",
   "execution_count": null,
   "metadata": {},
   "outputs": [],
   "source": [
    "let _ = p.a"
   ]
  },
  {
   "cell_type": "markdown",
   "metadata": {},
   "source": [
    "## Pattern matching"
   ]
  },
  {
   "cell_type": "markdown",
   "metadata": {},
   "source": [
    "Pattern matching is OCaml's way of “unpacking expressions”. The simplest use case is for unpacking a tuple. You already know how to pack a tuple into a product type expression:"
   ]
  },
  {
   "cell_type": "code",
   "execution_count": null,
   "metadata": {},
   "outputs": [],
   "source": [
    "let x = 1.0, \"one\""
   ]
  },
  {
   "cell_type": "markdown",
   "metadata": {},
   "source": [
    "Now, say we are given an `x` of type `float * string`, and we want to unpack it, i.e. separately access the float and the string. This is how to do it:"
   ]
  },
  {
   "cell_type": "code",
   "execution_count": null,
   "metadata": {},
   "outputs": [],
   "source": [
    "let x1, x2 = x"
   ]
  },
  {
   "cell_type": "markdown",
   "metadata": {},
   "source": [
    "(I could have called `x1` and `x2` any other names, of course).\n",
    "\n",
    "Recall the other example above:"
   ]
  },
  {
   "cell_type": "code",
   "execution_count": null,
   "metadata": {},
   "outputs": [],
   "source": [
    "let x = 1.0, (\"one\", 1)"
   ]
  },
  {
   "cell_type": "markdown",
   "metadata": {},
   "source": [
    "Say we want to extract the string only:"
   ]
  },
  {
   "cell_type": "code",
   "execution_count": null,
   "metadata": {},
   "outputs": [],
   "source": [
    "let _, (x2, _) = x"
   ]
  },
  {
   "cell_type": "markdown",
   "metadata": {},
   "source": [
    "Try to remove the parentheses: can you make sense of the error message you get then?\n",
    "\n",
    "The other important use case for pattern matching is to match sum types:"
   ]
  },
  {
   "cell_type": "code",
   "execution_count": null,
   "metadata": {},
   "outputs": [],
   "source": [
    "type t =\n",
    "  | Nothing\n",
    "  | Something of int\n",
    "\n",
    "let x = Orange \"clockwork\"\n",
    "\n",
    "let _ =\n",
    "  match x with\n",
    "  | Apple n -> string_of_int n\n",
    "  | Orange s -> s"
   ]
  },
  {
   "cell_type": "markdown",
   "metadata": {},
   "source": [
    "Check what happens if you change the definition of `x` above to `let x = Apple 0`."
   ]
  },
  {
   "cell_type": "markdown",
   "metadata": {},
   "source": [
    "Yet another example is to unpack a list. Here, you need to know that a list is constructed starting from an empty list `[]` and adding elements using the construct `head :: tail`, like so:"
   ]
  },
  {
   "cell_type": "code",
   "execution_count": null,
   "metadata": {},
   "outputs": [],
   "source": [
    "let a = [ 1 ]\n",
    "\n",
    "let b = 2 :: 3 :: 4 :: a"
   ]
  },
  {
   "cell_type": "markdown",
   "metadata": {},
   "source": [
    "Accordingly, we can pattern-match a list as follows:"
   ]
  },
  {
   "cell_type": "code",
   "execution_count": null,
   "metadata": {},
   "outputs": [],
   "source": [
    "let (b_head :: _) = b"
   ]
  },
  {
   "cell_type": "markdown",
   "metadata": {},
   "source": [
    "Note the warning here ─ this is an awesome feature of the type inference engine that (here) automatically catches the bug that would have occurred if `b` was actually the empty list `[]`:"
   ]
  },
  {
   "cell_type": "code",
   "execution_count": null,
   "metadata": {},
   "outputs": [],
   "source": [
    "let (b_head :: _) = []"
   ]
  },
  {
   "cell_type": "markdown",
   "metadata": {},
   "source": [
    "In other words, OCaml knows when we are ignoring important corner cases. The proper way of extracting the head of a list is to embrace the possibility of an empty list explicitly (and return an exception):"
   ]
  },
  {
   "cell_type": "code",
   "execution_count": null,
   "metadata": {},
   "outputs": [],
   "source": [
    "let b_head =\n",
    "  match b with\n",
    "  | hd :: tl -> hd\n",
    "  | [] -> failwith \"empty list!\""
   ]
  },
  {
   "cell_type": "markdown",
   "metadata": {},
   "source": [
    "## Functions\n",
    "\n",
    "### Basics\n",
    "\n",
    "FP is called FP for a reason: functions are “first-class citizens”, i.e. they are treated just like ordinary values such as `1`, `true`, or `[ 4.0; 5.0 ]`. This has many cool implications that you will discover as you go on.\n",
    "\n",
    "So, because functions are just like other values, they are “defined” using `let` too, now with trailing arguments: "
   ]
  },
  {
   "cell_type": "code",
   "execution_count": null,
   "metadata": {},
   "outputs": [],
   "source": [
    "let f x = x + 1"
   ]
  },
  {
   "cell_type": "markdown",
   "metadata": {},
   "source": [
    "OCaml automatically infers the type of `f`, which is `int → int`, meaning that it's a function that takes an `int` as input and returns an `int`.\n",
    "\n",
    "In passing, OCaml also allows the use of another syntax useful for “inline” definition of functions: `let f = (fun x -> x + 1)` ─ in fact, even the code formatter knows it's the same thing, and will revert to `let f x = x + 1` (try `Ctrl-l` in the cell below):"
   ]
  },
  {
   "cell_type": "code",
   "execution_count": null,
   "metadata": {},
   "outputs": [],
   "source": [
    "let f = (fun x -> x + 1)"
   ]
  },
  {
   "cell_type": "markdown",
   "metadata": {},
   "source": [
    "Another example, also showcasing the `if ... then ... else` clause:"
   ]
  },
  {
   "cell_type": "code",
   "execution_count": null,
   "metadata": {},
   "outputs": [],
   "source": [
    "let g x = if x < 1. then 0. else 1."
   ]
  },
  {
   "cell_type": "markdown",
   "metadata": {},
   "source": [
    "Evaluating function is as simple as giving the argument(s) right after the name of the function:"
   ]
  },
  {
   "cell_type": "code",
   "execution_count": null,
   "metadata": {},
   "outputs": [],
   "source": [
    "let _ = g 0.2"
   ]
  },
  {
   "cell_type": "markdown",
   "metadata": {},
   "source": [
    "There is no limit to the number of arguments (at least no limit that you will ever want to break):"
   ]
  },
  {
   "cell_type": "code",
   "execution_count": null,
   "metadata": {},
   "outputs": [],
   "source": [
    "let f x y z = x +. y -. z"
   ]
  },
  {
   "cell_type": "markdown",
   "metadata": {},
   "source": [
    "(in passing, note the dedicated `+.`, `-.`, `*.` and `/.` operators for `float` numbers, in contrast to `+`, `-`, `*`, `/` are for `int` numbers)."
   ]
  },
  {
   "cell_type": "code",
   "execution_count": null,
   "metadata": {},
   "outputs": [],
   "source": [
    "let _ = f 1. 2. 3."
   ]
  },
  {
   "cell_type": "markdown",
   "metadata": {},
   "source": [
    "### Partial evaluation\n",
    "\n",
    "OCaml lets you “partially evaluate” functions, which results in new functions that are still awaiting one or more arguments. For example:"
   ]
  },
  {
   "cell_type": "code",
   "execution_count": null,
   "metadata": {},
   "outputs": [],
   "source": [
    "let g = f 1. 2."
   ]
  },
  {
   "cell_type": "code",
   "execution_count": null,
   "metadata": {},
   "outputs": [],
   "source": [
    "let _ = g 3."
   ]
  },
  {
   "cell_type": "code",
   "execution_count": null,
   "metadata": {},
   "outputs": [],
   "source": [
    "let _ = (f 1.) 2. 3."
   ]
  },
  {
   "cell_type": "markdown",
   "metadata": {},
   "source": [
    "Another quick example:"
   ]
  },
  {
   "cell_type": "code",
   "execution_count": null,
   "metadata": {},
   "outputs": [],
   "source": [
    "let _ = max\n",
    "\n",
    "(* already defined in the standard library ─ return the largest of two values *)"
   ]
  },
  {
   "cell_type": "code",
   "execution_count": null,
   "metadata": {},
   "outputs": [],
   "source": [
    "let f = max 0."
   ]
  },
  {
   "cell_type": "code",
   "execution_count": null,
   "metadata": {},
   "outputs": [],
   "source": [
    "let _ = f (-3.0) (* note compulsory parentheses due to minus sign *)"
   ]
  },
  {
   "cell_type": "markdown",
   "metadata": {},
   "source": [
    "### Labelled arguments and optional arguments\n",
    "\n",
    "You can label your arguments, which makes the code nearly self-documenting:"
   ]
  },
  {
   "cell_type": "code",
   "execution_count": null,
   "metadata": {},
   "outputs": [],
   "source": [
    "let wait_and_print ~duration msg =\n",
    "  (* the sleepf function belongs to module `Unix` in the standard library,\n",
    "     hence the `Unix.[...]` notation *)\n",
    "  Unix.sleepf duration;\n",
    "  (* likewise, print_msg is in module Misc, itself contained in module Pkp,\n",
    "     imported above with #require \"pkp\" *)\n",
    "  Pkp.Misc.print_msg msg"
   ]
  },
  {
   "cell_type": "code",
   "execution_count": null,
   "metadata": {},
   "outputs": [],
   "source": [
    "let _ = wait_and_print ~duration:2.0 \"Boo!\""
   ]
  },
  {
   "cell_type": "markdown",
   "metadata": {},
   "source": [
    "Slightly off-topic here, but while we are at it: both functions `Unix.sleepf` and `Pkp.Misc.print_msg` have return type `unit`, so they don't compute any value, but they just “do stuff” (pausing the execution of the program, printing a message in the notebook). You can chain such expressions using `;`, and the whole chain evaluates to the very last expression:"
   ]
  },
  {
   "cell_type": "code",
   "execution_count": null,
   "metadata": {},
   "outputs": [],
   "source": [
    "let _ = (); (); (); 2"
   ]
  },
  {
   "cell_type": "markdown",
   "metadata": {},
   "source": [
    "Note that if you mistakenly introduce an expression that does _not_ have type `unit` in your sequence, OCaml will warn you (rightly so, because you are not actually binding that expression to any name so you won't be able to use it later!):"
   ]
  },
  {
   "cell_type": "code",
   "execution_count": null,
   "metadata": {},
   "outputs": [],
   "source": [
    "let _ = (); 1; (); 2"
   ]
  },
  {
   "cell_type": "markdown",
   "metadata": {},
   "source": [
    "If you have a “variable” called the same name as the label, then OCaml lets you take this type of shortcut:"
   ]
  },
  {
   "cell_type": "code",
   "execution_count": null,
   "metadata": {},
   "outputs": [],
   "source": [
    "let duration = 1.\n",
    "\n",
    "\n",
    "(* instead of  wait_and_print ~duration:duration ~msg:msg, you may write: *)\n",
    "let _ = wait_and_print ~duration \"Hey, lazy!\""
   ]
  },
  {
   "cell_type": "markdown",
   "metadata": {},
   "source": [
    "Labelled arguments have the advantage that they can be given in any order (because they are labelled, so there is no ambiguity for the compiler):"
   ]
  },
  {
   "cell_type": "code",
   "execution_count": null,
   "metadata": {},
   "outputs": [],
   "source": [
    "let _ = wait_and_print \"Hey lazy\" ~duration"
   ]
  },
  {
   "cell_type": "markdown",
   "metadata": {},
   "source": [
    "Now, let's make the duration argument optional (if none is given, we don't wait), using `?arg`:"
   ]
  },
  {
   "cell_type": "code",
   "execution_count": null,
   "metadata": {},
   "outputs": [],
   "source": [
    "let wait_and_print ?duration msg =\n",
    "  (match duration with\n",
    "  | Some d -> Unix.sleepf d\n",
    "  | None -> ());\n",
    "  Pkp.Misc.print_msg msg"
   ]
  },
  {
   "cell_type": "code",
   "execution_count": null,
   "metadata": {},
   "outputs": [],
   "source": [
    "let _ = wait_and_print \"It's urgent.\""
   ]
  },
  {
   "cell_type": "code",
   "execution_count": null,
   "metadata": {},
   "outputs": [],
   "source": [
    "let _ = wait_and_print ~duration:2.0 \"No hurry.\""
   ]
  },
  {
   "cell_type": "markdown",
   "metadata": {},
   "source": [
    "You can also specify default values for optional parameters, in which case their type becomes `'a` again instead of `'a option`:"
   ]
  },
  {
   "cell_type": "code",
   "execution_count": null,
   "metadata": {},
   "outputs": [],
   "source": [
    "let wait_and_print ?(duration = 1.0) msg =\n",
    "  Unix.sleepf duration;\n",
    "  Pkp.Misc.print_msg msg"
   ]
  },
  {
   "cell_type": "markdown",
   "metadata": {},
   "source": [
    "### Recursive functions"
   ]
  },
  {
   "cell_type": "markdown",
   "metadata": {},
   "source": [
    "These are functions that call themselves. Sounds like a loopy thing? It sure is:"
   ]
  },
  {
   "cell_type": "code",
   "execution_count": null,
   "metadata": {},
   "outputs": [],
   "source": [
    "let rec sum_until n = if n < 1 then 0 else n + sum_until (n - 1)"
   ]
  },
  {
   "cell_type": "code",
   "execution_count": null,
   "metadata": {},
   "outputs": [],
   "source": [
    "let _ = sum_until 500 (* try 500000 though... *)"
   ]
  },
  {
   "cell_type": "markdown",
   "metadata": {},
   "source": [
    "To avoid memory problems with recursion, you will often want to write recursive functions whose last thing they do is to call themselves (note that above, the last thing the function does is not to call `sum_until`, but to call the `(+)` function):"
   ]
  },
  {
   "cell_type": "code",
   "execution_count": null,
   "metadata": {},
   "outputs": [],
   "source": [
    "let sum_until n =\n",
    "  let rec iter accu n = if n < 1 then accu else iter (accu + n) (n - 1) in\n",
    "  iter 0 n"
   ]
  },
  {
   "cell_type": "code",
   "execution_count": null,
   "metadata": {},
   "outputs": [],
   "source": [
    "let _ = sum_until 5000000"
   ]
  },
  {
   "cell_type": "markdown",
   "metadata": {},
   "source": [
    "The possibility of writing recursive functions essentially means you no longer need “for loops” (don't worry if you don't even know what that is ^^). "
   ]
  },
  {
   "cell_type": "markdown",
   "metadata": {},
   "source": [
    "## Data structures\n",
    "\n",
    "### Lists\n",
    "\n",
    "Lists are the bread & butter of most FP languages, so here are a couple of useful functions to manipulate them (all those functions can be found in module `List`). Take some time to inspect the type of these functions, and their documentation (using `Shift-Tab` to call out a tooltip)."
   ]
  },
  {
   "cell_type": "code",
   "execution_count": null,
   "metadata": {},
   "outputs": [],
   "source": [
    "let x = List.init 5 (fun i -> i + 3)"
   ]
  },
  {
   "cell_type": "code",
   "execution_count": null,
   "metadata": {},
   "outputs": [],
   "source": [
    "let _ = List.length x"
   ]
  },
  {
   "cell_type": "code",
   "execution_count": null,
   "metadata": {},
   "outputs": [],
   "source": [
    "let _ = x @ x (* list concatenation *)"
   ]
  },
  {
   "cell_type": "code",
   "execution_count": null,
   "metadata": {},
   "outputs": [],
   "source": [
    "let _ = List.rev x"
   ]
  },
  {
   "cell_type": "code",
   "execution_count": null,
   "metadata": {},
   "outputs": [],
   "source": [
    "let _ = List.filter (fun z -> z > 4) x"
   ]
  },
  {
   "cell_type": "code",
   "execution_count": null,
   "metadata": {},
   "outputs": [],
   "source": [
    "let _ = List.fold_left (fun accu z -> accu + z) 0 x"
   ]
  },
  {
   "cell_type": "markdown",
   "metadata": {},
   "source": [
    "which says \"accumulate the sum of all elements in `x`, from left to right, starting with 0. This `fold` function is very often used in FP.\n",
    "\n",
    "Let's look at another example of `fold`. First, let me introduce you to “operators”, which are just special functions of 2 arguments with a nice syntax:"
   ]
  },
  {
   "cell_type": "code",
   "execution_count": null,
   "metadata": {},
   "outputs": [],
   "source": [
    "let _ = 1 + 2"
   ]
  },
  {
   "cell_type": "markdown",
   "metadata": {},
   "source": [
    "is the same as"
   ]
  },
  {
   "cell_type": "code",
   "execution_count": null,
   "metadata": {},
   "outputs": [],
   "source": [
    "let _ = ( + )  1 2"
   ]
  },
  {
   "cell_type": "markdown",
   "metadata": {},
   "source": [
    "as indeed, _this_ ↓ is the `add` function:"
   ]
  },
  {
   "cell_type": "code",
   "execution_count": null,
   "metadata": {},
   "outputs": [],
   "source": [
    "let _ = ( + )"
   ]
  },
  {
   "cell_type": "markdown",
   "metadata": {},
   "source": [
    "So, given that:"
   ]
  },
  {
   "cell_type": "code",
   "execution_count": null,
   "metadata": {},
   "outputs": [],
   "source": [
    "let _ = \"pkp\" ^ \" \" ^ \"neuro\""
   ]
  },
  {
   "cell_type": "markdown",
   "metadata": {},
   "source": [
    "can you guess what _this function_ ↓ does?"
   ]
  },
  {
   "cell_type": "code",
   "execution_count": null,
   "metadata": {},
   "outputs": [],
   "source": [
    "let _ = List.fold_left ( ^ ) \"\""
   ]
  },
  {
   "cell_type": "markdown",
   "metadata": {},
   "source": [
    "Iterators and maps are other important functional programming constructs:"
   ]
  },
  {
   "cell_type": "code",
   "execution_count": null,
   "metadata": {},
   "outputs": [],
   "source": [
    "let _ = List.map (fun z -> z * z) x"
   ]
  },
  {
   "cell_type": "code",
   "execution_count": null,
   "metadata": {},
   "outputs": [],
   "source": [
    "let _ = List.mapi (fun i z -> i, z) x"
   ]
  },
  {
   "cell_type": "code",
   "execution_count": null,
   "metadata": {},
   "outputs": [],
   "source": [
    "let _ =\n",
    "  List.iter\n",
    "    (fun z ->\n",
    "      Jupyter_notebook.printf \"%i\" z;\n",
    "      Jupyter_notebook.display_formatter \"text/plain\" |> ignore)\n",
    "    x"
   ]
  },
  {
   "cell_type": "markdown",
   "metadata": {},
   "source": [
    "When you are iterating over / mapping a long list, and the computation performed over each element takes a lot of time, you will want to monitor progress. This can be easily done using the `Pkp.Misc.with_indicator` function, which takes an `iteri` or `mapi`-type function, and returns a similar function with automatic progress report in the output of the cell. For example:"
   ]
  },
  {
   "cell_type": "code",
   "execution_count": null,
   "metadata": {},
   "outputs": [],
   "source": [
    "let _ =\n",
    "  (Pkp.Misc.with_indicator List.mapi)\n",
    "    (fun i z ->\n",
    "      Unix.sleep i;\n",
    "      z * z)\n",
    "    x"
   ]
  },
  {
   "cell_type": "markdown",
   "metadata": {},
   "source": [
    "<div style=\"color: orange;\"><b>EXERCISE</b> (easy)</div>\n",
    "\n",
    "Write `List.rev` (list reversal) from scratch, without using any of the functions in module `List`."
   ]
  },
  {
   "cell_type": "markdown",
   "metadata": {},
   "source": [
    "<div style=\"color: orange;\"><b>EXERCISE</b> (advanced)</div>\n",
    "\n",
    "Using `List.fold_left`, write a function `f` such that when applied to<br>\n",
    "`[0; 0; 2; 2; 2; 5; 6; 6]` gives<br>\n",
    "`[0; 0; 1; 1; 1; 2; 3; 3]` (you get the idea of the more general behaviour)."
   ]
  },
  {
   "cell_type": "markdown",
   "metadata": {},
   "source": [
    "### Arrays\n",
    "\n",
    "Arrays are an example of “mutable data structure”, i.e. data that you can modify (“pure FP languages“ don't even have those):"
   ]
  },
  {
   "cell_type": "code",
   "execution_count": null,
   "metadata": {},
   "outputs": [],
   "source": [
    "let x = Array.make 5 0"
   ]
  },
  {
   "cell_type": "code",
   "execution_count": null,
   "metadata": {},
   "outputs": [],
   "source": [
    "let _ = x.(3) <- 1"
   ]
  },
  {
   "cell_type": "code",
   "execution_count": null,
   "metadata": {},
   "outputs": [],
   "source": [
    "let _ = x"
   ]
  },
  {
   "cell_type": "markdown",
   "metadata": {},
   "source": [
    "Exercise: look up module `Array` and redo all the steps taken above for lists, now with arrays. Tip: use `Tab` autocompletion on `Array.` to get a popup with all functions in that module. Here is one to get you started:"
   ]
  },
  {
   "cell_type": "code",
   "execution_count": null,
   "metadata": {},
   "outputs": [],
   "source": [
    "let x = Array.init 5 (fun i -> i + 3)"
   ]
  },
  {
   "cell_type": "markdown",
   "metadata": {},
   "source": [
    "Note that just like you can make lists of anything, you can also make arrays of anything. And so, you can make arrays of arrays of anything ─ i.e. matrices:"
   ]
  },
  {
   "cell_type": "code",
   "execution_count": null,
   "metadata": {},
   "outputs": [],
   "source": [
    "let m = Array.init 3 (fun i -> Array.init 5 (fun j -> i, j))"
   ]
  },
  {
   "cell_type": "markdown",
   "metadata": {},
   "source": [
    "### A more sophisticated example of custom types and pattern matching \n",
    "\n",
    "Here is a slightly more elaborate use of types and pattern matching."
   ]
  },
  {
   "cell_type": "code",
   "execution_count": null,
   "metadata": {},
   "outputs": [],
   "source": [
    "type bag =\n",
    "  { n : int (* number of elements in the bag *)\n",
    "  ; weight : float (* weight of the bag *)\n",
    "  }"
   ]
  },
  {
   "cell_type": "code",
   "execution_count": null,
   "metadata": {},
   "outputs": [],
   "source": [
    "type item = Potato of bag | Onion of bag"
   ]
  },
  {
   "cell_type": "markdown",
   "metadata": {},
   "source": [
    "Let's construct toy data:"
   ]
  },
  {
   "cell_type": "code",
   "execution_count": null,
   "metadata": {},
   "outputs": [],
   "source": [
    "let my_groceries =\n",
    "  List.init 10 (fun _ ->\n",
    "      let bag = { n = Random.int 100; weight = Random.float 100. } in\n",
    "      if Random.bool () then Potato bag else Onion bag)"
   ]
  },
  {
   "cell_type": "markdown",
   "metadata": {},
   "source": [
    "Let us write a function that counts all potatoes in a list of items (such as `my_groceries`):"
   ]
  },
  {
   "cell_type": "code",
   "execution_count": null,
   "metadata": {},
   "outputs": [],
   "source": [
    "let count_potatoes groceries =\n",
    "  List.fold_left\n",
    "    (fun accu item ->\n",
    "      match item with\n",
    "      | Potato bag -> accu + bag.n\n",
    "      | Onion _ -> accu)\n",
    "    0 groceries"
   ]
  },
  {
   "cell_type": "markdown",
   "metadata": {},
   "source": [
    "Side note: you can even remove the two occurrences of `groceries` in the function definition above, just like \n",
    "```ocaml\n",
    "let number_of_bags groceries = List.length groceries\n",
    "```\n",
    "\n",
    "is the same thing as as \n",
    "```ocaml\n",
    "let number_of_bags = List.length\n",
    "```"
   ]
  },
  {
   "cell_type": "code",
   "execution_count": null,
   "metadata": {},
   "outputs": [],
   "source": [
    "let _ = count_potatoes my_groceries"
   ]
  },
  {
   "cell_type": "markdown",
   "metadata": {},
   "source": [
    "Exercise: can you write a function `total_weight` that adds up the weights of all items?"
   ]
  },
  {
   "cell_type": "code",
   "execution_count": null,
   "metadata": {},
   "outputs": [],
   "source": [
    "let total_weight groceries = (* fill in here *) 0.0"
   ]
  },
  {
   "cell_type": "code",
   "execution_count": null,
   "metadata": {},
   "outputs": [],
   "source": [
    "let _ = total_weight my_groceries"
   ]
  },
  {
   "cell_type": "markdown",
   "metadata": {},
   "source": [
    "At this stage, I have shown you enough OCaml to enable you to write sophisticated algorithms (you might need further diggestion at home, + practice, though ^^). In our neuroscience tutorials, you will be able to use library functions that I wrote, and I encourage you to actually look at the [code on the github repository](https://github.com/ghennequin/pkp-tutorials).\n",
    "\n",
    "In the rest of this tutorial, we will look at `Owl`, the OCaml numerical computing library, as well as how to draw graphs in Jupyter notebooks."
   ]
  },
  {
   "cell_type": "markdown",
   "metadata": {},
   "source": [
    "## Miscellaneous\n",
    "\n",
    "I very often use the `|>` operator, which is defined as\n",
    "```ocaml\n",
    "let ( |> ) x f = f x\n",
    "```\n",
    "(and it's already defined in OCaml by default).\n",
    "\n",
    "So `|> f` means \"apply function f to the expression just before\". For example:"
   ]
  },
  {
   "cell_type": "code",
   "execution_count": null,
   "metadata": {},
   "outputs": [],
   "source": [
    "(* compute the sum of all even integers between 0 and 999 *)\n",
    "\n",
    "(* the \"standard version\" (of an admittedly inefficient recipe)\n",
    "   would be something like: *)\n",
    "\n",
    "let result =\n",
    "  let all_numbers = List.init 1000 (fun i -> i) in\n",
    "  let even_numbers = List.filter (fun i -> i mod 2 = 0) all_numbers in\n",
    "  List.fold_left ( + ) 0 even_numbers\n",
    "\n",
    "(* ... where you have to come up with names for intermediate variables;\n",
    "    alternatively, you could write: *)\n",
    "\n",
    "let result =\n",
    "  List.fold_left\n",
    "    ( + )\n",
    "    0\n",
    "    (List.filter (fun i -> i mod 2 = 0) (List.init 1000 (fun i -> i)))\n",
    "\n",
    "(* but this kind of nesting gets very difficult to read;\n",
    "   Instead, consider using the |> operator: *)\n",
    "\n",
    "let result =\n",
    "  List.init 1000 (fun i -> i)\n",
    "  |> List.filter (fun x -> x mod 2 = 0)\n",
    "  |> List.fold_left ( + ) 0"
   ]
  },
  {
   "cell_type": "markdown",
   "metadata": {},
   "source": [
    "# Numerical computing with Owl\n",
    "\n",
    "[Owl](http://ocaml.xyz) is a library for scientific computing in OCaml. There is an [awful lot it can do](http://demo.ocaml.xyz/neuraltrans.html), but in this course we are mostly going to use its ability to manipulate data arrays:\n",
    "1. create arrays (vectors, matrices, ...)\n",
    "2. transform arrays via map, iter, math operators, ...\n",
    "3. slice arrays (extract some rows / columns, filter, ...)\n",
    "\n",
    "If you are already familiar with Matlab or Python's `numpy`, this section should be relatively straightforward.\n",
    "After you are done absorbing this quick intro below, I recommend you also take a look at the [matrix chapter of the Owl manual](http://ocaml.xyz/chapter/matrix.html)."
   ]
  },
  {
   "cell_type": "code",
   "execution_count": null,
   "metadata": {},
   "outputs": [],
   "source": [
    "open Owl"
   ]
  },
  {
   "cell_type": "markdown",
   "metadata": {},
   "source": [
    "### Creating matrices or higher-dimensional data arrays\n",
    "\n",
    "Most matrix-related functions are in the `Mat` module:"
   ]
  },
  {
   "cell_type": "code",
   "execution_count": null,
   "metadata": {},
   "outputs": [],
   "source": [
    "let x = Mat.zeros 2 5"
   ]
  },
  {
   "cell_type": "code",
   "execution_count": null,
   "metadata": {},
   "outputs": [],
   "source": [
    "let _ = Mat.shape x (* see also Mat.row_num and Mat.col_num *)"
   ]
  },
  {
   "cell_type": "code",
   "execution_count": null,
   "metadata": {},
   "outputs": [],
   "source": [
    "let _ = Mat.gaussian 3 1 "
   ]
  },
  {
   "cell_type": "code",
   "execution_count": null,
   "metadata": {},
   "outputs": [],
   "source": [
    "(* 'eye' for 'I' : the identity matrix; don't ask me who came up with that name *)\n",
    "let _ = Mat.eye 4"
   ]
  },
  {
   "cell_type": "markdown",
   "metadata": {},
   "source": [
    "A very useful function is the `init_2d` function:"
   ]
  },
  {
   "cell_type": "code",
   "execution_count": null,
   "metadata": {},
   "outputs": [],
   "source": [
    "let _ =\n",
    "  let x = Mat.init_2d 100 100 (fun i j -> Maths.(exp (-.sqr (float (i - j)) /. 200.))) in\n",
    "  (* sneak peek into plotting module ─ don't look now :) *)\n",
    "  let open Gp in\n",
    "  let figure (module P : Plot) =\n",
    "    P.heatmap x (default_props @ [ set \"size square\" ])\n",
    "  in\n",
    "  Juplot.draw ~size:(200, 200) figure"
   ]
  },
  {
   "cell_type": "markdown",
   "metadata": {},
   "source": [
    "Concatenation of matrices:"
   ]
  },
  {
   "cell_type": "code",
   "execution_count": null,
   "metadata": {},
   "outputs": [],
   "source": [
    "let _ =\n",
    "  let x1 = Mat.zeros 4 2 in\n",
    "  let x2 = Mat.ones 4 1 in\n",
    "  Mat.(x1 @|| x2)\n",
    "\n",
    "(* see also @= for vertical, instead of horizontal, matrix concatenation*)"
   ]
  },
  {
   "cell_type": "markdown",
   "metadata": {},
   "source": [
    "Concatenating a whole array of matrices:"
   ]
  },
  {
   "cell_type": "code",
   "execution_count": null,
   "metadata": {},
   "outputs": [],
   "source": [
    "let _ = Array.init 5 (fun i -> Mat.create 3 1 (float i)) |> Mat.concatenate ~axis:1"
   ]
  },
  {
   "cell_type": "code",
   "execution_count": null,
   "metadata": {},
   "outputs": [],
   "source": [
    "let four_blocks =\n",
    "  let x11 = Mat.zeros 2 3 in\n",
    "  let x12 = Mat.create 2 2 6. in\n",
    "  let x21 = Mat.eye 3 in\n",
    "  let x22 = Mat.create 3 2 19. in\n",
    "  Mat.concat_vh [| [| x11; x12 |]; [| x21; x22 |] |]"
   ]
  },
  {
   "cell_type": "markdown",
   "metadata": {},
   "source": [
    "We can also make arrays of arbitrary dimensions using the `Arr` module; for example, we can make an array of 2 matrices of size `3x4`:"
   ]
  },
  {
   "cell_type": "code",
   "execution_count": null,
   "metadata": {},
   "outputs": [],
   "source": [
    "let x_3d = Arr.ones [| 2; 3; 4 |]"
   ]
  },
  {
   "cell_type": "markdown",
   "metadata": {},
   "source": [
    "### Transforming / Computing with matrices"
   ]
  },
  {
   "cell_type": "code",
   "execution_count": null,
   "metadata": {},
   "outputs": [],
   "source": [
    "let x = Mat.sequential 2 3"
   ]
  },
  {
   "cell_type": "code",
   "execution_count": null,
   "metadata": {},
   "outputs": [],
   "source": [
    "let _ = Mat.transpose x"
   ]
  },
  {
   "cell_type": "code",
   "execution_count": null,
   "metadata": {},
   "outputs": [],
   "source": [
    "let _ = Mat.(x + x)"
   ]
  },
  {
   "cell_type": "markdown",
   "metadata": {},
   "source": [
    "(notice that we need `Mat.( ... )` parentheses because the `+` operator belongs to module `Mat`)."
   ]
  },
  {
   "cell_type": "code",
   "execution_count": null,
   "metadata": {},
   "outputs": [],
   "source": [
    "let _ = Mat.(x * x)\n",
    "\n",
    "(* warning: '*' is NOT the matrix product we all know and love;\n",
    "            it is element-wise multiplication *)"
   ]
  },
  {
   "cell_type": "code",
   "execution_count": null,
   "metadata": {},
   "outputs": [],
   "source": [
    "let _ = Mat.(x *@ transpose x)\n",
    "\n",
    "(* '*@' IS matrix multiplication *)"
   ]
  },
  {
   "cell_type": "markdown",
   "metadata": {},
   "source": [
    "When the operation involves a scalar on the left, just add `$` to the left, as in:"
   ]
  },
  {
   "cell_type": "code",
   "execution_count": null,
   "metadata": {},
   "outputs": [],
   "source": [
    "let _ = Mat.(3. $* x)"
   ]
  },
  {
   "cell_type": "markdown",
   "metadata": {},
   "source": [
    "When the scalar is on the right, add `$` to the right:"
   ]
  },
  {
   "cell_type": "code",
   "execution_count": null,
   "metadata": {},
   "outputs": [],
   "source": [
    "let _ = Mat.(x /$ 2.0)"
   ]
  },
  {
   "cell_type": "markdown",
   "metadata": {},
   "source": [
    "Module `Mat` has a couple of standard math functions, which apply the same function to each element of the matrix:"
   ]
  },
  {
   "cell_type": "code",
   "execution_count": null,
   "metadata": {},
   "outputs": [],
   "source": [
    "let _ = Mat.sqrt x"
   ]
  },
  {
   "cell_type": "code",
   "execution_count": null,
   "metadata": {},
   "outputs": [],
   "source": [
    "let _ = Mat.exp x"
   ]
  },
  {
   "cell_type": "markdown",
   "metadata": {},
   "source": [
    "Note the following subtlety that comes up sometimes (look at the error you get):"
   ]
  },
  {
   "cell_type": "code",
   "execution_count": null,
   "metadata": {},
   "outputs": [],
   "source": [
    "let _ = Mat.(sqrt 2. $* eye 3)"
   ]
  },
  {
   "cell_type": "markdown",
   "metadata": {},
   "source": [
    "That's because `sqrt` is redefined by the `Mat` module to operate on the `Mat.mat` type; `Mat.sqrt` has overshadowed the `sqrt: float → float` of the standard library. The way to write this is to locally open the `Maths` module which contains all these math operators for scalar values:"
   ]
  },
  {
   "cell_type": "code",
   "execution_count": null,
   "metadata": {},
   "outputs": [],
   "source": [
    "let _ = Mat.(Maths.(sqrt 2.0) $* eye 3)"
   ]
  },
  {
   "cell_type": "markdown",
   "metadata": {},
   "source": [
    "Sum of elements in each row (i.e. \"sum along the second axis\"):"
   ]
  },
  {
   "cell_type": "code",
   "execution_count": null,
   "metadata": {},
   "outputs": [],
   "source": [
    "let _ = Mat.sum ~axis:1 x (* axis:0 would be \"sum along the first axis\" *)"
   ]
  },
  {
   "cell_type": "markdown",
   "metadata": {},
   "source": [
    "Maximum of each column (so \"maximum along the first (vertical) axis\" *):"
   ]
  },
  {
   "cell_type": "code",
   "execution_count": null,
   "metadata": {},
   "outputs": [],
   "source": [
    "let _ = Mat.max ~axis:0 x"
   ]
  },
  {
   "cell_type": "markdown",
   "metadata": {},
   "source": [
    "For computations on matrices that are supposed to return a single scalar number (e.g. total sum of all elements), Owl has the useful convention that the name of these functions end with `'`. For example:"
   ]
  },
  {
   "cell_type": "code",
   "execution_count": null,
   "metadata": {},
   "outputs": [],
   "source": [
    "let _ = Mat.sum' x"
   ]
  },
  {
   "cell_type": "code",
   "execution_count": null,
   "metadata": {},
   "outputs": [],
   "source": [
    "let _ = Mat.max' x"
   ]
  },
  {
   "cell_type": "markdown",
   "metadata": {},
   "source": [
    "### Slicing and indexing"
   ]
  },
  {
   "cell_type": "markdown",
   "metadata": {},
   "source": [
    "This is already well explained [here](http://ocaml.xyz/chapter/slicing.html), but briefly:"
   ]
  },
  {
   "cell_type": "code",
   "execution_count": null,
   "metadata": {},
   "outputs": [],
   "source": [
    "let x = Mat.sequential 3 5"
   ]
  },
  {
   "cell_type": "code",
   "execution_count": null,
   "metadata": {},
   "outputs": [],
   "source": [
    "(* 3rd row *)\n",
    "let _ = Mat.row x 2"
   ]
  },
  {
   "cell_type": "code",
   "execution_count": null,
   "metadata": {},
   "outputs": [],
   "source": [
    "(* first column *)\n",
    "let _ = Mat.col x 0"
   ]
  },
  {
   "cell_type": "code",
   "execution_count": null,
   "metadata": {},
   "outputs": [],
   "source": [
    "(* last column! *)\n",
    "let _ = Mat.col x (-1)"
   ]
  },
  {
   "cell_type": "code",
   "execution_count": null,
   "metadata": {},
   "outputs": [],
   "source": [
    "x"
   ]
  },
  {
   "cell_type": "code",
   "execution_count": null,
   "metadata": {},
   "outputs": [],
   "source": [
    "(* select rows 0 to 1, and columns 2 to 4 *)\n",
    "let _ = Mat.get_slice [ [ 0; 1 ]; [ 2; 4 ] ] x"
   ]
  },
  {
   "cell_type": "markdown",
   "metadata": {},
   "source": [
    "When you want to keep all rows (or columns), leave an empty `[]`:"
   ]
  },
  {
   "cell_type": "code",
   "execution_count": null,
   "metadata": {},
   "outputs": [],
   "source": [
    "let _ = Mat.get_slice [ []; [ 2; 4 ] ] x"
   ]
  },
  {
   "cell_type": "markdown",
   "metadata": {},
   "source": [
    "# Plotting results\n",
    "\n",
    "To make plots, we will use the `Gp` and `Juplot` modules.\n",
    "Both are [documented here](https://hennequin-lab.github.io/docs).\n",
    "Module `Gp` is the main plotting module, which is essentially an OCaml interface to [Gnuplot](http://www.gnuplot.info). The way it works:\n",
    "\n",
    "1. Using `Gp`, you define a figure, which is a `(module Gp.Plot) -> unit` function (see below) which can be plotted on a variety of backends\n",
    "2. Using the Jupyter backend provided by Juplot, using `Juplot.draw`.\n",
    "\n",
    "Let's go through examples."
   ]
  },
  {
   "cell_type": "code",
   "execution_count": null,
   "metadata": {},
   "outputs": [],
   "source": [
    "open Owl\n",
    "\n",
    "(* this will usually be open at the beginning\n",
    "   of every notebook, for convenience *)\n",
    "open Gp"
   ]
  },
  {
   "cell_type": "code",
   "execution_count": null,
   "metadata": {},
   "outputs": [],
   "source": [
    "let x = Mat.uniform 1 30"
   ]
  },
  {
   "cell_type": "code",
   "execution_count": null,
   "metadata": {},
   "outputs": [],
   "source": [
    "let figure (module P : Plot) =\n",
    "  (* now all the useful plotting functions are in module P *)\n",
    "  P.plot (A x) [ barebone ]"
   ]
  },
  {
   "cell_type": "markdown",
   "metadata": {},
   "source": [
    "Here, `(A x)` means you're plotting a simple owl `A`rray, and the last argument is a list of plot properties (borders, margins, axis labels, etc). `barebone` is essentially resetting all these properties so you get an empty plot. To make visually appealing figures, it's good practice to start with the bare minimum, and progressively add what you really need."
   ]
  },
  {
   "cell_type": "code",
   "execution_count": null,
   "metadata": {},
   "outputs": [],
   "source": [
    "let () = Juplot.draw figure"
   ]
  },
  {
   "cell_type": "markdown",
   "metadata": {},
   "source": [
    "So let's make this figure prettier. E.g. make the plot smaller, use default plot properties to add borders and tics, and plot these unrelated data points as unconnected dots (as they should be):"
   ]
  },
  {
   "cell_type": "code",
   "execution_count": null,
   "metadata": {},
   "outputs": [],
   "source": [
    "let _ =\n",
    "  let figure (module P : Plot) =\n",
    "    P.plot (A x) ~style:\"p pt 7 lc 8 ps 0.6\" default_props\n",
    "  in\n",
    "  Juplot.draw ~size:(300, 200) figure"
   ]
  },
  {
   "cell_type": "markdown",
   "metadata": {},
   "source": [
    "The style follows the gnuplot conventions directly. While `\"p pt 7 lc 8 ps 0.6\"` looks cryptic at first, it actually means `points pointtype 7 linecolor 8 pointsize 0.6`. Which looks equally cryptic ^^. By the end of the week, your brain will have absorbed the meaning of these numbers, but for now, here's a pro tip (complimentary):"
   ]
  },
  {
   "cell_type": "code",
   "execution_count": null,
   "metadata": {},
   "outputs": [],
   "source": [
    "let _ =\n",
    "  let figure (module P : Plot) = P.ex \"test\" in\n",
    "  Juplot.draw figure"
   ]
  },
  {
   "cell_type": "markdown",
   "metadata": {},
   "source": [
    "On the right, you can see that `pointtype 7` means “filled circles”, and `linecolor 8` means “black”). `pointsize 0.6` is relative to the point size of `1` which is the one displayed in the test figure above.\n",
    "\n",
    "For colors, you can alternatively specify your own:"
   ]
  },
  {
   "cell_type": "code",
   "execution_count": null,
   "metadata": {},
   "outputs": [],
   "source": [
    "let _ =\n",
    "  let figure (module P : Plot) =\n",
    "    P.plot (A x) ~style:\"p pt 7 lc rgb '#ffa500' ps 0.6\" [ barebone ]\n",
    "  in\n",
    "  Juplot.draw ~size:(300, 200) figure"
   ]
  },
  {
   "cell_type": "markdown",
   "metadata": {},
   "source": [
    "Let's carry on prettifying this plot:"
   ]
  },
  {
   "cell_type": "code",
   "execution_count": null,
   "metadata": {},
   "outputs": [],
   "source": [
    "let _ =\n",
    "  let figure (module P : Plot) =\n",
    "    P.plot\n",
    "      (A x)\n",
    "      ~style:\"p pt 7 lc rgb 'black' ps 0.6\"\n",
    "      [ barebone\n",
    "      ; borders [ `left; `bottom ]\n",
    "      ; xlabel \"PKP student ID (randomised)\"\n",
    "      ; ylabel \"IQ (arbitrary units)\"\n",
    "      ; xtics `auto\n",
    "      ; ytics (`regular [ 0.; 0.5 ])\n",
    "      ]\n",
    "  in\n",
    "  Juplot.draw ~size:(300, 200) figure"
   ]
  },
  {
   "cell_type": "markdown",
   "metadata": {},
   "source": [
    "Let's try a multi-panel figure. Note that figures are \"composable\", ie you can define separate figures for each panel and compose them at the end. For the first panel, I'll add another bunch of dots (say, another cohort of PKP students) to show you how to plot multiple datasets within the same plot/axes."
   ]
  },
  {
   "cell_type": "code",
   "execution_count": null,
   "metadata": {},
   "outputs": [],
   "source": [
    "let y = Mat.uniform 1 30"
   ]
  },
  {
   "cell_type": "code",
   "execution_count": null,
   "metadata": {},
   "outputs": [],
   "source": [
    "let panel1 (module P : Plot) =\n",
    "  P.plots\n",
    "    [ item (A x) ~style:\"p pt 7 lc 8 ps 0.6\"; item (A y) ~style:\"p pt 7 lc 7 ps 0.6\" ]\n",
    "    [ barebone\n",
    "    ; margins [ `left 0.15; `right 0.5; `top 0.95; `bottom 0.3 ]\n",
    "    ; borders [ `left; `bottom ]\n",
    "    ; xlabel \"PKP student ID (randomised)\"\n",
    "    ; ylabel \"IQ (arbitrary units)\"\n",
    "    ; xtics `auto ~o:\"out nomirror\"\n",
    "    ; ytics (`regular [ 0.; 0.5 ]) ~o:\"out nomirror\"\n",
    "    ]"
   ]
  },
  {
   "cell_type": "markdown",
   "metadata": {},
   "source": [
    "In gnuplot, `margins` is how we define the location of the plot within the entire canvas; units go from 0 (lefmost, or bottommost) to 1 (rightmost, or topmost)."
   ]
  },
  {
   "cell_type": "code",
   "execution_count": null,
   "metadata": {},
   "outputs": [],
   "source": [
    "let panel2 (module P : Plot) =\n",
    "  let x = Mat.init 1 21 float in\n",
    "  let y = Mat.log x in\n",
    "  P.plot\n",
    "    (L [ x; y ])\n",
    "    ~style:\"lp pt 5 lc 8 ps 0.6\"\n",
    "    (* lp for \"linespoints\" -- points connected by lines *)\n",
    "    [ barebone\n",
    "    ; margins [ `left 0.65; `right 0.95; `top 0.95; `bottom 0.3 ]\n",
    "    ; borders [ `left; `bottom ]\n",
    "    ; xlabel \"PKP teaching day #\"\n",
    "    ; ylabel \"student motivation\"\n",
    "    ; xtics (`regular [ 0.; 5. ])\n",
    "    ; ytics `auto\n",
    "    ]"
   ]
  },
  {
   "cell_type": "markdown",
   "metadata": {},
   "source": [
    "Now, compose the two panels and plot:"
   ]
  },
  {
   "cell_type": "code",
   "execution_count": null,
   "metadata": {},
   "outputs": [],
   "source": [
    "let _ =\n",
    "  let figure (module P : Plot) =\n",
    "    panel1 (module P);\n",
    "    panel2 (module P)\n",
    "  in\n",
    "  Juplot.draw ~size:(700, 200) figure"
   ]
  },
  {
   "cell_type": "markdown",
   "metadata": {},
   "source": [
    "Finally, to plot an OCaml function over an x-range:"
   ]
  },
  {
   "cell_type": "code",
   "execution_count": null,
   "metadata": {},
   "outputs": [],
   "source": [
    "let () =\n",
    "  let figure (module P : Plot) =\n",
    "    P.plot (F (log, Mat.linspace 1. 100. 500)) default_props\n",
    "  in\n",
    "  Juplot.draw ~size:(300, 200) figure"
   ]
  },
  {
   "cell_type": "code",
   "execution_count": null,
   "metadata": {},
   "outputs": [],
   "source": [
    "let () =\n",
    "  let y0 = 1990.\n",
    "  and y1 = 2018. in\n",
    "  let n_bins = int_of_float (y1 -. y0) in\n",
    "  let x = Mat.linspace y0 y1 n_bins in\n",
    "  let y = Mat.uniform ~a:12. ~b:30. n_bins 1 in\n",
    "  let figure (module P : Plot) =\n",
    "    let props =\n",
    "      [ title \"Test plot\"\n",
    "      ; borders [ `bottom; `left ]\n",
    "      ; xlabel \"year\"\n",
    "      ; ylabel \"temperature\"\n",
    "      ; xtics (`regular [ y0; 5.; y1 ])\n",
    "      ; ytics `auto\n",
    "      ; xrange (y0, y1)\n",
    "      ; unset \"key\"\n",
    "      ; set \"autoscale y\"\n",
    "      ]\n",
    "    in\n",
    "    P.plot (L [ x; y ]) ~style:\"lp pt 7 lc 8 lw 2\" props\n",
    "  in\n",
    "  Juplot.draw figure"
   ]
  },
  {
   "cell_type": "markdown",
   "metadata": {},
   "source": [
    "I think that's it for now! Have fun going through this notebook 10 times until you understand everything :)"
   ]
  },
  {
   "cell_type": "markdown",
   "metadata": {},
   "source": [
    "----\n",
    "\n",
    "# Going further\n",
    "\n",
    "A lot of general information can be found on the [official ocaml website](http://ocaml.org). For learning, the following are good online resources:\n",
    "1. the [real world OCaml book](http://dev.realworldocaml.org) (fully available online) ─ in particular, the first part on \"Language concepts\" is fantastic. Do begin with the great [guided tour](http://dev.realworldocaml.org/guided-tour.html).\n",
    "2. official [OCaml manual](http://caml.inria.fr/pub/docs/manual-ocaml/) ─ in particular, the [documentation of the standard library](http://caml.inria.fr/pub/docs/manual-ocaml/stdlib.html) is really helpful\n",
    "3. a great set of [tutorials](http://ocaml.org/learn/tutorials/)\n",
    "4. [online lessons](https://try.ocamlpro.com) with a rudimentary browser-based interpreter (kind of a step down from Jupyter though...)\n",
    "5. the [Owl website](http://ocaml.xyz)\n",
    "6. the online documentation of the [`Gp` module](https://hennequin-lab.github.io/docs/gp/Gp/index.html) and [`Juplot` module](https://hennequin-lab.github.io/docs/juplot/Juplot/index.html)"
   ]
  }
 ],
 "metadata": {
  "kernelspec": {
   "display_name": "OCaml 4.07.1+flambda",
   "language": "OCaml",
   "name": "ocaml-jupyter"
  },
  "language_info": {
   "codemirror_mode": "text/x-ocaml",
   "file_extension": ".ml",
   "mimetype": "text/x-ocaml",
   "name": "OCaml",
   "nbconverter_exporter": null,
   "pygments_lexer": "OCaml",
   "version": "4.07.1"
  }
 },
 "nbformat": 4,
 "nbformat_minor": 2
}
