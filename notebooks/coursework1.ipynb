{
 "cells": [
  {
   "cell_type": "markdown",
   "metadata": {},
   "source": [
    "# COURSEWORK 1\n",
    "\n",
    "<span style=\"color: #ffac00; font-weight: bold;\">SUBMISSION DEADLINE:</span> Thursday 8 August 6pm. \n",
    "\n",
    "Please answer ONE question of your choice, out of the two questions below.\n",
    "Your answer should be 500 words max (+ code).\n",
    "\n",
    "- Write your answer directly in markdown cells below, in this notebook.\n",
    "- Do include simulation code + figures, but do not limit your answer to these; instead, write a _narrative_.\n",
    "- Make sure to submit a clean notebook; in particular:\n",
    "   - all cells must have been evaluated without errors; do not “clear outputs” before submitting\n",
    "   - the whole notebook is *linear*, i.e. can be re-evaluated (e.g. by me!) by only moving forward cell by cell.\n",
    "   \n",
    "To submit, download your notebook as an `.ipynb` file, and drag-and-drop your file in a direct message to me on [slack](https://pkp-neuro.slack.com).\n",
    "\n",
    "\n",
    "Remember: I am on slack to help you with OCaml; don't hesitate to ask me \"how do we do this, ...\" if you get stuck; I will generally answer, as long as you are not asking for the entire solution to the coursework :)"
   ]
  },
  {
   "cell_type": "markdown",
   "metadata": {},
   "source": [
    "**Please replace this line with your student PID**"
   ]
  },
  {
   "cell_type": "markdown",
   "metadata": {},
   "source": [
    "## Question 1\n",
    "\n",
    "Investigate the response of the HH model, the Connor-Stevens model (a HH-type model with parameters better suited to mammalian cortical neurons; those parameters are called `HH.connor_stevens`), and the LIF model, to some constant input `h`.\n",
    "\n",
    "- What does the steady-state firing rate look like as a function of `h`, for each model? To estimate the firing rate at steady-state, discard any transient phase, and count the number of spikes per second (e.g. in a 5s-long simulation). You will need to determine an “interesting range of `h`” over which we can see the firing rate increasing from zero to tens of Hz as `h` increases.\n",
    "- What are the main _qualitative_ similarities and differences in firing rate responses between the three models?\n",
    "\n",
    "Hint: you may use the function `Pkp.Neuron.count_spikes`."
   ]
  },
  {
   "cell_type": "markdown",
   "metadata": {},
   "source": [
    "# Question 2\n",
    "\n",
    "Investigate the response of the HH model, the Connor-Stevens model (a HH-type model with parameters better suited to mammalian cortical neurons; those parameters are called `HH.connor_stevens`), and the LIF model, to oscillating input. Specifically, consider injecting a current of the form\n",
    "\n",
    "$$ h(t) = a\\ \\cos (2\\pi f t) $$ \n",
    "\n",
    "where $f$ is some stimulation frequency (in Hz), and `a=0.1E-9` amperes is small enough that the neuron does not fire action potentials.\n",
    "Since the input is periodic, so will the output (after some transient). To convince yourself that that's true, begin by looking at the membrane potential response for, say, `f=20.0` Hz.\n",
    "\n",
    "- In each of the three models, how does the amplitude of the voltage oscillations (peak-to-trough) depend on the stimulation frequency $f$? Comment on any qualitative differences.\n",
    "\n",
    "Hint: you might want to use `Mat.max'` and `Mat.min'`."
   ]
  },
  {
   "cell_type": "code",
   "execution_count": null,
   "metadata": {},
   "outputs": [],
   "source": [
    "#require \"pkp\""
   ]
  },
  {
   "cell_type": "code",
   "execution_count": null,
   "metadata": {},
   "outputs": [],
   "source": [
    "open Owl\n",
    "open Gp\n",
    "open Pkp.Neuron"
   ]
  },
  {
   "cell_type": "code",
   "execution_count": null,
   "metadata": {},
   "outputs": [],
   "source": [
    "(* your code and answers begin here *)"
   ]
  }
 ],
 "metadata": {
  "kernelspec": {
   "display_name": "OCaml 4.07.1+flambda",
   "language": "OCaml",
   "name": "ocaml-jupyter"
  },
  "language_info": {
   "codemirror_mode": "text/x-ocaml",
   "file_extension": ".ml",
   "mimetype": "text/x-ocaml",
   "name": "OCaml",
   "nbconverter_exporter": null,
   "pygments_lexer": "OCaml",
   "version": "4.07.1"
  }
 },
 "nbformat": 4,
 "nbformat_minor": 2
}
