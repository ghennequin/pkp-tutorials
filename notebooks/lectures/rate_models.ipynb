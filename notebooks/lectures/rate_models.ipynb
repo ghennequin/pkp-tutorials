{
 "cells": [
  {
   "cell_type": "code",
   "execution_count": null,
   "metadata": {},
   "outputs": [],
   "source": [
    "#require \"pkp\""
   ]
  },
  {
   "cell_type": "code",
   "execution_count": null,
   "metadata": {},
   "outputs": [],
   "source": [
    "open Owl\n",
    "open Gp\n",
    "open Pkp.Neuron"
   ]
  },
  {
   "cell_type": "code",
   "execution_count": null,
   "metadata": {},
   "outputs": [],
   "source": [
    "let _ = Pkp.Misc.quiet_owl ()"
   ]
  },
  {
   "cell_type": "code",
   "execution_count": null,
   "metadata": {},
   "outputs": [],
   "source": [
    "let plot_response (t, h, r) =\n",
    "  let xr = Mat.min' t, Mat.max' t in\n",
    "  let fig (module P : Plot) =\n",
    "    P.plot\n",
    "      (L [ t; r ])\n",
    "      [ barebone\n",
    "      ; margins [ `left 0.2; `right 0.95; `top 0.95; `bottom 0.6 ]\n",
    "      ; borders [ `left ]\n",
    "      ; xrange xr\n",
    "      ; ytics `auto\n",
    "      ; ylabel \"r (Hz)\"\n",
    "      ];\n",
    "    P.plot\n",
    "      (L [ t; h ])\n",
    "      [ barebone\n",
    "      ; margins [ `left 0.2; `right 0.95; `top 0.55; `bottom 0.2 ]\n",
    "      ; borders [ `left; `bottom ]\n",
    "      ; xrange xr\n",
    "      ; xtics `auto\n",
    "      ; ytics `auto\n",
    "      ; xlabel \"time (s)\"\n",
    "      ; ylabel \"h\"\n",
    "      ]\n",
    "  in\n",
    "  Juplot.draw ~size:(400, 300) fig"
   ]
  },
  {
   "cell_type": "markdown",
   "metadata": {},
   "source": [
    "Simulation of a rate model:"
   ]
  },
  {
   "cell_type": "code",
   "execution_count": null,
   "metadata": {},
   "outputs": [],
   "source": [
    "let simulate ~duration ~tau f h =\n",
    "  let drdt r t = Mat.((neg r +$ f (h t)) /$ tau) in\n",
    "  let open Owl_ode in\n",
    "  let tspec = Types.(T1 { t0 = 0.; duration; dt = 1E-4 }) in\n",
    "  let t, r =\n",
    "    Ode.odeint Native.D.(rk45 ~tol:1E-5 ~dtmax:1E-3) drdt Mat.(zeros 1 1) tspec ()\n",
    "  in\n",
    "  let h = Mat.map h t in\n",
    "  t, h, r"
   ]
  },
  {
   "cell_type": "code",
   "execution_count": null,
   "metadata": {},
   "outputs": [],
   "source": [
    "let t, h, r =\n",
    "  simulate\n",
    "    ~duration:0.15\n",
    "    ~tau:20E-3\n",
    "    (fun x -> if x < 1. then 0. else x -. 1.)\n",
    "    (fun t -> if t < 0.04 then 0. else 20.)s"
   ]
  },
  {
   "cell_type": "code",
   "execution_count": null,
   "metadata": {},
   "outputs": [],
   "source": [
    "plot_response (t, h, r)"
   ]
  },
  {
   "cell_type": "code",
   "execution_count": null,
   "metadata": {},
   "outputs": [],
   "source": []
  }
 ],
 "metadata": {
  "kernelspec": {
   "display_name": "OCaml 4.07.1+flambda",
   "language": "OCaml",
   "name": "ocaml-jupyter"
  },
  "language_info": {
   "codemirror_mode": "text/x-ocaml",
   "file_extension": ".ml",
   "mimetype": "text/x-ocaml",
   "name": "OCaml",
   "nbconverter_exporter": null,
   "pygments_lexer": "OCaml",
   "version": "4.07.1"
  }
 },
 "nbformat": 4,
 "nbformat_minor": 2
}
