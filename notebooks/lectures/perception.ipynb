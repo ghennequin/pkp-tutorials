{
 "cells": [
  {
   "cell_type": "code",
   "execution_count": null,
   "metadata": {},
   "outputs": [],
   "source": [
    "#require \"pkp\""
   ]
  },
  {
   "cell_type": "code",
   "execution_count": null,
   "metadata": {},
   "outputs": [],
   "source": [
    "open Owl\n",
    "open Gp"
   ]
  },
  {
   "cell_type": "markdown",
   "metadata": {},
   "source": [
    "## The 3 cards problem"
   ]
  },
  {
   "cell_type": "markdown",
   "metadata": {},
   "source": [
    "Simple simulation for the \"3 cards\" problem:"
   ]
  },
  {
   "cell_type": "code",
   "execution_count": null,
   "metadata": {},
   "outputs": [],
   "source": [
    "type side =\n",
    "  | Red\n",
    "  | Blue"
   ]
  },
  {
   "cell_type": "code",
   "execution_count": null,
   "metadata": {},
   "outputs": [],
   "source": [
    "let deck = [| Red, Red; Blue, Blue; Red, Blue |]"
   ]
  },
  {
   "cell_type": "code",
   "execution_count": null,
   "metadata": {},
   "outputs": [],
   "source": [
    "let random_flip (s1, s2) = if Random.bool () then s1, s2 else s2, s1"
   ]
  },
  {
   "cell_type": "markdown",
   "metadata": {},
   "source": [
    "A function that describes the random draw + random flipping:"
   ]
  },
  {
   "cell_type": "code",
   "execution_count": null,
   "metadata": {},
   "outputs": [],
   "source": [
    "let draw () = random_flip deck.(Random.int 3)"
   ]
  },
  {
   "cell_type": "code",
   "execution_count": null,
   "metadata": {},
   "outputs": [],
   "source": [
    "draw ()"
   ]
  },
  {
   "cell_type": "markdown",
   "metadata": {},
   "source": [
    "Simulate many trials:"
   ]
  },
  {
   "cell_type": "code",
   "execution_count": null,
   "metadata": {},
   "outputs": [],
   "source": [
    "let many_trials = List.init 100000 (fun _ -> draw ())"
   ]
  },
  {
   "cell_type": "markdown",
   "metadata": {},
   "source": [
    "To estimate the probability that the second side is Red **given that the first side is known to be Red**, we can simply select all draws in which the first side was Red, and count the fraction of those for which the second side is Red, too:  "
   ]
  },
  {
   "cell_type": "code",
   "execution_count": null,
   "metadata": {},
   "outputs": [],
   "source": [
    "let s1_red = List.filter (fun (s1, _) -> s1 = Red) many_trials"
   ]
  },
  {
   "cell_type": "code",
   "execution_count": null,
   "metadata": {},
   "outputs": [],
   "source": [
    "let s1_and_s2_red = List.filter (fun (_, s2) -> s2 = Red) s1_red"
   ]
  },
  {
   "cell_type": "code",
   "execution_count": null,
   "metadata": {},
   "outputs": [],
   "source": [
    "float (List.length s1_and_s2_red) /. float (List.length s1_red)"
   ]
  },
  {
   "cell_type": "markdown",
   "metadata": {},
   "source": [
    "Theoretically, this probability is 2/3."
   ]
  },
  {
   "cell_type": "markdown",
   "metadata": {},
   "source": [
    "## Combining evidence with expectations"
   ]
  },
  {
   "cell_type": "code",
   "execution_count": null,
   "metadata": {},
   "outputs": [],
   "source": [
    "let gaussian = Owl_stats.gaussian_pdf"
   ]
  },
  {
   "cell_type": "code",
   "execution_count": null,
   "metadata": {},
   "outputs": [],
   "source": [
    "let density_props =\n",
    "  [ barebone\n",
    "  ; borders [ `bottom ]\n",
    "  ; xtics (`regular [ -10.; 1. ])\n",
    "  ; xlabel \"x\"\n",
    "  ; set \"key at screen 0.95, screen 0.9 top right\"\n",
    "  ; margins [ `right 0.8 ]\n",
    "  ]"
   ]
  },
  {
   "cell_type": "code",
   "execution_count": null,
   "metadata": {},
   "outputs": [],
   "source": [
    "let prod f g = fun x -> f x *. g x"
   ]
  },
  {
   "cell_type": "code",
   "execution_count": null,
   "metadata": {},
   "outputs": [],
   "source": [
    "let _ =\n",
    "  let fig (module P : Plot) =\n",
    "    P.plot (F (gaussian ~mu:0. ~sigma:1., Mat.linspace (-5.) 5. 300)) density_props\n",
    "  in\n",
    "  Juplot.draw ~size:(600, 300) fig"
   ]
  },
  {
   "cell_type": "code",
   "execution_count": null,
   "metadata": {},
   "outputs": [],
   "source": [
    "let _ =\n",
    "  let xs = Mat.linspace (-5.) 5. 300 in\n",
    "  let normalise v = Mat.(v /$ max' v) in\n",
    "  let prior = gaussian ~mu:0. ~sigma:2. in\n",
    "  let likelihood = gaussian ~mu:1. ~sigma:0.5 in\n",
    "  let posterior = prod prior likelihood in\n",
    "  let p f = L [ xs; normalise (Mat.map f xs) ] in\n",
    "  let fig (module P : Plot) =\n",
    "    P.plots\n",
    "      [ item (p prior) ~style:\"l lc 8 lw 2\" ~legend:\"prior\"\n",
    "      ; item (p likelihood) ~style:\"l lc 3 lw 2\" ~legend:\"likelihood\"\n",
    "      ; item (p posterior) ~style:\"l lc 7 lw 2\" ~legend:\"posterior\"\n",
    "      ]\n",
    "      density_props\n",
    "  in\n",
    "  Juplot.draw ~size:(600, 300) fig"
   ]
  },
  {
   "cell_type": "code",
   "execution_count": null,
   "metadata": {},
   "outputs": [],
   "source": [
    "let peak_position f =\n",
    "  let xs = Mat.linspace (-5.) 5. 10000 in\n",
    "  let p = Mat.map f xs in\n",
    "  let _, id = Mat.max_i p in\n",
    "  Mat.get xs id.(0) id.(1)"
   ]
  },
  {
   "cell_type": "code",
   "execution_count": null,
   "metadata": {},
   "outputs": [],
   "source": [
    "let _ =\n",
    "  let sigmas = Mat.linspace 0.1 2. 100 in\n",
    "  let prior = gaussian ~mu:0. ~sigma:1. in\n",
    "  let likelihood sigma = gaussian ~mu:1. ~sigma in\n",
    "  let shifts =\n",
    "    Mat.map (fun sigma -> 1. -. peak_position (prod prior (likelihood sigma))) sigmas\n",
    "  in\n",
    "  let fig (module P : Plot) =\n",
    "    P.plot\n",
    "      (L [ sigmas; shifts ])\n",
    "      [ barebone\n",
    "      ; borders [ `bottom; `left ]\n",
    "      ; xlabel \"likelihood spread\"\n",
    "      ; ylabel \"posterior shift towards prior\"\n",
    "      ; xtics (`regular [ 0.; 0.5 ])\n",
    "      ; ytics (`regular [ 0.; 0.2 ])\n",
    "      ]\n",
    "  in\n",
    "  Juplot.draw ~size:(300, 200) fig"
   ]
  },
  {
   "cell_type": "code",
   "execution_count": null,
   "metadata": {},
   "outputs": [],
   "source": []
  }
 ],
 "metadata": {
  "kernelspec": {
   "display_name": "OCaml 4.07.1+flambda",
   "language": "OCaml",
   "name": "ocaml-jupyter"
  },
  "language_info": {
   "codemirror_mode": "text/x-ocaml",
   "file_extension": ".ml",
   "mimetype": "text/x-ocaml",
   "name": "OCaml",
   "nbconverter_exporter": null,
   "pygments_lexer": "OCaml",
   "version": "4.07.1"
  }
 },
 "nbformat": 4,
 "nbformat_minor": 2
}
