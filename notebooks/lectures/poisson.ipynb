{
 "cells": [
  {
   "cell_type": "code",
   "execution_count": null,
   "metadata": {},
   "outputs": [],
   "source": [
    "#require \"pkp\"\n",
    "#print_length 10"
   ]
  },
  {
   "cell_type": "code",
   "execution_count": null,
   "metadata": {},
   "outputs": [],
   "source": [
    "open Owl\n",
    "open Gp"
   ]
  },
  {
   "cell_type": "code",
   "execution_count": null,
   "metadata": {},
   "outputs": [],
   "source": [
    "let _ = Pkp.Misc.quiet_owl ()"
   ]
  },
  {
   "cell_type": "markdown",
   "metadata": {},
   "source": [
    "## Single spike trains"
   ]
  },
  {
   "cell_type": "markdown",
   "metadata": {},
   "source": [
    "Let's start with the [exponential distribution](https://www.wikiwand.com/en/Exponential_distribution):"
   ]
  },
  {
   "cell_type": "code",
   "execution_count": null,
   "metadata": {},
   "outputs": [],
   "source": [
    "let data = Mat.init 1 10000 (fun _ -> Owl_stats.exponential_rvs ~lambda:10.)"
   ]
  },
  {
   "cell_type": "code",
   "execution_count": null,
   "metadata": {},
   "outputs": [],
   "source": [
    "let _ =\n",
    "  let h = Pkp.Misc.hist ~n_bins:50 data in\n",
    "  let fig (module P : Plot) =\n",
    "    P.plot\n",
    "      (A h)\n",
    "      ~style:\"boxes fs solid 0.2 lc 8\"\n",
    "      [ barebone\n",
    "      ; borders [ `bottom ]\n",
    "      ; xlabel \"variable\"\n",
    "      ; ylabel \"density\"\n",
    "      ; xrange (-0.02, 0.8)\n",
    "      ; xtics `auto\n",
    "      ]\n",
    "  in\n",
    "  Juplot.draw ~size:(300, 200) fig"
   ]
  },
  {
   "cell_type": "markdown",
   "metadata": {},
   "source": [
    "A \"Poisson process\" (also called a \"Poisson spike train\") is a sequences of events, with consecutive events separated by a time interval that is exponentially distributed:"
   ]
  },
  {
   "cell_type": "code",
   "execution_count": null,
   "metadata": {},
   "outputs": [],
   "source": [
    "let poisson_spike_train ~rate duration =\n",
    "  let rec build accu t =\n",
    "    let new_t = t +. Owl_stats.exponential_rvs ~lambda:rate in\n",
    "    if new_t > duration then List.rev accu else build (new_t :: accu) new_t\n",
    "  in\n",
    "  build [] 0."
   ]
  },
  {
   "cell_type": "code",
   "execution_count": null,
   "metadata": {},
   "outputs": [],
   "source": [
    "let plot_spike_train train =\n",
    "  let x = Mat.of_array (Array.of_list train) 1 (-1) in\n",
    "  let fig (module P : Plot) =\n",
    "    P.plot\n",
    "      (A x)\n",
    "      ~using:\"1:(1)\"\n",
    "      ~style:\"impulses lc 8\"\n",
    "      [ barebone; borders [ `bottom ]; xtics `auto; xlabel \"time (s)\" ]\n",
    "  in\n",
    "  Juplot.draw ~size:(600, 200) fig"
   ]
  },
  {
   "cell_type": "code",
   "execution_count": null,
   "metadata": {},
   "outputs": [],
   "source": [
    "let _ = poisson_spike_train ~rate:5. 2. |> plot_spike_train"
   ]
  },
  {
   "cell_type": "markdown",
   "metadata": {},
   "source": [
    "These are called \"Poisson spike trains\" because, if we take a time window of size $T$ (say, 1 sec), and count the number of spikes that fall in that window, we get an integer random number that follows the so-called [Poisson distribution](https://www.wikiwand.com/en/Poisson_distribution):"
   ]
  },
  {
   "cell_type": "code",
   "execution_count": null,
   "metadata": {},
   "outputs": [],
   "source": [
    "let counts =\n",
    "  let window = 1.0 in\n",
    "  Mat.init 1 10000 (fun _ ->\n",
    "      let spike_train = poisson_spike_train ~rate:10. window in\n",
    "      float (List.length spike_train))"
   ]
  },
  {
   "cell_type": "code",
   "execution_count": null,
   "metadata": {},
   "outputs": [],
   "source": [
    "let _ =\n",
    "  let n_bins = int_of_float (Mat.max' counts) in\n",
    "  let h = Pkp.Misc.hist ~n_bins counts in\n",
    "  let fig (module P : Plot) =\n",
    "    P.plot\n",
    "      (A h)\n",
    "      ~style:\"boxes fs solid 0.2 lc 8\"\n",
    "      [ barebone\n",
    "      ; borders [ `bottom ]\n",
    "      ; set \"xrange [-0.5:]\"\n",
    "      ; xlabel \"spike count\"\n",
    "      ; ylabel \"density\"\n",
    "      ; xtics `auto\n",
    "      ]\n",
    "  in\n",
    "  Juplot.draw ~size:(300, 200) fig"
   ]
  },
  {
   "cell_type": "markdown",
   "metadata": {},
   "source": [
    "This was what we call an \"homogeneous Poisson process\": one for which the rate of action potential emission is constant in time. You can also make a spike train with a time-varying rate:"
   ]
  },
  {
   "cell_type": "code",
   "execution_count": null,
   "metadata": {},
   "outputs": [],
   "source": [
    "let inhomogeneous_poisson_spike_train ~rate duration =\n",
    "  let dt = 1E-4 in\n",
    "  let rec iter accu k =\n",
    "    let t = dt *. float k in\n",
    "    if t > duration\n",
    "    then List.rev accu\n",
    "    else (\n",
    "      let accu = if Random.float 1.0 < dt *. rate t then t :: accu else accu in\n",
    "      iter accu (k + 1))\n",
    "  in\n",
    "  iter [] 0"
   ]
  },
  {
   "cell_type": "code",
   "execution_count": null,
   "metadata": {},
   "outputs": [],
   "source": [
    "let _ =\n",
    "  let rate t = 100. *. (1. +. sin (2. *. Const.pi *. t)) /. 2. in\n",
    "  inhomogeneous_poisson_spike_train ~rate 5.0 |> plot_spike_train"
   ]
  },
  {
   "cell_type": "markdown",
   "metadata": {},
   "source": [
    "The so-called “firing rate” is the average number of spikes per second:"
   ]
  },
  {
   "cell_type": "code",
   "execution_count": null,
   "metadata": {},
   "outputs": [],
   "source": [
    "let check_rate desired =\n",
    "  let duration = 1000000. in\n",
    "  let train = poisson_spike_train ~rate:desired duration in\n",
    "  float (List.length train) /. duration"
   ]
  },
  {
   "cell_type": "code",
   "execution_count": null,
   "metadata": {},
   "outputs": [],
   "source": [
    "check_rate 10.4"
   ]
  },
  {
   "cell_type": "markdown",
   "metadata": {},
   "source": [
    "The **Fano factor** is a measure of spiking irregularity / variability. Imagine sliding a window of size, say, 100 ms, over a very long spike train, and counting the number of action potentials each time. You get a collection of spike counts. The Fano factor is the variance of that collection, divided by its mean. For a Poisson process with constant rate, the Fano factor is know to be exactly one:"
   ]
  },
  {
   "cell_type": "code",
   "execution_count": null,
   "metadata": {},
   "outputs": [],
   "source": [
    "let _ = Pkp.Balanced_net.fano_factor ~window:0.1 (poisson_spike_train ~rate:5. 100.)"
   ]
  },
  {
   "cell_type": "markdown",
   "metadata": {},
   "source": [
    "This is close to what is typically measured in cortical neurons (though it's usually slightly above one ─ this will be discussed in lectures). "
   ]
  },
  {
   "cell_type": "markdown",
   "metadata": {},
   "source": [
    "## Population spike trains"
   ]
  },
  {
   "cell_type": "code",
   "execution_count": null,
   "metadata": {},
   "outputs": [],
   "source": [
    "let plot_spike_trains trains =\n",
    "  let trains = Array.map (fun x -> Mat.of_array (Array.of_list x) 1 (-1)) trains in\n",
    "  let t_min = trains |> Array.map Mat.min' |> Array.fold_left min max_float in\n",
    "  let t_max = trains |> Array.map Mat.max' |> Array.fold_left max (-.max_float) in\n",
    "  let n = Array.length trains in\n",
    "  let fig (module P : Plot) =\n",
    "    P.multiplot\n",
    "      (n, 1)\n",
    "      ~rect:((0.05, 0.2), (0.95, 0.95))\n",
    "      ~spacing:(0., 0.002)\n",
    "      (fun k _ _ ->\n",
    "        let x = trains.(k) in\n",
    "        let props =\n",
    "          [ barebone; unset \"key\"; xrange (t_min, t_max) ]\n",
    "          @\n",
    "          if k < n - 1\n",
    "          then []\n",
    "          else [ borders [ `bottom ]; xtics (`regular [ 0.; 1. ]); xlabel \"time (s)\" ]\n",
    "        in\n",
    "        P.plot (A x) ~using:\"1:(1)\" ~style:\"impulses lc 8 lw 2\" props)\n",
    "  in\n",
    "  Juplot.draw ~size:(600, 400) fig"
   ]
  },
  {
   "cell_type": "code",
   "execution_count": null,
   "metadata": {},
   "outputs": [],
   "source": [
    "let _ = Array.init 20 (fun _ -> poisson_spike_train ~rate:4. 2.) |> plot_spike_trains"
   ]
  },
  {
   "cell_type": "code",
   "execution_count": null,
   "metadata": {},
   "outputs": [],
   "source": [
    "let _ =\n",
    "  let rate t = 10. *. (1. +. sin (2. *. Const.pi *. t)) /. 2. in\n",
    "  Array.init 200 (fun _ -> inhomogeneous_poisson_spike_train ~rate 3.)\n",
    "  |> plot_spike_trains"
   ]
  },
  {
   "cell_type": "markdown",
   "metadata": {},
   "source": [
    "The so-called “population firing rate” $r(t)$ is the momentary average spike rate across the population. In any small time window of length $\\Delta_t$ starting at time $t$, you can measure the fraction of neurons in the population that have spiked in that window, and that's basically $r(t)\\Delta_t$."
   ]
  },
  {
   "cell_type": "code",
   "execution_count": null,
   "metadata": {},
   "outputs": [],
   "source": [
    "let population_rate ~delta_t trains =\n",
    "  let n = Array.length trains in\n",
    "  let t_min, t_max =\n",
    "    let f op a = trains |> Array.map (List.fold_left op a) |> Array.fold_left op a in\n",
    "    f min max_float, f max (-.max_float)\n",
    "  in\n",
    "  let t_max = trains |> Array.map (List.fold_left max 0.) |> Array.fold_left max 0. in\n",
    "  let rec iter accu t =\n",
    "    if t > t_max\n",
    "    then accu |> List.rev |> Array.of_list |> Mat.of_arrays\n",
    "    else (\n",
    "      let t' = t +. delta_t in\n",
    "      let count =\n",
    "        Array.fold_left\n",
    "          (fun accu train ->\n",
    "            if List.exists (fun t_spike -> t_spike >= t && t_spike < t') train\n",
    "            then accu + 1\n",
    "            else accu)\n",
    "          0\n",
    "          trains\n",
    "      in\n",
    "      let accu = [| t +. (delta_t /. 2.); float count /. float n /. delta_t |] :: accu in\n",
    "      iter accu t')\n",
    "  in\n",
    "  iter [] t_min"
   ]
  },
  {
   "cell_type": "code",
   "execution_count": null,
   "metadata": {},
   "outputs": [],
   "source": [
    "let _ =\n",
    "  let rate t = 10. *. (1. +. sin (2. *. Const.pi *. t)) /. 2. in\n",
    "  let duration = 3. in\n",
    "  let trains =\n",
    "    Array.init 1000 (fun _ -> inhomogeneous_poisson_spike_train ~rate duration)\n",
    "  in\n",
    "  let r = population_rate ~delta_t:1E-3 trains in\n",
    "  let fig (module P : Plot) =\n",
    "    P.plots\n",
    "      [ item (A r) ~style:\"l lc 8\"\n",
    "      ; item (F (rate, Mat.linspace 0. duration 100)) ~style:\"l lc 7 lw 3\"\n",
    "      ]\n",
    "      [ borders [ `bottom; `left ]\n",
    "      ; xtics (`regular [ 0.; 1. ])\n",
    "      ; xlabel \"time (s)\"\n",
    "      ; ylabel \"population rate (Hz)\"\n",
    "      ]\n",
    "  in\n",
    "  Juplot.draw ~size:(400, 200) fig"
   ]
  },
  {
   "cell_type": "code",
   "execution_count": null,
   "metadata": {},
   "outputs": [],
   "source": []
  }
 ],
 "metadata": {
  "kernelspec": {
   "display_name": "OCaml 4.07.1+flambda",
   "language": "OCaml",
   "name": "ocaml-jupyter"
  },
  "language_info": {
   "codemirror_mode": "text/x-ocaml",
   "file_extension": ".ml",
   "mimetype": "text/x-ocaml",
   "name": "OCaml",
   "nbconverter_exporter": null,
   "pygments_lexer": "OCaml",
   "version": "4.07.1"
  }
 },
 "nbformat": 4,
 "nbformat_minor": 2
}
