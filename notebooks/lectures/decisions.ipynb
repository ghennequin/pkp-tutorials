{
 "cells": [
  {
   "cell_type": "code",
   "execution_count": null,
   "metadata": {},
   "outputs": [],
   "source": [
    ";;\n",
    "#require \"pkp\""
   ]
  },
  {
   "cell_type": "code",
   "execution_count": null,
   "metadata": {},
   "outputs": [],
   "source": [
    "open Owl\n",
    "\n",
    "open Gp"
   ]
  },
  {
   "cell_type": "markdown",
   "metadata": {},
   "source": [
    "# Random dot kinematograms"
   ]
  },
  {
   "cell_type": "code",
   "execution_count": null,
   "metadata": {},
   "outputs": [],
   "source": [
    "type dot =\n",
    "  [ `random of float * float | `coherent of float * float ] * int * (float * float)"
   ]
  },
  {
   "cell_type": "code",
   "execution_count": null,
   "metadata": {},
   "outputs": [],
   "source": [
    "let norm (dx, dy) = Maths.(sqrt (sqr dx +. sqr dy))"
   ]
  },
  {
   "cell_type": "code",
   "execution_count": null,
   "metadata": {},
   "outputs": [],
   "source": [
    "let is_within_disk ?(radius = 1.) (a, b) = norm (a, b) < radius"
   ]
  },
  {
   "cell_type": "code",
   "execution_count": null,
   "metadata": {},
   "outputs": [],
   "source": [
    "let left_motion v = -.v, 0.\n",
    "and right_motion v = v, 0.\n",
    "\n",
    "and random_motion v =\n",
    "  let theta = Random.float Const.pi2 in\n",
    "  v *. cos theta, v *. sin theta"
   ]
  },
  {
   "cell_type": "code",
   "execution_count": null,
   "metadata": {},
   "outputs": [],
   "source": [
    "let plottable (dots : dot list) =\n",
    "  dots\n",
    "  |> List.filter (fun (_, _, d) -> is_within_disk d)\n",
    "  |> Array.of_list\n",
    "  |> Array.map (function _, _, (a, b) -> [| a; b |])\n",
    "  |> Mat.of_arrays"
   ]
  },
  {
   "cell_type": "code",
   "execution_count": null,
   "metadata": {},
   "outputs": [],
   "source": [
    "let rec sample_position () =\n",
    "  let radius = 2. in\n",
    "  let a, b = -1. +. Random.float 2., -1. +. Random.float 2. in\n",
    "  let a = radius *. a\n",
    "  and b = radius *. b in\n",
    "  if is_within_disk ~radius (a, b) then a, b else sample_position ()"
   ]
  },
  {
   "cell_type": "code",
   "execution_count": null,
   "metadata": {},
   "outputs": [],
   "source": [
    "let sample_lifetime () = 1 + int_of_float (Owl_stats.exponential_rvs ~lambda:1.)"
   ]
  },
  {
   "cell_type": "code",
   "execution_count": null,
   "metadata": {},
   "outputs": [],
   "source": [
    "let rec fresh_dot typ =\n",
    "  let a, b = sample_position () in\n",
    "  let lt = sample_lifetime () in\n",
    "  let typ =\n",
    "    match typ with\n",
    "    | `random v -> `random (random_motion (norm v))\n",
    "    | `coherent v -> `coherent v\n",
    "  in\n",
    "  (typ, lt, (a, b) : dot)"
   ]
  },
  {
   "cell_type": "code",
   "execution_count": null,
   "metadata": {},
   "outputs": [],
   "source": [
    "let update ((typ, lt, (a, b)) : dot) =\n",
    "  if lt = 0\n",
    "  then fresh_dot typ\n",
    "  else (\n",
    "    match typ with\n",
    "    | `random (dx, dy) -> typ, lt - 1, (a +. dx, b +. dy)\n",
    "    | `coherent (dx, dy) -> typ, lt - 1, (a +. dx, b +. dy))"
   ]
  },
  {
   "cell_type": "code",
   "execution_count": null,
   "metadata": {},
   "outputs": [],
   "source": [
    "let rdm_trial ~c ~motion n_steps =\n",
    "  let ph = Jupyter_notebook.display \"text/html\" \"\" in\n",
    "  let size = 300, 300 in\n",
    "  let props =\n",
    "    [ barebone\n",
    "    ; margins [ `top 0.9; `right 0.9; `bottom 0.1; `left 0.1 ]\n",
    "    ; xrange (-1.2, 1.2)\n",
    "    ; yrange (-1.2, 1.2)\n",
    "    ]\n",
    "  in\n",
    "  let rec iterate k dots =\n",
    "    if k < n_steps\n",
    "    then (\n",
    "      let fig (module P : Plot) =\n",
    "        P.plot (A (plottable dots)) ~style:\"p pt 7 lc 8 ps 0.3\" props\n",
    "      in\n",
    "      Juplot.draw ~display_id:ph ~size fig;\n",
    "      iterate (k + 1) List.(rev_map update dots))\n",
    "  in\n",
    "  let fixation (module P : Plot) =\n",
    "    P.plot\n",
    "      (S \"-2\")\n",
    "      (props\n",
    "      @ [ set \"arrow 1 from first -0.1, first 0 to first 0.1, first 0 nohead lc 8\"\n",
    "        ; set \"arrow 2 from first 0, first -0.1 to first 0, 0.1 nohead lc 8\"\n",
    "        ])\n",
    "  in\n",
    "  Juplot.draw ~display_id:ph ~size fixation;\n",
    "  Unix.sleepf 1.0;\n",
    "  iterate\n",
    "    0\n",
    "    List.(\n",
    "      init 300 (fun _ ->\n",
    "          fresh_dot\n",
    "            (if Random.float 1. < c\n",
    "            then `coherent motion\n",
    "            else `random (random_motion (norm motion)))));\n",
    "  Juplot.draw ~display_id:ph ~size fixation"
   ]
  },
  {
   "cell_type": "code",
   "execution_count": null,
   "metadata": {},
   "outputs": [],
   "source": [
    "let _ =\n",
    "  let m = if Random.bool () then `left else `right in\n",
    "  rdm_trial\n",
    "    ~c:0.1\n",
    "    ~motion:\n",
    "      ((match m with\n",
    "       | `left -> left_motion\n",
    "       | `right -> right_motion)\n",
    "         0.05)\n",
    "    20;\n",
    "  m"
   ]
  },
  {
   "cell_type": "markdown",
   "metadata": {},
   "source": [
    "# Evidence accumulation"
   ]
  },
  {
   "cell_type": "code",
   "execution_count": null,
   "metadata": {},
   "outputs": [],
   "source": [
    "let drift_diffusion ~mu ~sigma =\n",
    "  let good_decision = if mu > 0. then `left else `right in\n",
    "  let dt = 1E-3 in\n",
    "  let unpack list =\n",
    "    list |> List.rev |> Array.of_list |> fun m -> Mat.of_array m (-1) 1\n",
    "  in\n",
    "  let rec iter t accu x =\n",
    "    if x > 1.\n",
    "    then `left, good_decision, dt *. float t, unpack accu\n",
    "    else if x < -1.\n",
    "    then `right, good_decision, dt *. float t, unpack accu\n",
    "    else\n",
    "      iter\n",
    "        (t + 1)\n",
    "        (x :: accu)\n",
    "        (x +. (dt *. mu) +. (sqrt dt *. Owl_stats.gaussian_rvs ~mu:0. ~sigma))\n",
    "  in\n",
    "  iter 0 [] 0."
   ]
  },
  {
   "cell_type": "code",
   "execution_count": null,
   "metadata": {},
   "outputs": [],
   "source": [
    "let plot_trials x =\n",
    "  let x = List.sort (fun (_, _, t1, _) (_, _, t2, _) -> compare t1 t2) x in\n",
    "  let n = List.length x in\n",
    "  let fig (module P : Plot) =\n",
    "    P.plots\n",
    "      List.(\n",
    "        mapi\n",
    "          (fun i (_, gd, _, timecourse) ->\n",
    "            item\n",
    "              (A timecourse)\n",
    "              ~using:\"(0.001*$0):1\"\n",
    "              ~style:\n",
    "                (Printf.sprintf\n",
    "                   \"l lc palette cb %i\"\n",
    "                   (match gd with\n",
    "                   | `left -> n - i\n",
    "                   | `right -> -(n - i))))\n",
    "          x)\n",
    "      [ barebone\n",
    "      ; borders [ `left ]\n",
    "      ; xlabel \"time (s)\"\n",
    "      ; ylabel \"decision variable\"\n",
    "      ; set \"arrow 1 from graph 0, first 1 to graph 1, first 1 nohead lc 8 dt 2 front\"\n",
    "      ; set \"arrow 2 from graph 0, first -1 to graph 1, first -1 nohead lc 8 dt 2 front\"\n",
    "      ; cbrange (-.float n, float n)\n",
    "      ; yrange (-1.1, 1.1)\n",
    "      ; xtics (`regular [ 0.; 0.5 ])\n",
    "      ]\n",
    "  in\n",
    "  Juplot.draw ~size:(400, 300) fig"
   ]
  },
  {
   "cell_type": "markdown",
   "metadata": {},
   "source": [
    "### A few sample trials"
   ]
  },
  {
   "cell_type": "code",
   "execution_count": null,
   "metadata": {},
   "outputs": [],
   "source": [
    "let _ =\n",
    "  let drift = 1.0 in\n",
    "  plot_trials\n",
    "    (List.init 10 (fun _ ->\n",
    "         let mu = if Random.bool () then drift else -.drift in\n",
    "         drift_diffusion ~mu ~sigma:0.5))"
   ]
  },
  {
   "cell_type": "markdown",
   "metadata": {},
   "source": [
    "### Psychometric curve"
   ]
  },
  {
   "cell_type": "code",
   "execution_count": null,
   "metadata": {},
   "outputs": [],
   "source": [
    "let pct_correct ~mu ~sigma =\n",
    "  Array.init 5000 (fun _ ->\n",
    "      let mu = if Random.bool () then mu else -.mu in\n",
    "      let decision, good_decision, _, _ = drift_diffusion ~mu ~sigma in\n",
    "      if decision = good_decision then 1. else 0.)\n",
    "  |> Stats.mean"
   ]
  },
  {
   "cell_type": "code",
   "execution_count": null,
   "metadata": {},
   "outputs": [],
   "source": [
    "let _ =\n",
    "  let c = Mat.logspace ~base:2. (-6.) 0. 10 in\n",
    "  let pc = (Pkp.Misc.with_indicator Mat.map) (fun c -> pct_correct ~mu:c ~sigma:0.5) c in\n",
    "  let fig (module P : Plot) =\n",
    "    P.plot\n",
    "      (L [ c; pc ])\n",
    "      ~style:\"lp pt 7 lc 8\"\n",
    "      (default_props\n",
    "      @ [ set \"log x\"\n",
    "        ; xlabel \"evidence strength\"\n",
    "        ; ylabel \"% correct\"\n",
    "        ; yrange (0.5, 1.)\n",
    "        ; ytics (`regular [ 0.5; 0.1 ])\n",
    "        ])\n",
    "  in\n",
    "  Juplot.draw ~size:(300, 200) fig"
   ]
  },
  {
   "cell_type": "markdown",
   "metadata": {},
   "source": [
    "### Distributions of reaction times"
   ]
  },
  {
   "cell_type": "code",
   "execution_count": null,
   "metadata": {},
   "outputs": [],
   "source": [
    "let reaction_times =\n",
    "  Mat.init 1 10000 (fun _ ->\n",
    "      let _, _, t_dec, _ = drift_diffusion ~mu:2. ~sigma:0.2 in\n",
    "      t_dec)"
   ]
  },
  {
   "cell_type": "code",
   "execution_count": null,
   "metadata": {},
   "outputs": [],
   "source": [
    "let _ =\n",
    "  let open Gp in\n",
    "  let fig (module P : Plot) =\n",
    "    P.plot\n",
    "      (A Pkp.Misc.(hist ~n_bins:50 reaction_times))\n",
    "      ~style:\"boxes fs solid 0.5 lc 8\"\n",
    "      [ barebone; borders [ `bottom ]; xtics `auto; xlabel \"reaction time\" ]\n",
    "  in\n",
    "  Juplot.draw ~size:(400, 200) fig"
   ]
  }
 ],
 "metadata": {
  "kernelspec": {
   "display_name": "OCaml 4.07.1+flambda",
   "language": "OCaml",
   "name": "ocaml-jupyter"
  },
  "language_info": {
   "codemirror_mode": "text/x-ocaml",
   "file_extension": ".ml",
   "mimetype": "text/x-ocaml",
   "name": "OCaml",
   "nbconverter_exporter": null,
   "pygments_lexer": "OCaml",
   "version": "4.07.1"
  }
 },
 "nbformat": 4,
 "nbformat_minor": 2
}
