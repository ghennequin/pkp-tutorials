{
 "cells": [
  {
   "cell_type": "markdown",
   "metadata": {},
   "source": [
    "# COURSEWORK 2\n",
    "\n",
    "<span style=\"color: #ffac00; font-weight: bold;\">SUBMISSION DEADLINE:</span> Thursday 15 August 6pm. \n",
    "\n",
    "Please answer the following question, in 500 words max (+code).\n",
    "\n",
    "- Write your answer directly in markdown cells below, in this notebook.\n",
    "- Do include simulation code + figures, but do not limit your answer to these; instead, write a _narrative_.\n",
    "- Make sure to submit a clean notebook; in particular:\n",
    "   - all cells must have been evaluated without errors; do not “clear outputs” before submitting\n",
    "   - the whole notebook is *linear*, i.e. can be re-evaluated (e.g. by me!) by only moving forward cell by cell.\n",
    "   \n",
    "To submit, download your notebook as an `.ipynb` file, and drag-and-drop your file in a direct message to me on [slack](https://pkp-neuro.slack.com).\n",
    "\n",
    "Remember: I am on slack to help you with OCaml; don't hesitate to ask me \"how do we do this, ...\" if you get stuck; I will generally answer, as long as you are not asking for the entire solution to the coursework :)"
   ]
  },
  {
   "cell_type": "markdown",
   "metadata": {},
   "source": [
    "**Please replace this line with your student PID**"
   ]
  },
  {
   "cell_type": "markdown",
   "metadata": {},
   "source": [
    "## Question\n",
    "\n",
    "This question is about investigating a key property of the balanced network studied in one of your tutorials.\n",
    "\n",
    "To begin with, write a function that accepts some `float` parameter `rx`, and:\n",
    "1. sets up a balanced network with $N=2000$ excitatory LIF neurons, $N=2000$ inhibitory LIF neurons, and $N=2000$ external Poisson neurons with firing rate `rx` (instead of 5 Hz as previously assumed in your tutorial). Connections should be exactly as in Section 4 of your tutorial notebook, but now with `k=200`\n",
    "2. returns `((popE, popI, popX), net)`, i.e. a pair containing the triplet of three populations and the network.\n",
    "\n",
    "Thus, your function will have type `float -> (neuron array * neuron array * neuron array) * network`.\n",
    "\n",
    "Using this function (along with other code), **investigate how the average firing rates `rE` and `rI` (of the E and I neurons, respectively) vary with `rx`**. In particular, plot `rE` and `rI` as a function of `rX`,\n",
    "and **compare your simulation results with the theoretical predictions** developed in the lecture. Comment on your results."
   ]
  },
  {
   "cell_type": "code",
   "execution_count": null,
   "metadata": {},
   "outputs": [],
   "source": [
    "#require \"pkp\""
   ]
  },
  {
   "cell_type": "code",
   "execution_count": null,
   "metadata": {},
   "outputs": [],
   "source": [
    "open Owl\n",
    "open Gp\n",
    "open Pkp.Balanced_net"
   ]
  },
  {
   "cell_type": "code",
   "execution_count": null,
   "metadata": {},
   "outputs": [],
   "source": [
    "(* your code and answers begin here *)"
   ]
  }
 ],
 "metadata": {
  "kernelspec": {
   "display_name": "OCaml 4.07.1+flambda",
   "language": "OCaml",
   "name": "ocaml-jupyter"
  },
  "language_info": {
   "codemirror_mode": "text/x-ocaml",
   "file_extension": ".ml",
   "mimetype": "text/x-ocaml",
   "name": "OCaml",
   "nbconverter_exporter": null,
   "pygments_lexer": "OCaml",
   "version": "4.07.1"
  }
 },
 "nbformat": 4,
 "nbformat_minor": 2
}
