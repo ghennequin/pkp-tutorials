{
 "cells": [
  {
   "cell_type": "markdown",
   "metadata": {},
   "source": [
    "# SOLUTIONS"
   ]
  },
  {
   "cell_type": "code",
   "execution_count": null,
   "metadata": {},
   "outputs": [],
   "source": [
    ";;\n",
    "#require \"pkp\"\n",
    "\n",
    "open Owl\n",
    "\n",
    "open Gp\n",
    "\n",
    "module A = Pkp.Balanced_net\n",
    "\n",
    "open A"
   ]
  },
  {
   "cell_type": "markdown",
   "metadata": {},
   "source": [
    "Number of input synapses per neuron, used throughout the notebook (cf lecture):"
   ]
  },
  {
   "cell_type": "code",
   "execution_count": null,
   "metadata": {},
   "outputs": [],
   "source": [
    "let k = 100"
   ]
  },
  {
   "cell_type": "markdown",
   "metadata": {},
   "source": [
    "# 1. Poisson neurons → they will provide input to our network"
   ]
  },
  {
   "cell_type": "code",
   "execution_count": null,
   "metadata": {},
   "outputs": [],
   "source": [
    "let input = Array.init k (fun _ -> poisson 5.0) (* 5.0 is the firing rate in Hz *)"
   ]
  },
  {
   "cell_type": "code",
   "execution_count": null,
   "metadata": {},
   "outputs": [],
   "source": [
    "let net = { neurons = [ input ]; connections = [] }"
   ]
  },
  {
   "cell_type": "code",
   "execution_count": null,
   "metadata": {},
   "outputs": [],
   "source": [
    "let _ = simulate ~duration:1.0 net"
   ]
  },
  {
   "cell_type": "code",
   "execution_count": null,
   "metadata": {},
   "outputs": [],
   "source": [
    "let _ =\n",
    "  let spikes = input |> Array.map spikes |> raster in\n",
    "  let figure (module P : Plot) =\n",
    "    P.plot\n",
    "      (A spikes)\n",
    "      ~style:\"p pt 7 lc 8 ps 0.4\"\n",
    "      [ barebone\n",
    "      ; borders [ `bottom ]\n",
    "      ; xtics `auto ~o:\"nomirror\"\n",
    "      ; offsets [ `bottom (`graph 0.1) ]\n",
    "      ; xlabel \"time [s]\"\n",
    "      ; ylabel \"neurons\"\n",
    "      ]\n",
    "  in\n",
    "  Juplot.draw ~fmt:`svg ~size:(600, 300) figure"
   ]
  },
  {
   "cell_type": "code",
   "execution_count": null,
   "metadata": {},
   "outputs": [],
   "source": [
    "let _ =\n",
    "  let firing_rates =\n",
    "    let duration = 100. in\n",
    "    simulate ~duration net;\n",
    "    input |> Array.map spikes |> Array.map (fun x -> float (List.length x) /. duration)\n",
    "  in\n",
    "  (* convert to owl array type, do some stats and plot *)\n",
    "  let firing_rates = Mat.of_array firing_rates 1 (-1) in\n",
    "  let mu = Mat.mean' firing_rates in\n",
    "  let sem = Mat.std' firing_rates /. sqrt (float (Array.length input)) in\n",
    "  let figure (module P : Plot) =\n",
    "    P.plot\n",
    "      (A firing_rates)\n",
    "      ~style:\"p pt 7 lc 8 ps 0.5\"\n",
    "      [ barebone\n",
    "      ; borders [ `left ]\n",
    "      ; ylabel \"firing rate\"\n",
    "      ; ytics `auto ~o:\"out nomirror\"\n",
    "      ; title (Printf.sprintf \"mean = %.3f ± %.3f\" mu sem)\n",
    "      ]\n",
    "  in\n",
    "  Juplot.draw ~fmt:`svg ~size:(600, 300) figure"
   ]
  },
  {
   "cell_type": "markdown",
   "metadata": {},
   "source": [
    "# 2. A single LIF neuron receiving Poisson input"
   ]
  },
  {
   "cell_type": "code",
   "execution_count": null,
   "metadata": {},
   "outputs": [],
   "source": [
    "let make_simple_net w =\n",
    "  let single = lif () in\n",
    "  let net =\n",
    "    { neurons = [ input; [| single |] ]\n",
    "    ; connections = [ all_to_all_connections ~from:input ~onto:[| single |] ~w:(w /. float k) ]\n",
    "    }\n",
    "  in\n",
    "  single, net"
   ]
  },
  {
   "cell_type": "code",
   "execution_count": null,
   "metadata": {},
   "outputs": [],
   "source": [
    "let plot_response ~duration x =\n",
    "  let figure (module P : Plot) =\n",
    "    P.plots\n",
    "      [ plottable_voltage ~duration x; plottable_spikes x ]\n",
    "      [ barebone\n",
    "      ; ytics `auto ~o:\"out nomirror\"\n",
    "      ; margins [ `bottom 0.2 ]\n",
    "      ; set\n",
    "          \"object 1 rectangle from first 0, graph -0.1 rto first 0.2, graph -0.02 fs \\\n",
    "           solid 1.0 noborder fc rgb 'black' noclip\"\n",
    "      ]\n",
    "  in\n",
    "  Juplot.draw ~fmt:`svg ~size:(500, 200) figure"
   ]
  },
  {
   "cell_type": "code",
   "execution_count": null,
   "metadata": {},
   "outputs": [],
   "source": [
    "let () =\n",
    "  let single, net = make_simple_net 6.0 in\n",
    "  let duration = 1.5 in\n",
    "  simulate ~duration net;\n",
    "  plot_response ~duration single"
   ]
  },
  {
   "cell_type": "code",
   "execution_count": null,
   "metadata": {},
   "outputs": [],
   "source": [
    "let firing_rate w =\n",
    "  let duration = 100.0 in\n",
    "  let single, net = make_simple_net w in\n",
    "  simulate ~duration net;\n",
    "  let count = List.length (spikes single) in\n",
    "  float count /. duration"
   ]
  },
  {
   "cell_type": "code",
   "execution_count": null,
   "metadata": {},
   "outputs": [],
   "source": [
    "let () =\n",
    "  let open Owl in\n",
    "  let ws = Mat.linspace 0.0 25.0 20 in\n",
    "  let rates = Mat.map firing_rate ws in\n",
    "  let figure (module P : Plot) =\n",
    "    P.plot\n",
    "      (L [ ws; rates ])\n",
    "      ~style:\"lp pt 7 lc 8 ps 0.5\"\n",
    "      [ barebone\n",
    "      ; borders [ `bottom; `left ]\n",
    "      ; xtics (`regular [ 0.; 2. ]) ~o:\"out nomirror\"\n",
    "      ; ytics `auto ~o:\"out nomirror\"\n",
    "      ; xlabel \"weight w\"\n",
    "      ; ylabel \"firing rate\"\n",
    "      ]\n",
    "  in\n",
    "  Juplot.draw ~fmt:`svg ~size:(300, 200) figure"
   ]
  },
  {
   "cell_type": "markdown",
   "metadata": {},
   "source": [
    "# 3. Single neuron receiving balanced E and I inputs"
   ]
  },
  {
   "cell_type": "code",
   "execution_count": null,
   "metadata": {},
   "outputs": [],
   "source": [
    "let make_simple_ei_net w =\n",
    "  let rate = 5.0 in\n",
    "  let w = w /. sqrt (float k) in\n",
    "  let single = lif () in\n",
    "  let input_e = Array.init k (fun _ -> poisson rate) in\n",
    "  let input_i = Array.init k (fun _ -> poisson rate) in\n",
    "  let net =\n",
    "    { neurons = [ input_e; input_i; [| single |] ]\n",
    "    ; connections =\n",
    "        [ all_to_all_connections ~from:input_e ~onto:[| single |] ~w\n",
    "        ; all_to_all_connections ~from:input_i ~onto:[| single |] ~w:(-.w)\n",
    "        ]\n",
    "    }\n",
    "  in\n",
    "  single, net"
   ]
  },
  {
   "cell_type": "code",
   "execution_count": null,
   "metadata": {},
   "outputs": [],
   "source": [
    "let () =\n",
    "  let single, net = make_simple_ei_net 1.5 in\n",
    "  let duration = 2.0 in\n",
    "  simulate ~duration net;\n",
    "  plot_response ~duration single"
   ]
  },
  {
   "cell_type": "markdown",
   "metadata": {},
   "source": [
    "# 4. Full balanced network"
   ]
  },
  {
   "cell_type": "code",
   "execution_count": null,
   "metadata": {},
   "outputs": [],
   "source": [
    "type weights =\n",
    "  { ex : float\n",
    "  ; ix : float\n",
    "  ; ee : float\n",
    "  ; ei : float\n",
    "  ; ie : float\n",
    "  ; ii : float\n",
    "  }"
   ]
  },
  {
   "cell_type": "code",
   "execution_count": null,
   "metadata": {},
   "outputs": [],
   "source": [
    "let default_weights =\n",
    "  { ex = 1.0; ix = 0.8; ee = 1.0; ei = -2.0; ie = 1.0; ii = -1.8 }"
   ]
  },
  {
   "cell_type": "code",
   "execution_count": null,
   "metadata": {},
   "outputs": [],
   "source": [
    "let make_full_net w =\n",
    "  let n = 2000 in\n",
    "  let popE = Array.init n (fun i -> lif ~log_voltage:(i=0) ()) in\n",
    "  let popI = Array.init n (fun i -> lif ~log_voltage:(i=0) ()) in\n",
    "  let popX = Array.init n (fun _ -> poisson 5.0) in\n",
    "  (* normalization function for the weights *)\n",
    "  let f w = w /. sqrt (float k) in\n",
    "  let connections =\n",
    "    [ random_connections ~from:popE ~onto:popE ~k ~w:(f w.ee)\n",
    "    ; random_connections ~from:popE ~onto:popI ~k ~w:(f w.ie)\n",
    "    ; random_connections ~from:popI ~onto:popE ~k ~w:(f w.ei)\n",
    "    ; random_connections ~from:popI ~onto:popI ~k ~w:(f w.ii)\n",
    "    ; random_connections ~from:popX ~onto:popE ~k ~w:(f w.ex)\n",
    "    ; random_connections ~from:popX ~onto:popI ~k ~w:(f w.ix)\n",
    "    ]\n",
    "  in\n",
    "  let net = { neurons = [ popE; popI; popX ]; connections } in\n",
    "  (popE, popI, popX), net"
   ]
  },
  {
   "cell_type": "code",
   "execution_count": null,
   "metadata": {},
   "outputs": [],
   "source": [
    "let plot_network_output ~duration (popE, popI, popX) =\n",
    "  let keep = 100 in\n",
    "  let popE = Array.sub popE 0 keep in\n",
    "  let popI = Array.sub popI 0 keep in\n",
    "  let popX = Array.sub popX 0 keep in\n",
    "  let figure (module P : Plot) =\n",
    "    let common =\n",
    "      [ barebone; xrange (0.0, duration); margins [ `left 0.2; `right 0.95 ] ]\n",
    "    in\n",
    "    let plot_raster ~tm ~bm (pop, name, color) =\n",
    "      P.plot\n",
    "        (A (popX |> Array.map spikes |> raster))\n",
    "        ~style:(Printf.sprintf \"p pt 7 lc rgb '%s' ps 0.4\" color)\n",
    "        (common @ [ margins [ `top tm; `bottom bm ]; ylabel name ])\n",
    "    in\n",
    "    plot_raster ~tm:0.9 ~bm:0.7 (popX, \"X neurons\", \"black\");\n",
    "    plot_raster ~tm:0.68 ~bm:0.48 (popE, \"E neurons\", \"#e51e10\");\n",
    "    plot_raster ~tm:0.46 ~bm:0.26 (popI, \"I neurons\", \"#56b4e9\");\n",
    "    P.plots\n",
    "      [ plottable_voltage ~duration popE.(0); plottable_spikes popE.(0) ]\n",
    "      (common\n",
    "      @ [ margins [ `top 0.24; `bottom 0.1 ]\n",
    "        ; borders [ `bottom ]\n",
    "        ; xtics (`regular [ 0.; 1. ])\n",
    "        ; xrange (0., 2.)\n",
    "        ; offsets [ `bottom (`graph 0.1) ]\n",
    "        ; xlabel \"time\"\n",
    "        ; ylabel \"V_m\"\n",
    "        ])\n",
    "  in\n",
    "  Juplot.draw ~fmt:`svg ~size:(400, 600) figure"
   ]
  },
  {
   "cell_type": "code",
   "execution_count": null,
   "metadata": {},
   "outputs": [],
   "source": [
    "let _ =\n",
    "  let pops, net = make_full_net default_weights in\n",
    "  let duration = 2.0 in\n",
    "  simulate ~duration net;\n",
    "  plot_network_output ~duration pops"
   ]
  },
  {
   "cell_type": "code",
   "execution_count": null,
   "metadata": {},
   "outputs": [],
   "source": [
    "let (popE, popI, popX), net = make_full_net default_weights"
   ]
  },
  {
   "cell_type": "code",
   "execution_count": null,
   "metadata": {},
   "outputs": [],
   "source": [
    "let _ = simulate ~duration:2. net"
   ]
  },
  {
   "cell_type": "code",
   "execution_count": null,
   "metadata": {},
   "outputs": [],
   "source": [
    "let rate ~duration pop =\n",
    "  pop\n",
    "  |> Array.map spikes\n",
    "  |> Array.map List.length\n",
    "  |> Array.map float\n",
    "  |> fun m -> Mat.of_array m 1 (-1) |> fun m -> Mat.(m /$ duration) |> Mat.mean'"
   ]
  },
  {
   "cell_type": "code",
   "execution_count": null,
   "metadata": {},
   "outputs": [],
   "source": [
    "rate ~duration:2.0 popI"
   ]
  },
  {
   "cell_type": "code",
   "execution_count": null,
   "metadata": {},
   "outputs": [],
   "source": []
  },
  {
   "cell_type": "markdown",
   "metadata": {},
   "source": [
    "Mathematical calculations show that the firing rates $r_E$ and $r_I$ should solve:\n",
    "$$ w_{EE} \\times r_E + w_{EI} \\times r_I + w_{EX} \\times r_X = 0$$\n",
    "$$ w_{IE} \\times r_E + w_{II} \\times r_I + w_{IX} \\times r_X = 0$$\n"
   ]
  },
  {
   "cell_type": "code",
   "execution_count": null,
   "metadata": {},
   "outputs": [],
   "source": [
    "let w_mat w = Mat.of_arrays [| [| w.ee; w.ei |]; [| w.ie; w.ii |] |]"
   ]
  },
  {
   "cell_type": "code",
   "execution_count": null,
   "metadata": {},
   "outputs": [],
   "source": [
    "let solve w rx =\n",
    "  let h = Mat.of_arrays [| [| w.ex |]; [| w.ix |] |] in\n",
    "  let sol = Mat.(inv (w_mat w) *@ neg (rx $* h)) in\n",
    "  sol"
   ]
  },
  {
   "cell_type": "code",
   "execution_count": null,
   "metadata": {},
   "outputs": [],
   "source": [
    ";;\n",
    "solve default_weights 6."
   ]
  }
 ],
 "metadata": {
  "kernelspec": {
   "display_name": "OCaml 4.07.1+flambda",
   "language": "OCaml",
   "name": "ocaml-jupyter"
  },
  "language_info": {
   "codemirror_mode": "text/x-ocaml",
   "file_extension": ".ml",
   "mimetype": "text/x-ocaml",
   "name": "OCaml",
   "nbconverter_exporter": null,
   "pygments_lexer": "OCaml",
   "version": "4.07.1"
  }
 },
 "nbformat": 4,
 "nbformat_minor": 2
}
