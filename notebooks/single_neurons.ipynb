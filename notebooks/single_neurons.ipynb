{
 "cells": [
  {
   "cell_type": "markdown",
   "metadata": {},
   "source": [
    "# Single-neuron models\n",
    "\n",
    "Neuroscience is studied at a variety of spatial and functional scales: from molecules through single neurons to networks and systems. Decades of combined electrophysiology and theory work at the _cellular level_ have nicely exemplified the type of reductionist work that is driving our understand of neural systems forward. It is about recapitulating complex biological phenomena in a couple of equations, which then form the basis for further studies at a larger scale (e.g. networks). Thus, we will start our journey in computational neuroscience by taking some time to understand what neurons are, how they respond to messages sent by other neurons, and how they generate their own messages."
   ]
  },
  {
   "cell_type": "markdown",
   "metadata": {},
   "source": [
    "This notebook is divided into two tutorial parts, followed by your first piece of coursework. The first part concerns the famous Hodgkin-Huxley model, covered in lectures. The model is fully implemented in module `Pkp.Neuron.HH`, and you use the Jupyter notebook to explore its behaviour, including the effect of different parameters on the input/output transfer function. The second part concerns reduced models of the “integrate-and-fire” type, which are no longer based on exact biophysics yet capture the response properties of real neurons very accurately. Another objective of this notebook is to progressively ease you into writing more and more complex OCaml code."
   ]
  },
  {
   "cell_type": "code",
   "execution_count": null,
   "metadata": {},
   "outputs": [],
   "source": [
    ";;\n",
    "#require \"pkp\""
   ]
  },
  {
   "cell_type": "markdown",
   "metadata": {},
   "source": [
    "The following prevents Owl from printing the contents of matrices in the cell output; this is especially useful here as we will deal with fairly large matrices. If you want to revert that, do this instead:\n",
    "```ocaml\n",
    "let () = Pkp.Misc.hooting_owl ()\n",
    "```"
   ]
  },
  {
   "cell_type": "code",
   "execution_count": null,
   "metadata": {},
   "outputs": [],
   "source": [
    "let () = Pkp.Misc.quiet_owl ()"
   ]
  },
  {
   "cell_type": "markdown",
   "metadata": {},
   "source": [
    "Let's open the `Pkp.Neuron` module once and for all since we're going to use it a lot. I find it convenient to make an alias `A`, this is going to shorten most cell outputs (types etc):"
   ]
  },
  {
   "cell_type": "code",
   "execution_count": null,
   "metadata": {},
   "outputs": [],
   "source": [
    "module A = Pkp.Neuron\n",
    "\n",
    "open A\n",
    "\n",
    "open Owl\n",
    "\n",
    "open Gp"
   ]
  },
  {
   "cell_type": "markdown",
   "metadata": {},
   "source": [
    "Take some time to look at the [documentation](https://pkp-neuro.github.io/pkp-tutorials/pkp/Pkp/Neuron/index.html) of the `Neuron.HH` module before moving on."
   ]
  },
  {
   "cell_type": "markdown",
   "metadata": {},
   "source": [
    "## 0. Preliminaries: differential equations\n",
    "\n",
    "(Skip this if you are already familiar with those). Let's take a few minutes to understand differential equations, as they will come up quite often in this course. The ones we will encounter are of the type\n",
    "\n",
    "$$ \\frac{dx}{dt} =  f[x(t), u(t)] \\qquad \\text{with known initial condition } x(t=0)$$\n",
    "\n",
    "where $x$ is some state variable, and $f(x,u)$ is some given function of the state $x(t)$ itself as well as some other (possibly time-varying) signal $u(t)$. In plain English, this equation says: \n",
    "\n",
    "> “At any time $t$, the slope of the $x(t)$ curve is given by $f[x(t), u(t)]$.”\n",
    "\n",
    "\n",
    "That's it. If we already know $x$ at some time, say $t=0$, then the equation above is enough information to fully reconstruct the whole time series of $x$. Think about how you'd draw it: you'd take some small time steps of size $\\delta_t$, and update $x$ following the local slope:\n",
    "\n",
    "$$ x(t+\\delta_t) = x(t) + \\delta_t f[x(t),u(t)] $$\n",
    "\n",
    "and move on to the next time step. It turns out this simple method is a tad too simplistic, as errors tend to accumulate unless $\\delta_t$ is tiny, in which case integration is very slow. Below, we will use more efficient solvers provided by the `Owl_ode` library.\n",
    "\n",
    "Let's go through a simple example, one that does not even involve input $u$:\n",
    "\n",
    "$$ \\frac{dx}{dt} = -\\frac{x}\\tau \\quad \\text{with} \\quad x(t=0)=a $$\n",
    "\n",
    "The exact solution to this simple “linear, first-order, ordinary differential equation” is in fact known: you can check for yourself that it is\n",
    "\n",
    "$$x(t) = a\\ \\exp\\left(-\\frac{t}{\\tau}\\right) $$\n",
    "\n",
    "which is plotted below:"
   ]
  },
  {
   "cell_type": "code",
   "execution_count": null,
   "metadata": {},
   "outputs": [],
   "source": [
    "let a = 1.2\n",
    "and tau = 0.2\n",
    "\n",
    "let solution t = a *. exp (-.t /. tau)\n",
    "\n",
    "(* define plot properties now, we'll reuse them later *)\n",
    "let props = default_props @ [ xlabel \"time t\"; ylabel \"solution x(t)\" ]\n",
    "\n",
    "let () =\n",
    "  let fig (module P : Plot) = P.plot (F (solution, Mat.linspace 0. 1. 100)) props in\n",
    "  Juplot.draw ~size:(300, 200) fig"
   ]
  },
  {
   "cell_type": "markdown",
   "metadata": {},
   "source": [
    "Let's compare that to the output of our `Owl_ode` solver:"
   ]
  },
  {
   "cell_type": "code",
   "execution_count": null,
   "metadata": {},
   "outputs": [],
   "source": [
    "let () =\n",
    "  (* solve the differential equation *)\n",
    "  let t, x =\n",
    "    let open Owl_ode in\n",
    "    let dxdt x _ = Mat.(neg x /$ tau) in\n",
    "    let tspec = Types.(T1 { t0 = 0.0; duration = 1.0; dt = 1E-1 }) in\n",
    "    let solver = Native.D.rk45 ~tol:1E-5 ~dtmax:0.1 in\n",
    "    (* let solver = Native.D.euler in *)\n",
    "    Ode.odeint solver dxdt (Mat.create 1 1 a) tspec ()\n",
    "  in\n",
    "  (* plot result *)\n",
    "  let fig (module P : Plot) =\n",
    "    P.plots\n",
    "      [ item (F (solution, Mat.linspace 0. 1. 100)) ~style:\"l lc 7 lw 2\"\n",
    "      ; item (L [ t; x ]) ~style:\"p pt 7 lc 8 ps 0.3 lw 2\"\n",
    "      ]\n",
    "      props\n",
    "  in\n",
    "  Juplot.draw ~size:(300, 200) fig"
   ]
  },
  {
   "cell_type": "markdown",
   "metadata": {},
   "source": [
    "Can't see the red curve? That's a good sign."
   ]
  },
  {
   "cell_type": "markdown",
   "metadata": {},
   "source": [
    "<span style=\"color: #ffac00; font-weight:bold;\">TODO:</span>\n",
    "1. Play with parameter $\\tau$: how does it affect the solution?\n",
    "2. Add a constant input $u$ to the equation, so it becomes $ dx/dt = (-x+u)/\\tau$. Set e.g. `u=5.0`. How does that affect the solution? Could you have predicted the steady-state value without simulating the sytem?"
   ]
  },
  {
   "cell_type": "markdown",
   "metadata": {},
   "source": [
    "## 1. Hodgkin-Huxley model\n",
    "\n",
    "Here is how to simulate a HH neuron for 100 ms with zero input:"
   ]
  },
  {
   "cell_type": "code",
   "execution_count": null,
   "metadata": {},
   "outputs": [],
   "source": [
    "let time, state = HH.simulate ~prms:HH.default_prms ~duration:0.1 (fun _ -> 0.)"
   ]
  },
  {
   "cell_type": "markdown",
   "metadata": {},
   "source": [
    "Here is a function that takes the result of a HH simulation (`Owl.Mat * Owl.Mat`, cf. documentation) and plots the voltage timecourse:"
   ]
  },
  {
   "cell_type": "code",
   "execution_count": null,
   "metadata": {},
   "outputs": [],
   "source": [
    "let plot_voltage (time, state) =\n",
    "  let figure (module P : Plot) =\n",
    "    P.plot\n",
    "      (L [ time; state ])\n",
    "      ~using:\"1:2\"\n",
    "      ~style:\"l lc 8\"\n",
    "      (default_props\n",
    "      @ [ xlabel \"time (s)\"\n",
    "        ; set \"yrange [*<-90:-55<*]\" (* autoscaling within bounds *)\n",
    "        ; ytics (`regular [ -100.; 20. ])\n",
    "        ; ylabel \"V_m (mV)\"\n",
    "        ])\n",
    "  in\n",
    "  Juplot.draw ~size:(600, 200) figure"
   ]
  },
  {
   "cell_type": "markdown",
   "metadata": {},
   "source": [
    "<span style=\"color: #ffac00; font-weight:bold;\">TODO:</span> Use this function to display the result of your simulation above."
   ]
  },
  {
   "cell_type": "code",
   "execution_count": null,
   "metadata": {},
   "outputs": [],
   "source": [
    "(* your code here *)"
   ]
  },
  {
   "cell_type": "markdown",
   "metadata": {},
   "source": [
    "### 1.1 Simulation with constant input current\n",
    "\n",
    "<span style=\"color: #ffac00; font-weight:bold;\">TODO:</span> Now write code to define this input current (function of time):\n",
    "\n",
    "$$ u(t) = \\left\\{ \\begin{array}{ll}\n",
    "  0 & \\text{if } t<0.04\\\\\n",
    "  h & \\text{otherwise}\n",
    "  \\end{array}\\right.\n",
    "$$\n",
    "\n",
    "where $h$ is some constant current. Re-run the `HH.simulate` code above, now with this input function in place of `(fun _ -> 0.)`. Adjust $h$, starting from some very low value (remember, we are talking about `< 1E-9` amperes), increasing it until you get an action potential. What is the threshold $h$ value, approximately? (you may want to play with the simulation `duration` as well)."
   ]
  },
  {
   "cell_type": "code",
   "execution_count": null,
   "metadata": {},
   "outputs": [],
   "source": [
    "(* your code here *)"
   ]
  },
  {
   "cell_type": "markdown",
   "metadata": {},
   "source": [
    "<span style=\"color: #ffa500; font-weight:bold;\">ADVANCED:</span> Now, write a function `plot_all` similar to `plot_voltage` above, but which adds another plot (underneath the main voltage plot) showing the timecourse of the 3 gate variables. Use this function to inspect the behaviour of the gate variables ─ this should help you understand the model."
   ]
  },
  {
   "cell_type": "code",
   "execution_count": null,
   "metadata": {},
   "outputs": [],
   "source": [
    "(* your advanced code here ^^ *)"
   ]
  },
  {
   "cell_type": "markdown",
   "metadata": {},
   "source": [
    "### 1.2 Anode break excitation"
   ]
  },
  {
   "cell_type": "markdown",
   "metadata": {},
   "source": [
    "Simulate the HH model using the following _negative_ (hyperpolarising) input current:\n",
    "\n",
    "$$ u(t) = \\left\\{ \\begin{array}{ll}\n",
    "   -h & \\text{if } t<0.04\\\\\n",
    "   0  & \\text{otherwise}\n",
    "   \\end{array} \\right. $$\n",
    "   \n",
    "where $h>0$. Try `h=0.4E-9` (0.4 nA). What happens? Is there a minimum value of `h` for which this phenomenon occurs?"
   ]
  },
  {
   "cell_type": "markdown",
   "metadata": {},
   "source": [
    "## 2. Leaky integrate-and-fire (LIF) model\n",
    "\n",
    "Redo all the steps above, now using the `LIF` module.\n",
    "\n",
    "What can you infer about the key qualitative similarities and differences between the HH and LIF models?"
   ]
  },
  {
   "cell_type": "markdown",
   "metadata": {},
   "source": [
    "## 3. Some solutions\n",
    "\n",
    "☝ Don't look below ↓ unless you are really stuck! ☝"
   ]
  },
  {
   "cell_type": "code",
   "execution_count": null,
   "metadata": {},
   "outputs": [],
   "source": [
    "let _ =\n",
    "  let u t = if t < 0.04 then 0. else 0.64E-9 in\n",
    "  let t, vm = HH.simulate ~prms:HH.default_prms ~duration:0.6 u in\n",
    "  plot_voltage (t, vm)"
   ]
  },
  {
   "cell_type": "code",
   "execution_count": null,
   "metadata": {},
   "outputs": [],
   "source": [
    "let plot_all (time, state) =\n",
    "  let figure (module P : Plot) =\n",
    "    (* membrane potential *)\n",
    "    P.plot\n",
    "      (L [ time; state ])\n",
    "      ~using:\"1:2\"\n",
    "      ~style:\"l lc 8\"\n",
    "      (default_props\n",
    "      @ [ margins [ `left 0.2; `right 0.9; `top 0.9; `bottom 0.55 ]\n",
    "        ; borders [ `left ]\n",
    "        ; set \"yrange [*<-90:-55<*]\" (* autoscaling within bounds *)\n",
    "        ; ytics (`regular [ -100.; 20. ])\n",
    "        ; ylabel \"V_m (mV)\"\n",
    "        ; unset \"xtics\"\n",
    "        ]);\n",
    "    (* the 3 gate variables *)\n",
    "    P.plots\n",
    "      List.(\n",
    "        init 3 (fun j ->\n",
    "            let g = Mat.col state (j + 1) in\n",
    "            item (L [ time; g ]) ~style:Printf.(sprintf \"l lc %i\" j)))\n",
    "      (default_props\n",
    "      @ [ margins [ `left 0.2; `right 0.9; `top 0.5; `bottom 0.2 ]\n",
    "        ; xtics (`regular [ 0.; 0.05 ])\n",
    "        ; xlabel \"time\"\n",
    "        ; yrange (0., 1.01)\n",
    "        ; ylabel \"gate\"\n",
    "        ])\n",
    "  in\n",
    "  Juplot.draw ~size:(600, 400) figure"
   ]
  },
  {
   "cell_type": "code",
   "execution_count": null,
   "metadata": {},
   "outputs": [],
   "source": [
    "let _ =\n",
    "  let input t = if t < 0.02 then 0. else 0.34E-9 in\n",
    "  LIF.simulate ~prms:LIF.default_prms ~duration:0.1 input\n",
    "  |> plot_voltage "
   ]
  },
  {
   "cell_type": "markdown",
   "metadata": {},
   "source": [
    "---\n",
    "\n",
    "# COURSEWORK 1\n",
    "\n",
    "<span style=\"color: #ffac00; font-weight: bold;\">SUBMISSION DEADLINE:</span> Thursday 8 August 6pm. \n",
    "\n",
    "Please answer both questions, in less than 500 words each (+ code).\n",
    "\n",
    "- Write your answers directly in markdown cells in this notebook.\n",
    "- Do include simulation code + figures, but not limit your answer to these; instead, write a _narrative_.\n",
    "- Make sure to submit a clean notebook; in particular:\n",
    "   - all cells must have been evaluated without errors; do not “clear outputs” before submitting\n",
    "   - the whole notebook is *linear*, i.e. can be re-evaluated (e.g. by me!) by only moving forward cell by cell.\n",
    "   \n",
    "To submit, simply drag-and-drop your file in a direct message to me on [slack](https://pkp-neuro.slack.com)."
   ]
  },
  {
   "cell_type": "markdown",
   "metadata": {},
   "source": [
    "**Please replace this line with your student PID**"
   ]
  },
  {
   "cell_type": "markdown",
   "metadata": {},
   "source": [
    "## Question 1\n",
    "\n",
    "Investigate the response of the HH and LIF models (with their default parameters) to some constant input `h`. Specifically, for each model:\n",
    "1. Plot the steady-state firing rate (number of spikes per second, discarding any transient phase) as a function of `h`, over an “interesting range of `h`” (which you must determine) so we can clearly see the firing rate increasing from zero to tens of Hz as `h` increases.\n",
    "2. Comment on the main qualitative differences between the two models.\n",
    "\n",
    "Hint: you can use the function `Pkp.Neuron.count_spikes`."
   ]
  },
  {
   "cell_type": "markdown",
   "metadata": {},
   "source": [
    "# Question 2\n",
    "\n",
    "Investigate the “frequency response” (see below) of the HH and LIF models (with their default parameters). Specifically, consider injecting a current of the form\n",
    "\n",
    "$$ h(t) = a\\ \\cos (2\\pi f t) $$ \n",
    "\n",
    "where $f$ is some stimulation frequency (in Hz), and `a=0.1E-9` is a constant small enough so that the input does not cause the neuron to fire an action potential.\n",
    "Since the input is periodic, so will the output (after some transient).\n",
    "\n",
    "To convince yourself that that's true, begin by looking at the voltage response for `f=20.0` Hz.\n",
    "\n",
    "Next, plot the amplitude of the $V_m$ oscillations (peak-to-trough), as a function of $h$ (Hint: you might want to use `Mat.max'` and `Mat.min'`). Is there any difference between the HH and LIF models?"
   ]
  }
 ],
 "metadata": {
  "kernelspec": {
   "display_name": "OCaml 4.07.1+flambda",
   "language": "OCaml",
   "name": "ocaml-jupyter"
  },
  "language_info": {
   "codemirror_mode": "text/x-ocaml",
   "file_extension": ".ml",
   "mimetype": "text/x-ocaml",
   "name": "OCaml",
   "nbconverter_exporter": null,
   "pygments_lexer": "OCaml",
   "version": "4.07.1"
  }
 },
 "nbformat": 4,
 "nbformat_minor": 2
}
