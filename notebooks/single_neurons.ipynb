{
 "cells": [
  {
   "cell_type": "markdown",
   "metadata": {},
   "source": [
    "# PRELIMINARIES"
   ]
  },
  {
   "cell_type": "code",
   "execution_count": null,
   "metadata": {},
   "outputs": [],
   "source": [
    ";;\n",
    "#require \"pkp\""
   ]
  },
  {
   "cell_type": "code",
   "execution_count": null,
   "metadata": {},
   "outputs": [],
   "source": [
    "open Pkp\n",
    "\n",
    "open Single_neuron"
   ]
  },
  {
   "cell_type": "code",
   "execution_count": null,
   "metadata": {},
   "outputs": [],
   "source": [
    "let plot_signal x =\n",
    "  let plot (module F : Figure) =\n",
    "    F.barebone ();\n",
    "    F.plot [| ([ x ], \"w l lc 8 lw 2\") |]\n",
    "  in\n",
    "  Juplot.draw ~fmt:`svg ~size:(800, 200) plot"
   ]
  },
  {
   "cell_type": "code",
   "execution_count": null,
   "metadata": {},
   "outputs": [],
   "source": [
    "(* data: array of (time, state) arrays *)\n",
    "let plot_voltage ?colors data =\n",
    "  let open Gp in\n",
    "  let plot (module F : Figure) =\n",
    "    F.barebone ();\n",
    "    F.set Border [ `l ];\n",
    "    F.set Range (`y, (-100., 40.));\n",
    "    F.set Tics (`y, `def (-100., 40., 40.)) ~o:\"out nomirror\";\n",
    "    F.ex \"set offsets graph 0.02, 0, 0, 0\";\n",
    "    F.set Label (`y, \"V_m [mV]\") ~o:\"offset 4, 0 norotate\";\n",
    "    Array.mapi\n",
    "      (fun i (t, u) ->\n",
    "        let color = match colors with Some z -> z.(i) | None -> \"black\" in\n",
    "        ( [ t; Mat.(1E3 $* col u 0) ],\n",
    "          Printf.sprintf \"w l lc rgb '%s' lw 2\" color ) )\n",
    "      data\n",
    "    |> F.plot\n",
    "  in\n",
    "  Juplot.draw ~fmt:`svg ~size:(800, 200) plot"
   ]
  },
  {
   "cell_type": "markdown",
   "metadata": {},
   "source": [
    "# HODGKIN-HUXLEY MODEL"
   ]
  },
  {
   "cell_type": "code",
   "execution_count": null,
   "metadata": {},
   "outputs": [],
   "source": [
    "module S = HH (HH_default_prms)"
   ]
  },
  {
   "cell_type": "markdown",
   "metadata": {},
   "source": [
    "## Simulation with constant input current\n",
    "\n",
    "Here we can play with the input current and see that the neuron only spikes for large enough current:"
   ]
  },
  {
   "cell_type": "code",
   "execution_count": null,
   "metadata": {},
   "outputs": [],
   "source": [
    "let _ =\n",
    "  let input t = if t < 0.02 then 0. else 2.2E-10 in\n",
    "  let t, u = S.simulate ~duration:0.1 input in\n",
    "  plot_voltage [| (t, u) |]"
   ]
  },
  {
   "cell_type": "markdown",
   "metadata": {},
   "source": [
    "Now, let's plot the voltage for various amplitudes of the step current: "
   ]
  },
  {
   "cell_type": "code",
   "execution_count": null,
   "metadata": {},
   "outputs": [],
   "source": [
    "let _ =\n",
    "  [| 2.0; 2.4; 2.6; 4.0; 10.0 |]\n",
    "  |> Array.map (fun c ->\n",
    "         S.simulate ~duration:0.1 (fun t -> if t < 0.02 then 0. else c *. 1E-10)\n",
    "     )\n",
    "  |> plot_voltage\n",
    "       ~colors:[| \"#1b9e77\"; \"#d95f02\"; \"#7570b3\"; \"#e7298a\"; \"#66a61e\" |]"
   ]
  },
  {
   "cell_type": "markdown",
   "metadata": {},
   "source": [
    "Let's inspect the \"gating variables\": can you guess which one is which?"
   ]
  },
  {
   "cell_type": "code",
   "execution_count": null,
   "metadata": {},
   "outputs": [],
   "source": [
    "let _ =\n",
    "  let t, u =\n",
    "    S.simulate ~duration:0.1 (fun t -> if t < 0.02 then 0. else 2.4E-10)\n",
    "  in\n",
    "  let open Gp in\n",
    "  let plot (module F : Figure) =\n",
    "    F.barebone ();\n",
    "    F.set Range (`x, (0.015, 0.04));\n",
    "    F.margins [ `l 0.3; `r 0.9 ];\n",
    "    F.ex \"set ytics out nomirror\";\n",
    "    F.set Border [ `l ];\n",
    "    F.set Multiplot ();\n",
    "    (* voltage at the top *)\n",
    "    F.set Label (`y, \"V_m [mV]\") ~o:\"offset 3, 0 norotate\";\n",
    "    F.margins [ `t 0.9; `b 0.6 ];\n",
    "    F.plot [| ([ t; Mat.(1E3 $* col u 0) ], \"w l lc 8 lw 2\") |];\n",
    "    (* gate variables *)\n",
    "    F.set Label (`y, \"gate\");\n",
    "    F.margins [ `t 0.5; `b 0.2 ];\n",
    "    F.set Range (`y, (0., 1.));\n",
    "    F.set Tics (`y, `def (0., 1., 1.));\n",
    "    [| 1; 2; 3 |]\n",
    "    |> Array.map (fun i ->\n",
    "           ([ t; Mat.col u i ], Printf.sprintf \"w l lc %i lw 2\" i) )\n",
    "    |> F.plot;\n",
    "    F.unset Multiplot ()\n",
    "  in\n",
    "  Juplot.draw ~fmt:`svg ~size:(500, 300) plot"
   ]
  },
  {
   "cell_type": "markdown",
   "metadata": {},
   "source": [
    "## Simulation with random input current"
   ]
  },
  {
   "cell_type": "code",
   "execution_count": null,
   "metadata": {},
   "outputs": [],
   "source": [
    "let _ = plot_signal Misc.(ou_process ~tau:20E-3 ~dt:1E-3 ~duration:1.0)"
   ]
  },
  {
   "cell_type": "code",
   "execution_count": null,
   "metadata": {},
   "outputs": [],
   "source": [
    "let noise =\n",
    "  let dt = 1E-3 in\n",
    "  let x = Misc.ou_process ~tau:20E-3 ~dt ~duration:1.1 in\n",
    "  fun t -> Mat.get x 0 (int_of_float (t /. dt))"
   ]
  },
  {
   "cell_type": "code",
   "execution_count": null,
   "metadata": {},
   "outputs": [],
   "source": [
    "let _ =\n",
    "  let t, u = S.simulate ~duration:1.0 (fun t -> 2E-10 *. (-2. +. noise t)) in\n",
    "  plot_voltage [| (t, u) |]"
   ]
  },
  {
   "cell_type": "markdown",
   "metadata": {},
   "source": [
    "----\n",
    "\n",
    "# LEAKY INTEGRATE-AND-FIRE MODEL"
   ]
  },
  {
   "cell_type": "code",
   "execution_count": null,
   "metadata": {},
   "outputs": [],
   "source": [
    "module S = LIF (LIF_default_prms)"
   ]
  },
  {
   "cell_type": "code",
   "execution_count": null,
   "metadata": {},
   "outputs": [],
   "source": [
    "let _ =\n",
    "  [| 2.0; 2.4; 2.6; 4.0; 10.0 |]\n",
    "  |> Array.map (fun c ->\n",
    "         S.simulate ~duration:0.1 (fun t -> if t < 0.02 then 0. else c *. 3E-3)\n",
    "     )\n",
    "  |> plot_voltage\n",
    "       ~colors:[| \"#1b9e77\"; \"#d95f02\"; \"#7570b3\"; \"#e7298a\"; \"#66a61e\" |]"
   ]
  },
  {
   "cell_type": "code",
   "execution_count": null,
   "metadata": {},
   "outputs": [],
   "source": []
  }
 ],
 "metadata": {
  "kernelspec": {
   "display_name": "OCaml 4.07.1+flambda",
   "language": "OCaml",
   "name": "ocaml-jupyter"
  },
  "language_info": {
   "codemirror_mode": "text/x-ocaml",
   "file_extension": ".ml",
   "mimetype": "text/x-ocaml",
   "name": "OCaml",
   "nbconverter_exporter": null,
   "pygments_lexer": "OCaml",
   "version": "4.07.1"
  }
 },
 "nbformat": 4,
 "nbformat_minor": 2
}
