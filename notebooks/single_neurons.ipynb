{
 "cells": [
  {
   "cell_type": "markdown",
   "metadata": {},
   "source": [
    "# Single-neuron models\n",
    "\n",
    "Neuroscience is studied at a variety of spatial and functional scales: from molecules through single neurons to networks and systems. Decades of combined electrophysiology and theory work at the _cellular level_ have nicely exemplified the type of reductionist work that is driving our understand of neural systems forward. It is about recapitulating complex biological phenomena in a couple of equations, which then form the basis for further studies at a larger scale (e.g. networks). Thus, we will start our journey in computational neuroscience by taking some time to understand what neurons are, how they respond to messages sent by other neurons, and how they generate their own messages."
   ]
  },
  {
   "cell_type": "markdown",
   "metadata": {},
   "source": [
    "This notebook is divided into two tutorial parts, followed by your first piece of coursework. The first part concerns the famous Hodgkin-Huxley model, covered in lectures. The model is fully implemented in module `Pkp.Neuron.HH`, and you use the Jupyter notebook to explore its behaviour, including the effect of different parameters on the input/output transfer function. The second part concerns reduced models of the “integrate-and-fire” type, which are no longer based on exact biophysics yet capture the response properties of real neurons very accurately. Another objective of this notebook is to progressively ease you into writing more and more complex OCaml code."
   ]
  },
  {
   "cell_type": "code",
   "execution_count": null,
   "metadata": {},
   "outputs": [],
   "source": [
    "#require \"pkp\""
   ]
  },
  {
   "cell_type": "markdown",
   "metadata": {},
   "source": [
    "The following prevents Owl from printing the contents of matrices in the cell output; this is especially useful here as we will deal with fairly large matrices. If you want to revert that, do this instead:\n",
    "```ocaml\n",
    "let () = Pkp.Misc.hooting_owl ()\n",
    "```"
   ]
  },
  {
   "cell_type": "code",
   "execution_count": null,
   "metadata": {},
   "outputs": [],
   "source": [
    "let () = Pkp.Misc.quiet_owl ()"
   ]
  },
  {
   "cell_type": "markdown",
   "metadata": {},
   "source": [
    "Let's open the `Pkp.Neuron` module once and for all since we're going to use it a lot."
   ]
  },
  {
   "cell_type": "code",
   "execution_count": null,
   "metadata": {},
   "outputs": [],
   "source": [
    "open Owl\n",
    "\n",
    "open Gp\n",
    "\n",
    "open Pkp.Neuron"
   ]
  },
  {
   "cell_type": "markdown",
   "metadata": {},
   "source": [
    "Take some time to look at the [documentation](https://pkp-neuro.github.io/pkp-tutorials/pkp/Pkp/Neuron/index.html) of the `Neuron.HH` module before moving on."
   ]
  },
  {
   "cell_type": "markdown",
   "metadata": {},
   "source": [
    "## 0. Preliminaries: differential equations\n",
    "\n",
    "(Skip this if you are already familiar with those). Let's take a few minutes to understand differential equations, as they will come up quite often in this course. The ones we will encounter are of the type\n",
    "\n",
    "$$ \\frac{dx}{dt} =  f[x(t), u(t)] \\qquad \\text{with known initial condition } x(t=0)$$\n",
    "\n",
    "where $x$ is some state variable (which varies over time), and $f(x,u)$ is some given function of the state $x(t)$ itself as well as some other (possibly time-varying) signal $u(t)$. The differential equation above tells us how $x(t)$ evolves over time. In plain English, this equation says: \n",
    "\n",
    "> “At any time $t$, the slope (i.e. rate of change) of the $x(t)$ curve is given by $f[x(t), u(t)]$.”\n",
    "\n",
    "\n",
    "That's it. If we already know $x$ at some time, say $t=0$, then the equation above is enough information to fully reconstruct the whole time series of $x$. Think about how you'd draw it: you'd take some small time steps of size $\\delta_t$, and update $x$ following the local slope:\n",
    "\n",
    "$$ x(t+\\delta_t) = x(t) + \\delta_t f[x(t),u(t)] $$\n",
    "\n",
    "and move on to the next time step. It turns out this simple method is a tad too simplistic, as errors tend to accumulate unless $\\delta_t$ is tiny, in which case integration is very slow. Below, we will use more efficient solvers provided by the `Owl_ode` library.\n",
    "\n",
    "Let's go through a simple example, one that does not even involve input $u$:\n",
    "\n",
    "$$ \\frac{dx}{dt} = -\\frac{x}\\tau \\quad \\text{with} \\quad x(t=0)=a $$\n",
    "\n",
    "The exact solution to this simple “linear, first-order, ordinary differential equation” is in fact known: you can check for yourself that it is\n",
    "\n",
    "$$x(t) = a\\ \\exp\\left(-\\frac{t}{\\tau}\\right) $$\n",
    "\n",
    "which is plotted below:"
   ]
  },
  {
   "cell_type": "code",
   "execution_count": null,
   "metadata": {},
   "outputs": [],
   "source": [
    "let a = 1.2\n",
    "and tau = 0.2\n",
    "\n",
    "let solution t = a *. exp (-.t /. tau)\n",
    "\n",
    "(* define plot properties now, we'll reuse them later *)\n",
    "let props = default_props @ [ xlabel \"time t\"; ylabel \"solution x(t)\" ]\n",
    "\n",
    "let () =\n",
    "  let fig (module P : Plot) = P.plot (F (solution, Mat.linspace 0. 1. 100)) props in\n",
    "  Juplot.draw ~size:(300, 200) fig"
   ]
  },
  {
   "cell_type": "markdown",
   "metadata": {},
   "source": [
    "Let's compare that to the output of our `Owl_ode` solver:"
   ]
  },
  {
   "cell_type": "code",
   "execution_count": null,
   "metadata": {},
   "outputs": [],
   "source": [
    "let () =\n",
    "  (* solve the differential equation *)\n",
    "  let t, x =\n",
    "    let open Owl_ode in\n",
    "    let dxdt x _ = Mat.(neg x /$ tau) in\n",
    "    let tspec = Types.(T1 { t0 = 0.0; duration = 1.0; dt = 1E-1 }) in\n",
    "    let solver = Owl_ode_sundials.cvode ~stiff:false ~relative_tol:1E-3 ~abs_tol:0. in\n",
    "(*     let solver = Native.D.euler in *)\n",
    "    Ode.odeint solver dxdt (Mat.create 1 1 a) tspec ()\n",
    "  in\n",
    "  (* plot result *)\n",
    "  let fig (module P : Plot) =\n",
    "    P.plots\n",
    "      [ item (F (solution, Mat.linspace 0. 1. 100))\n",
    "      ; item (L [ t; x ]) ~style:\"p pt 7 lc 7 ps 0.6 lw 2\"\n",
    "      ]\n",
    "      props\n",
    "  in\n",
    "  Juplot.draw ~size:(300, 200) fig"
   ]
  },
  {
   "cell_type": "markdown",
   "metadata": {},
   "source": [
    "<span style=\"color: #ffac00; font-weight:bold;\">TODO:</span>\n",
    "1. Play with parameter $\\tau$: how does it affect the solution?\n",
    "2. Add a constant input $u$ to the equation, so it becomes $ dx/dt = (-x+u)/\\tau$. Set e.g. `u=5.0`. How does that affect the solution? Could you have predicted the steady-state value without simulating the sytem?"
   ]
  },
  {
   "cell_type": "markdown",
   "metadata": {},
   "source": [
    "## 1. Hodgkin-Huxley model\n",
    "\n",
    "Here is how to simulate a HH neuron for 100 ms with zero input:"
   ]
  },
  {
   "cell_type": "code",
   "execution_count": null,
   "metadata": {},
   "outputs": [],
   "source": [
    "let time, state = HH.simulate ~prms:HH.default_prms ~duration:0.2 (fun _ -> 0.)"
   ]
  },
  {
   "cell_type": "markdown",
   "metadata": {},
   "source": [
    "Below is a function that takes the `(time, state)` result of a HH simulation (`Owl.Mat * Owl.Mat`; cf. documentation) and plots the voltage timecourse. There is also an optional argument `?time_range` which you can use to zoom in on a specific time interval (e.g. `~time_range:(0.2, 0.25)` in seconds).\n",
    "\n",
    "Just evaluate the cell, and you will then be able to use this function to plot the result of any subsequent simulation."
   ]
  },
  {
   "cell_type": "code",
   "execution_count": null,
   "metadata": {},
   "outputs": [],
   "source": [
    "let plot_voltage ?time_range (time, state) =\n",
    "  let figure (module P : Plot) =\n",
    "    let tr =\n",
    "      match time_range with\n",
    "      | Some r -> r\n",
    "      | None -> 0., Mat.max' time\n",
    "    in\n",
    "    P.plot\n",
    "      (L [ time; state ])\n",
    "      ~style:\"l lc 8\"\n",
    "      (default_props\n",
    "      @ [ xrange tr\n",
    "        ; xlabel \"time (s)\"\n",
    "        ; set \"yrange [*<-90:-55<*]\" (* autoscaling within bounds *)\n",
    "        ; ytics (`regular [ -100.; 20. ])\n",
    "        ; ylabel \"V_m (mV)\"\n",
    "        ])\n",
    "  in\n",
    "  Juplot.draw ~size:(600, 200) figure"
   ]
  },
  {
   "cell_type": "markdown",
   "metadata": {},
   "source": [
    "<span style=\"color: #ffac00; font-weight:bold;\">TODO:</span> Use this function to display the result of your first simulation above."
   ]
  },
  {
   "cell_type": "code",
   "execution_count": null,
   "metadata": {},
   "outputs": [],
   "source": [
    "(* your code here *)"
   ]
  },
  {
   "cell_type": "markdown",
   "metadata": {},
   "source": [
    "### 1.1 Simulation with constant input current\n",
    "\n",
    "<span style=\"color: #ffac00; font-weight:bold;\">TODO:</span> Now write code to define the following function of time (which we will use as input current below):\n",
    "\n",
    "$$ u(t) = \\left\\{ \\begin{array}{ll}\n",
    "  0 & \\text{if } t<0.04\\\\\n",
    "  h & \\text{otherwise}\n",
    "  \\end{array}\\right.\n",
    "$$\n",
    "\n",
    "where $h$ is some constant current."
   ]
  },
  {
   "cell_type": "code",
   "execution_count": null,
   "metadata": {},
   "outputs": [],
   "source": [
    "(* your code here *)"
   ]
  },
  {
   "cell_type": "markdown",
   "metadata": {},
   "source": [
    "Re-run the `HH.simulate` code above, now with this input function `u` in place of `(fun _ -> 0.)` (you might want to copy the cell and paste it below). Adjust $h$, starting from some very low value (remember, we are talking about input currents on the order of `< 1E-9` amperes), increasing it until you get an action potential. Approximately, what is the minimum value of $h$ that you need to use to elicit an action potential?"
   ]
  },
  {
   "cell_type": "code",
   "execution_count": null,
   "metadata": {},
   "outputs": [],
   "source": [
    "(* your code here *)"
   ]
  },
  {
   "cell_type": "markdown",
   "metadata": {},
   "source": [
    "In order to understand the model, you might want to also also inspect the \"gate\" variables $n$, $m$, and $h$, in addition to the voltages. For this, you can use the function `plot_all` defined below -- it takes the same arguments as `plot_voltage`."
   ]
  },
  {
   "cell_type": "markdown",
   "metadata": {},
   "source": [
    "### 1.2 A paradoxical effect: “anode break excitation”"
   ]
  },
  {
   "cell_type": "markdown",
   "metadata": {},
   "source": [
    "Simulate the HH model using the following _negative_ (hyperpolarising) input current:\n",
    "\n",
    "$$ u(t) = \\left\\{ \\begin{array}{ll}\n",
    "   -h & \\text{if } t<0.04\\\\\n",
    "   0  & \\text{otherwise}\n",
    "   \\end{array} \\right. $$\n",
    "   \n",
    "where $h>0$. Try `h=0.4E-9` (0.4 nA). What happens? Is there a minimum value of `h` for which this phenomenon occurs?"
   ]
  },
  {
   "cell_type": "code",
   "execution_count": null,
   "metadata": {},
   "outputs": [],
   "source": [
    "(* your code here *)"
   ]
  },
  {
   "cell_type": "markdown",
   "metadata": {},
   "source": [
    "## 2. Leaky integrate-and-fire (LIF) model\n",
    "\n",
    "Redo all the steps above, now using the `LIF` module.\n",
    "\n",
    "What can you infer about the key qualitative similarities and differences between the HH and LIF models?"
   ]
  },
  {
   "cell_type": "code",
   "execution_count": null,
   "metadata": {},
   "outputs": [],
   "source": [
    "(* your code here *)"
   ]
  },
  {
   "cell_type": "markdown",
   "metadata": {},
   "source": [
    "----"
   ]
  },
  {
   "cell_type": "markdown",
   "metadata": {},
   "source": [
    "### A useful function:\n",
    "\n",
    "This function takes the result of a call to `HH.simulate`, and plots both the voltage and the 3 gate variables."
   ]
  },
  {
   "cell_type": "code",
   "execution_count": null,
   "metadata": {},
   "outputs": [],
   "source": [
    "let plot_all ?time_range (time, state) =\n",
    "  let figure (module P : Plot) =\n",
    "    let tr =\n",
    "      match time_range with\n",
    "      | Some r -> r\n",
    "      | None -> 0., Mat.max' time\n",
    "    in\n",
    "    (* membrane potential *)\n",
    "    P.plot\n",
    "      (L [ time; state ])\n",
    "      ~using:\"1:2\"\n",
    "      ~style:\"l lc 8\"\n",
    "      (default_props\n",
    "      @ [ margins [ `left 0.2; `right 0.9; `top 0.9; `bottom 0.55 ]\n",
    "        ; borders [ `left ]\n",
    "        ; xrange tr\n",
    "        ; set \"yrange [*<-90:-55<*]\" (* autoscaling within bounds *)\n",
    "        ; ytics (`regular [ -100.; 20. ])\n",
    "        ; ylabel \"V_m (mV)\"\n",
    "        ; unset \"xtics\"\n",
    "        ]);\n",
    "    (* the 3 gate variables *)\n",
    "    P.plots\n",
    "      (List.map\n",
    "         (fun (j, legend) ->\n",
    "           let g = Mat.col state j in\n",
    "           item (L [ time; g ]) ~legend ~style:Printf.(sprintf \"l lc %i\" j))\n",
    "         [ 1, \"m\"; 2, \"h\"; 3, \"n\" ])\n",
    "      (default_props\n",
    "      @ [ margins [ `left 0.2; `right 0.9; `top 0.5; `bottom 0.2 ]\n",
    "        ; xrange tr\n",
    "        ; xtics (`regular [ 0.; 0.05 ])\n",
    "        ; xlabel \"time\"\n",
    "        ; yrange (0., 1.01)\n",
    "        ; ylabel \"gate\"\n",
    "        ])\n",
    "  in\n",
    "  Juplot.draw ~size:(600, 400) figure"
   ]
  }
 ],
 "metadata": {
  "kernelspec": {
   "display_name": "OCaml 4.07.1+flambda",
   "language": "OCaml",
   "name": "ocaml-jupyter"
  },
  "language_info": {
   "codemirror_mode": "text/x-ocaml",
   "file_extension": ".ml",
   "mimetype": "text/x-ocaml",
   "name": "OCaml",
   "nbconverter_exporter": null,
   "pygments_lexer": "OCaml",
   "version": "4.07.1"
  }
 },
 "nbformat": 4,
 "nbformat_minor": 2
}
