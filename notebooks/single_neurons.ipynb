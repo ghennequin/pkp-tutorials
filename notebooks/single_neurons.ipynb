{
 "cells": [
  {
   "cell_type": "markdown",
   "metadata": {},
   "source": [
    "# SETUP"
   ]
  },
  {
   "cell_type": "code",
   "execution_count": null,
   "metadata": {},
   "outputs": [],
   "source": [
    ";;\n",
    "#require \"pkp\""
   ]
  },
  {
   "cell_type": "code",
   "execution_count": null,
   "metadata": {},
   "outputs": [],
   "source": [
    "open Printf\n",
    "\n",
    "module A = Pkp.Single_neuron\n",
    "\n",
    "open A"
   ]
  },
  {
   "cell_type": "code",
   "execution_count": null,
   "metadata": {},
   "outputs": [],
   "source": [
    "let plot_signal x =\n",
    "  let plot (module P : Plot) = P.plot (A x) ~style:\"l lc 8 lw 2\" [ barebone ] in\n",
    "  Juplot.draw ~fmt:`svg ~size:(800, 200) plot"
   ]
  },
  {
   "cell_type": "code",
   "execution_count": null,
   "metadata": {},
   "outputs": [],
   "source": [
    "(* data: array of (time, state) arrays *)\n",
    "let plot_voltage ?(size = 500, 200) ?colors ?(voltage_range = -100., 40.) data =\n",
    "  let open Gp in\n",
    "  let plot (module P : Plot) =\n",
    "    let props =\n",
    "      [ barebone\n",
    "      ; borders [ `left ]\n",
    "      ; yrange voltage_range\n",
    "      ; ytics (`regular [ -100.; 40. ]) ~o:\"out nomirror\"\n",
    "      ; set \"offsets graph 0.02, 0, 0, 0\"\n",
    "      ; ylabel \"V_m [mV]\" ~o:\"offset 4, 0 norotate\"\n",
    "      ]\n",
    "    in\n",
    "    let items =\n",
    "      Array.mapi\n",
    "        (fun i (t, u) ->\n",
    "          let color =\n",
    "            match colors with\n",
    "            | Some z -> z.(i)\n",
    "            | None -> \"black\"\n",
    "          in\n",
    "          item (L [ t; Mat.col u 0 ]) ~style:(sprintf \"l lc rgb '%s' lw 1\" color))\n",
    "        data\n",
    "      |> Array.to_list\n",
    "    in\n",
    "    P.plots items props\n",
    "  in\n",
    "  Juplot.draw ~fmt:`svg ~size plot"
   ]
  },
  {
   "cell_type": "markdown",
   "metadata": {},
   "source": [
    "# NOBEL PRIZE-WINNING MODEL (HODGKIN-HUXLEY, 1952)"
   ]
  },
  {
   "cell_type": "markdown",
   "metadata": {},
   "source": [
    "## Simulation with constant input current\n",
    "\n",
    "Here we can play with the input current and see that the neuron only spikes for large enough current:"
   ]
  },
  {
   "cell_type": "code",
   "execution_count": null,
   "metadata": {},
   "outputs": [],
   "source": [
    "let _ =\n",
    "  let input t = if t < 0.02 then 0. else 1.3E-3 in\n",
    "  let t, u =\n",
    "    Hodgkin_Huxley.simulate ~prms:Hodgkin_Huxley.default_prms ~duration:0.2 input\n",
    "  in\n",
    "  plot_voltage ~voltage_range:(-82., 50.) [| t, u |]"
   ]
  },
  {
   "cell_type": "markdown",
   "metadata": {},
   "source": [
    "Now, let's plot the voltage for various amplitudes of the step current: "
   ]
  },
  {
   "cell_type": "code",
   "execution_count": null,
   "metadata": {},
   "outputs": [],
   "source": [
    "let _ =\n",
    "  [| 1.2E-3; 2E-3; 4E-3 |]\n",
    "  |> Array.map (fun c ->\n",
    "         Hodgkin_Huxley.simulate\n",
    "           ~prms:Hodgkin_Huxley.default_prms\n",
    "           ~duration:0.1\n",
    "           (fun t -> if t < 0.01 then 0. else c))\n",
    "  |> plot_voltage\n",
    "       ~voltage_range:(-82., 50.)\n",
    "       ~colors:[| \"#1b9e77\"; \"#d95f02\"; \"#7570b3\" |]"
   ]
  },
  {
   "cell_type": "markdown",
   "metadata": {},
   "source": [
    "Let's inspect the \"gating variables\": can you guess which one is which?"
   ]
  },
  {
   "cell_type": "code",
   "execution_count": null,
   "metadata": {},
   "outputs": [],
   "source": [
    "let _ =\n",
    "  let input t = if t < 0.02 then 0. else 4E-3 in\n",
    "  let t, u =\n",
    "    Hodgkin_Huxley.simulate ~prms:Hodgkin_Huxley.default_prms ~duration:0.1 input\n",
    "  in\n",
    "  let open Gp in\n",
    "  let plot (module P : Plot) =\n",
    "    let p0 = [ barebone; margins [ `left 0.3; `right 0.9 ]; xrange (0.015, 0.04) ] in\n",
    "    let p1 =\n",
    "      [ margins [ `top 0.9; `bottom 0.6 ]\n",
    "      ; borders [ `left ]\n",
    "      ; ylabel \"V_m [mV]\" ~o:\"offset 3, 0 norotate\"\n",
    "      ; ytics (`regular [ -70.; 20. ]) ~o:\"out nomirror\"\n",
    "      ]\n",
    "    in\n",
    "    let p2 =\n",
    "      [ margins [ `top 0.5; `bottom 0.2 ]\n",
    "      ; borders [ `left; `bottom ]\n",
    "      ; xtics `auto\n",
    "      ; xlabel \"time (s)\"\n",
    "      ; ylabel \"gates\"\n",
    "      ; yrange (0., 1.01)\n",
    "      ; ytics (`regular [ 0.; 1.0 ]) ~o:\"out nomirror\"\n",
    "      ]\n",
    "    in\n",
    "    (* plot voltage at the top *)\n",
    "    P.plot (L [ t; Mat.col u 0 ]) ~style:\"l lc 8 lw 2\" (p0 @ p1);\n",
    "    (* plot the gating variables *)\n",
    "    P.plots\n",
    "      (List.init 3 (fun i ->\n",
    "           let i = i + 1 in\n",
    "           item (L [ t; Mat.col u i ]) ~style:(sprintf \"l lc %i lw 2\" i)))\n",
    "      (p0 @ p2)\n",
    "  in\n",
    "  Juplot.draw ~fmt:`svg ~size:(500, 300) plot"
   ]
  },
  {
   "cell_type": "markdown",
   "metadata": {},
   "source": [
    "## Simulation with random input current"
   ]
  },
  {
   "cell_type": "code",
   "execution_count": null,
   "metadata": {},
   "outputs": [],
   "source": [
    "let _ = plot_signal Pkp.Misc.(ou_process ~tau:20E-3 ~dt:1E-3 ~duration:1.0)"
   ]
  },
  {
   "cell_type": "code",
   "execution_count": null,
   "metadata": {},
   "outputs": [],
   "source": [
    "let _ =\n",
    "  let noise =\n",
    "    let dt = 1E-3 in\n",
    "    let x = Pkp.Misc.ou_process ~tau:20E-3 ~dt ~duration:1.1 in\n",
    "    fun t -> Mat.get x 0 (int_of_float (t /. dt))\n",
    "  in\n",
    "  let input t = 0.7E-3 *. (0. +. noise t) in\n",
    "  let t, u =\n",
    "    Hodgkin_Huxley.simulate ~prms:Hodgkin_Huxley.default_prms ~duration:1.0 input\n",
    "  in\n",
    "  plot_voltage ~voltage_range:(-110., 30.) [| t, u |]"
   ]
  },
  {
   "cell_type": "markdown",
   "metadata": {},
   "source": [
    "# A SIMPLER MODEL (\"LEAKY INTEGRATE-AND-FIRE\")"
   ]
  },
  {
   "cell_type": "code",
   "execution_count": null,
   "metadata": {},
   "outputs": [],
   "source": [
    "let _ =\n",
    "  let input c t = if t < 0.02 then 0. else c in\n",
    "  [| 2.0; 5.0; 15.0; 25.0 |]\n",
    "  |> Array.map (fun c -> LIF.simulate ~prms:LIF.default_prms ~duration:0.1 (input c))\n",
    "  |> plot_voltage\n",
    "       ~voltage_range:(-75., -30.)\n",
    "       ~colors:[| \"#1b9e77\"; \"#d95f02\"; \"#7570b3\"; \"#e7298a\"; \"#66a61e\" |]"
   ]
  },
  {
   "cell_type": "code",
   "execution_count": null,
   "metadata": {},
   "outputs": [],
   "source": [
    "let _ =\n",
    "  let duration = 1. in\n",
    "  let dt = 1E-3 in\n",
    "  let noise =\n",
    "    let x = Pkp.Misc.ou_process ~tau:20E-3 ~dt ~duration:(1.1 *. duration) in\n",
    "    fun t -> Mat.get x 0 (int_of_float (t /. dt))\n",
    "  in\n",
    "  let input t = 5. *. noise t in\n",
    "  let t, u = LIF.simulate ~prms:LIF.default_prms ~duration input in\n",
    "  plot_voltage ~voltage_range:(-85., 2.) [| t, u |]"
   ]
  },
  {
   "cell_type": "code",
   "execution_count": null,
   "metadata": {},
   "outputs": [],
   "source": []
  }
 ],
 "metadata": {
  "kernelspec": {
   "display_name": "OCaml 4.07.1+flambda",
   "language": "OCaml",
   "name": "ocaml-jupyter"
  },
  "language_info": {
   "codemirror_mode": "text/x-ocaml",
   "file_extension": ".ml",
   "mimetype": "text/x-ocaml",
   "name": "OCaml",
   "nbconverter_exporter": null,
   "pygments_lexer": "OCaml",
   "version": "4.07.1"
  }
 },
 "nbformat": 4,
 "nbformat_minor": 2
}
