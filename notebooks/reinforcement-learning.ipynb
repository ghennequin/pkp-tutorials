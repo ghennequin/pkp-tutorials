{
 "cells": [
  {
   "cell_type": "code",
   "execution_count": 2,
   "metadata": {
    "scrolled": false
   },
   "outputs": [
    {
     "name": "stderr",
     "output_type": "stream",
     "text": [
      "/home/hennequi/.opam/4.07.1+flambda/lib/juplot: added to search path\n",
      "/home/hennequi/.opam/4.07.1+flambda/lib/juplot/juplot.cma: loaded\n",
      "/home/hennequi/.opam/4.07.1+flambda/lib/lbfgs/fortran: added to search path\n",
      "/home/hennequi/.opam/4.07.1+flambda/lib/lbfgs/fortran/lbfgs_fortran.cma: loaded\n",
      "/home/hennequi/.opam/4.07.1+flambda/lib/lbfgs: added to search path\n",
      "/home/hennequi/.opam/4.07.1+flambda/lib/lbfgs/lbfgs.cma: loaded\n",
      "/home/hennequi/.opam/4.07.1+flambda/lib/owl-lbfgs: added to search path\n",
      "/home/hennequi/.opam/4.07.1+flambda/lib/owl-lbfgs/owl_lbfgs.cma: loaded\n",
      "/home/hennequi/.opam/4.07.1+flambda/lib/owl-ode: added to search path\n",
      "/home/hennequi/.opam/4.07.1+flambda/lib/owl-ode/owl_ode.cma: loaded\n",
      "/home/hennequi/.opam/4.07.1+flambda/lib/sundialsml: added to search path\n",
      "/home/hennequi/.opam/4.07.1+flambda/lib/sundialsml/sundials.cma: loaded\n",
      "/home/hennequi/.opam/4.07.1+flambda/lib/sundialsml/sundials_top.cma: loaded\n",
      "/home/hennequi/.opam/4.07.1+flambda/lib/owl-ode-sundials: added to search path\n",
      "/home/hennequi/.opam/4.07.1+flambda/lib/owl-ode-sundials/owl_ode_sundials.cma: loaded\n",
      "/home/hennequi/.opam/4.07.1+flambda/lib/pkp: added to search path\n",
      "/home/hennequi/.opam/4.07.1+flambda/lib/pkp/pkp.cma: loaded\n"
     ]
    }
   ],
   "source": [
    ";;\n",
    "#require \"pkp\""
   ]
  },
  {
   "cell_type": "code",
   "execution_count": 3,
   "metadata": {},
   "outputs": [],
   "source": [
    "open Pkp.Reinforcement_learning"
   ]
  },
  {
   "cell_type": "code",
   "execution_count": 4,
   "metadata": {},
   "outputs": [
    {
     "data": {
      "text/plain": [
       "module MySolution :\n",
       "  sig\n",
       "    val other_mark :\n",
       "      Pkp.Reinforcement_learning.mark -> Pkp.Reinforcement_learning.mark\n",
       "    val empty_board : Pkp.Reinforcement_learning.board\n",
       "    val transpose :\n",
       "      Pkp.Reinforcement_learning.board -> Pkp.Reinforcement_learning.board\n",
       "    val is_full : Pkp.Reinforcement_learning.board -> bool\n",
       "    val mean : float list -> float\n",
       "    val play_game :\n",
       "      ?display:(Pkp.Reinforcement_learning.board -> unit) ->\n",
       "      finished:(Pkp.Reinforcement_learning.board -> bool) ->\n",
       "      Pkp.Reinforcement_learning.player * Pkp.Reinforcement_learning.player ->\n",
       "      Pkp.Reinforcement_learning.board\n",
       "  end\n"
      ]
     },
     "execution_count": 4,
     "metadata": {},
     "output_type": "execute_result"
    }
   ],
   "source": [
    "module MySolution = struct\n",
    "  let other_mark = Solution.other_mark\n",
    "  let empty_board = Solution.empty_board\n",
    "  let transpose = Solution.transpose\n",
    "  let is_full = Solution.is_full\n",
    "  let mean = Solution.mean\n",
    "  let play_game = Solution.play_game\n",
    "end"
   ]
  },
  {
   "cell_type": "code",
   "execution_count": 5,
   "metadata": {},
   "outputs": [
    {
     "data": {
      "text/plain": [
       "module M :\n",
       "  sig\n",
       "    val optimal :\n",
       "      Pkp.Reinforcement_learning.mark -> Pkp.Reinforcement_learning.player\n",
       "    val random :\n",
       "      Pkp.Reinforcement_learning.mark -> Pkp.Reinforcement_learning.player\n",
       "    val play :\n",
       "      ?display:bool ->\n",
       "      Pkp.Reinforcement_learning.player * Pkp.Reinforcement_learning.player ->\n",
       "      Pkp.Reinforcement_learning.mark option\n",
       "  end\n"
      ]
     },
     "execution_count": 5,
     "metadata": {},
     "output_type": "execute_result"
    }
   ],
   "source": [
    "module M = Make (MySolution)"
   ]
  },
  {
   "cell_type": "markdown",
   "metadata": {},
   "source": [
    "Let's run an example game between the optimal X player, and a random O player:"
   ]
  },
  {
   "cell_type": "code",
   "execution_count": 8,
   "metadata": {},
   "outputs": [
    {
     "data": {
      "text/html": [
       "<table style=\"border: 1px solid;\"><tr><td>_</td><td>X</td><td>O</td></tr><tr><td>_</td><td>X</td><td>_</td></tr><tr><td>O</td><td>X</td><td>O</td></tr></table>"
      ]
     },
     "metadata": {},
     "output_type": "display_data"
    },
    {
     "data": {
      "text/plain": [
       "val result : Pkp.Reinforcement_learning.mark option = Some ...\n"
      ]
     },
     "execution_count": 8,
     "metadata": {},
     "output_type": "execute_result"
    }
   ],
   "source": [
    "let result = M.play (M.random O, M.optimal X)"
   ]
  },
  {
   "cell_type": "markdown",
   "metadata": {},
   "source": [
    "Try running it several times to convince yourself that the optimal player does pretty well! Try also reversing the order of the players, so that the O player gets to start. What do you notice? Does the optimal player ever lose?"
   ]
  },
  {
   "cell_type": "markdown",
   "metadata": {},
   "source": [
    "-----\n",
    "\n",
    "Let us now define an O-player that interpolates between the optimal player (which is as strong as our optimal X-player) and a random player: every time it needs to chose a new board, it makes a random choice with probability $p$, and the optimal choice with probability $(1-p)$:"
   ]
  },
  {
   "cell_type": "code",
   "execution_count": 9,
   "metadata": {},
   "outputs": [
    {
     "data": {
      "text/plain": [
       "val playerO : float -> Pkp.Reinforcement_learning.player = <fun>\n"
      ]
     },
     "execution_count": 9,
     "metadata": {},
     "output_type": "execute_result"
    }
   ],
   "source": [
    "let playerO p =\n",
    " let dumb = M.random O in\n",
    " let opt = M.optimal O in\n",
    " let play b = if Random.float 1. < p then dumb.play b else opt.play b in\n",
    " { mark = O; play }"
   ]
  },
  {
   "cell_type": "code",
   "execution_count": 10,
   "metadata": {},
   "outputs": [
    {
     "data": {
      "text/plain": [
       "val playerX : Pkp.Reinforcement_learning.player =\n",
       "  {Pkp.Reinforcement_learning.play = ...; mark = ...}\n"
      ]
     },
     "execution_count": 10,
     "metadata": {},
     "output_type": "execute_result"
    }
   ],
   "source": [
    "let playerX = M.optimal X"
   ]
  },
  {
   "cell_type": "markdown",
   "metadata": {},
   "source": [
    "Let us try out such an intermediate player ─ you may want to play with parameter $p$, and swap the player ordering:"
   ]
  },
  {
   "cell_type": "code",
   "execution_count": 12,
   "metadata": {},
   "outputs": [
    {
     "data": {
      "text/html": [
       "<table style=\"border: 1px solid;\"><tr><td>X</td><td>O</td><td>O</td></tr><tr><td>O</td><td>X</td><td>X</td></tr><tr><td>X</td><td>O</td><td>O</td></tr></table>"
      ]
     },
     "metadata": {},
     "output_type": "display_data"
    },
    {
     "data": {
      "text/plain": [
       "val result : Pkp.Reinforcement_learning.mark option = None\n"
      ]
     },
     "execution_count": 12,
     "metadata": {},
     "output_type": "execute_result"
    }
   ],
   "source": [
    "let result = M.play (playerO 0.5, playerX)"
   ]
  },
  {
   "cell_type": "markdown",
   "metadata": {},
   "source": [
    "Let us now run many games, collect some statistics, and make pretty plots!"
   ]
  },
  {
   "cell_type": "code",
   "execution_count": 13,
   "metadata": {},
   "outputs": [
    {
     "data": {
      "text/plain": [
       "val stats : float -> float * float = <fun>\n"
      ]
     },
     "execution_count": 13,
     "metadata": {},
     "output_type": "execute_result"
    }
   ],
   "source": [
    "let stats p =\n",
    "  let playerO = playerO p in\n",
    "  let n_games = 1000 in\n",
    "  let games = List.init n_games (fun _ -> M.play ~display:false (playerO, playerX)) in\n",
    "  let n_wins = games |> List.filter (fun winner -> winner = Some X) |> List.length in\n",
    "  let n_ties = games |> List.filter (fun winner -> winner = None) |> List.length in\n",
    "  float n_wins /. float n_games, float n_ties /. float n_games"
   ]
  },
  {
   "cell_type": "code",
   "execution_count": 14,
   "metadata": {
    "scrolled": true
   },
   "outputs": [
    {
     "data": {
      "image/svg+xml": [
       "<?xml version=\"1.0\" encoding=\"utf-8\"  standalone=\"no\"?>\n",
       "<svg \n",
       " width=\"500\" height=\"200\"\n",
       " viewBox=\"0 0 500 200\"\n",
       " xmlns=\"http://www.w3.org/2000/svg\"\n",
       " xmlns:xlink=\"http://www.w3.org/1999/xlink\"\n",
       ">\n",
       "\n",
       "<title>Gnuplot</title>\n",
       "<desc>Produced by GNUPLOT 5.2 patchlevel 6 </desc>\n",
       "\n",
       "<g id=\"gnuplot_canvas\">\n",
       "\n",
       "<rect x=\"0\" y=\"0\" width=\"500\" height=\"200\" fill=\"none\"/>\n",
       "<defs>\n",
       "\n",
       "\t<circle id='gpDot' r='0.5' stroke-width='0.5' stroke='currentColor'/>\n",
       "\t<path id='gpPt0' stroke-width='0.222' stroke='currentColor' d='M-1,0 h2 M0,-1 v2'/>\n",
       "\t<path id='gpPt1' stroke-width='0.222' stroke='currentColor' d='M-1,-1 L1,1 M1,-1 L-1,1'/>\n",
       "\t<path id='gpPt2' stroke-width='0.222' stroke='currentColor' d='M-1,0 L1,0 M0,-1 L0,1 M-1,-1 L1,1 M-1,1 L1,-1'/>\n",
       "\t<rect id='gpPt3' stroke-width='0.222' stroke='currentColor' x='-1' y='-1' width='2' height='2'/>\n",
       "\t<rect id='gpPt4' stroke-width='0.222' stroke='currentColor' fill='currentColor' x='-1' y='-1' width='2' height='2'/>\n",
       "\t<circle id='gpPt5' stroke-width='0.222' stroke='currentColor' cx='0' cy='0' r='1'/>\n",
       "\t<use xlink:href='#gpPt5' id='gpPt6' fill='currentColor' stroke='none'/>\n",
       "\t<path id='gpPt7' stroke-width='0.222' stroke='currentColor' d='M0,-1.33 L-1.33,0.67 L1.33,0.67 z'/>\n",
       "\t<use xlink:href='#gpPt7' id='gpPt8' fill='currentColor' stroke='none'/>\n",
       "\t<use xlink:href='#gpPt7' id='gpPt9' stroke='currentColor' transform='rotate(180)'/>\n",
       "\t<use xlink:href='#gpPt9' id='gpPt10' fill='currentColor' stroke='none'/>\n",
       "\t<use xlink:href='#gpPt3' id='gpPt11' stroke='currentColor' transform='rotate(45)'/>\n",
       "\t<use xlink:href='#gpPt11' id='gpPt12' fill='currentColor' stroke='none'/>\n",
       "\t<path id='gpPt13' stroke-width='0.222' stroke='currentColor' d='M0,1.330 L1.265,0.411 L0.782,-1.067 L-0.782,-1.076 L-1.265,0.411 z'/>\n",
       "\t<use xlink:href='#gpPt13' id='gpPt14' fill='currentColor' stroke='none'/>\n",
       "\t<filter id='textbox' filterUnits='objectBoundingBox' x='0' y='0' height='1' width='1'>\n",
       "\t  <feFlood flood-color='white' flood-opacity='1' result='bgnd'/>\n",
       "\t  <feComposite in='SourceGraphic' in2='bgnd' operator='atop'/>\n",
       "\t</filter>\n",
       "\t<filter id='greybox' filterUnits='objectBoundingBox' x='0' y='0' height='1' width='1'>\n",
       "\t  <feFlood flood-color='lightgrey' flood-opacity='1' result='grey'/>\n",
       "\t  <feComposite in='SourceGraphic' in2='grey' operator='atop'/>\n",
       "\t</filter>\n",
       "</defs>\n",
       "<g fill=\"none\" color=\"white\" stroke=\"currentColor\" stroke-width=\"1.00\" stroke-linecap=\"butt\" stroke-linejoin=\"miter\">\n",
       "</g>\n",
       "<g fill=\"none\" color=\"black\" stroke=\"currentColor\" stroke-width=\"1.00\" stroke-linecap=\"butt\" stroke-linejoin=\"miter\">\n",
       "\t<path stroke='black'  d='M80.9,133.4 L71.9,133.4  '/>\t<g transform=\"translate(63.6,137.3)\" stroke=\"none\" fill=\"black\" font-family=\"Helvetica\" font-size=\"12.00\"  text-anchor=\"end\">\n",
       "\t\t<text><tspan font-family=\"Helvetica\" > 0</tspan></text>\n",
       "\t</g>\n",
       "</g>\n",
       "<g fill=\"none\" color=\"black\" stroke=\"currentColor\" stroke-width=\"1.00\" stroke-linecap=\"butt\" stroke-linejoin=\"miter\">\n",
       "\t<path stroke='black'  d='M80.9,110.3 L71.9,110.3  '/>\t<g transform=\"translate(63.6,114.2)\" stroke=\"none\" fill=\"black\" font-family=\"Helvetica\" font-size=\"12.00\"  text-anchor=\"end\">\n",
       "\t\t<text><tspan font-family=\"Helvetica\" > 0.2</tspan></text>\n",
       "\t</g>\n",
       "</g>\n",
       "<g fill=\"none\" color=\"black\" stroke=\"currentColor\" stroke-width=\"1.00\" stroke-linecap=\"butt\" stroke-linejoin=\"miter\">\n",
       "\t<path stroke='black'  d='M80.9,87.3 L71.9,87.3  '/>\t<g transform=\"translate(63.6,91.2)\" stroke=\"none\" fill=\"black\" font-family=\"Helvetica\" font-size=\"12.00\"  text-anchor=\"end\">\n",
       "\t\t<text><tspan font-family=\"Helvetica\" > 0.4</tspan></text>\n",
       "\t</g>\n",
       "</g>\n",
       "<g fill=\"none\" color=\"black\" stroke=\"currentColor\" stroke-width=\"1.00\" stroke-linecap=\"butt\" stroke-linejoin=\"miter\">\n",
       "\t<path stroke='black'  d='M80.9,64.2 L71.9,64.2  '/>\t<g transform=\"translate(63.6,68.1)\" stroke=\"none\" fill=\"black\" font-family=\"Helvetica\" font-size=\"12.00\"  text-anchor=\"end\">\n",
       "\t\t<text><tspan font-family=\"Helvetica\" > 0.6</tspan></text>\n",
       "\t</g>\n",
       "</g>\n",
       "<g fill=\"none\" color=\"black\" stroke=\"currentColor\" stroke-width=\"1.00\" stroke-linecap=\"butt\" stroke-linejoin=\"miter\">\n",
       "\t<path stroke='black'  d='M80.9,41.2 L71.9,41.2  '/>\t<g transform=\"translate(63.6,45.1)\" stroke=\"none\" fill=\"black\" font-family=\"Helvetica\" font-size=\"12.00\"  text-anchor=\"end\">\n",
       "\t\t<text><tspan font-family=\"Helvetica\" > 0.8</tspan></text>\n",
       "\t</g>\n",
       "</g>\n",
       "<g fill=\"none\" color=\"black\" stroke=\"currentColor\" stroke-width=\"1.00\" stroke-linecap=\"butt\" stroke-linejoin=\"miter\">\n",
       "\t<path stroke='black'  d='M80.9,18.1 L71.9,18.1  '/>\t<g transform=\"translate(63.6,22.0)\" stroke=\"none\" fill=\"black\" font-family=\"Helvetica\" font-size=\"12.00\"  text-anchor=\"end\">\n",
       "\t\t<text><tspan font-family=\"Helvetica\" > 1</tspan></text>\n",
       "\t</g>\n",
       "</g>\n",
       "<g fill=\"none\" color=\"black\" stroke=\"currentColor\" stroke-width=\"1.00\" stroke-linecap=\"butt\" stroke-linejoin=\"miter\">\n",
       "\t<path stroke='black'  d='M80.9,133.4 L80.9,142.4  '/>\t<g transform=\"translate(80.9,164.3)\" stroke=\"none\" fill=\"black\" font-family=\"Helvetica\" font-size=\"12.00\"  text-anchor=\"middle\">\n",
       "\t\t<text><tspan font-family=\"Helvetica\" > 0</tspan></text>\n",
       "\t</g>\n",
       "</g>\n",
       "<g fill=\"none\" color=\"black\" stroke=\"currentColor\" stroke-width=\"1.00\" stroke-linecap=\"butt\" stroke-linejoin=\"miter\">\n",
       "\t<path stroke='black'  d='M124.7,133.4 L124.7,142.4  '/>\t<g transform=\"translate(124.7,164.3)\" stroke=\"none\" fill=\"black\" font-family=\"Helvetica\" font-size=\"12.00\"  text-anchor=\"middle\">\n",
       "\t\t<text><tspan font-family=\"Helvetica\" > 0.2</tspan></text>\n",
       "\t</g>\n",
       "</g>\n",
       "<g fill=\"none\" color=\"black\" stroke=\"currentColor\" stroke-width=\"1.00\" stroke-linecap=\"butt\" stroke-linejoin=\"miter\">\n",
       "\t<path stroke='black'  d='M168.5,133.4 L168.5,142.4  '/>\t<g transform=\"translate(168.5,164.3)\" stroke=\"none\" fill=\"black\" font-family=\"Helvetica\" font-size=\"12.00\"  text-anchor=\"middle\">\n",
       "\t\t<text><tspan font-family=\"Helvetica\" > 0.4</tspan></text>\n",
       "\t</g>\n",
       "</g>\n",
       "<g fill=\"none\" color=\"black\" stroke=\"currentColor\" stroke-width=\"1.00\" stroke-linecap=\"butt\" stroke-linejoin=\"miter\">\n",
       "\t<path stroke='black'  d='M212.3,133.4 L212.3,142.4  '/>\t<g transform=\"translate(212.3,164.3)\" stroke=\"none\" fill=\"black\" font-family=\"Helvetica\" font-size=\"12.00\"  text-anchor=\"middle\">\n",
       "\t\t<text><tspan font-family=\"Helvetica\" > 0.6</tspan></text>\n",
       "\t</g>\n",
       "</g>\n",
       "<g fill=\"none\" color=\"black\" stroke=\"currentColor\" stroke-width=\"1.00\" stroke-linecap=\"butt\" stroke-linejoin=\"miter\">\n",
       "\t<path stroke='black'  d='M256.1,133.4 L256.1,142.4  '/>\t<g transform=\"translate(256.1,164.3)\" stroke=\"none\" fill=\"black\" font-family=\"Helvetica\" font-size=\"12.00\"  text-anchor=\"middle\">\n",
       "\t\t<text><tspan font-family=\"Helvetica\" > 0.8</tspan></text>\n",
       "\t</g>\n",
       "</g>\n",
       "<g fill=\"none\" color=\"black\" stroke=\"currentColor\" stroke-width=\"1.00\" stroke-linecap=\"butt\" stroke-linejoin=\"miter\">\n",
       "\t<path stroke='black'  d='M299.9,133.4 L299.9,142.4  '/>\t<g transform=\"translate(299.9,164.3)\" stroke=\"none\" fill=\"black\" font-family=\"Helvetica\" font-size=\"12.00\"  text-anchor=\"middle\">\n",
       "\t\t<text><tspan font-family=\"Helvetica\" > 1</tspan></text>\n",
       "\t</g>\n",
       "</g>\n",
       "<g fill=\"none\" color=\"black\" stroke=\"currentColor\" stroke-width=\"1.00\" stroke-linecap=\"butt\" stroke-linejoin=\"miter\">\n",
       "</g>\n",
       "<g fill=\"none\" color=\"black\" stroke=\"currentColor\" stroke-width=\"1.00\" stroke-linecap=\"butt\" stroke-linejoin=\"miter\">\n",
       "\t<path stroke='black'  d='M80.9,18.1 L80.9,133.4 L299.9,133.4 M299.9,18.1 M80.9,18.1  '/></g>\n",
       "<g fill=\"none\" color=\"black\" stroke=\"currentColor\" stroke-width=\"1.00\" stroke-linecap=\"butt\" stroke-linejoin=\"miter\">\n",
       "\t<g transform=\"translate(16.3,75.8) rotate(270)\" stroke=\"none\" fill=\"black\" font-family=\"Helvetica\" font-size=\"12.00\"  text-anchor=\"middle\">\n",
       "\t\t<text><tspan font-family=\"Helvetica\" >win / tie probabilities</tspan></text>\n",
       "\t</g>\n",
       "</g>\n",
       "<g fill=\"none\" color=\"black\" stroke=\"currentColor\" stroke-width=\"1.00\" stroke-linecap=\"butt\" stroke-linejoin=\"miter\">\n",
       "\t<g transform=\"translate(190.4,191.3)\" stroke=\"none\" fill=\"black\" font-family=\"Helvetica\" font-size=\"12.00\"  text-anchor=\"middle\">\n",
       "\t\t<text><tspan font-family=\"Helvetica\" >probability of opponent playing randomly</tspan></text>\n",
       "\t</g>\n",
       "</g>\n",
       "<g fill=\"none\" color=\"black\" stroke=\"currentColor\" stroke-width=\"1.00\" stroke-linecap=\"butt\" stroke-linejoin=\"miter\">\n",
       "</g>\n",
       "\t<g id=\"gnuplot_plot_1a\" ><title>win</title>\n",
       "<g fill=\"none\" color=\"black\" stroke=\"currentColor\" stroke-width=\"1.00\" stroke-linecap=\"butt\" stroke-linejoin=\"miter\">\n",
       "\t<g transform=\"translate(355.0,31.0)\" stroke=\"none\" fill=\"black\" font-family=\"Helvetica\" font-size=\"12.00\"  text-anchor=\"end\">\n",
       "\t\t<text><tspan font-family=\"Helvetica\" >win</tspan></text>\n",
       "\t</g>\n",
       "</g>\n",
       "<g fill=\"none\" color=\"black\" stroke=\"currentColor\" stroke-width=\"1.00\" stroke-linecap=\"butt\" stroke-linejoin=\"miter\">\n",
       "\t<path stroke='rgb(229,  30,  16)'  d='M363.3,27.1 L405.5,27.1 M80.9,133.4 L92.4,125.6 L104.0,117.0 L115.5,107.2 L127.0,100.1 L138.5,92.8\n",
       "\t\tL150.1,84.6 L161.6,78.9 L173.1,71.8 L184.6,67.3 L196.2,59.8 L207.7,54.8 L219.2,49.2 L230.7,44.6\n",
       "\t\tL242.3,41.7 L253.8,36.4 L265.3,33.7 L276.8,31.2 L288.4,28.7 L299.9,26.9  '/>\t<use xlink:href='#gpPt6' transform='translate(80.9,133.4) scale(2.70)' color='rgb(229,  30,  16)'/>\n",
       "\t<use xlink:href='#gpPt6' transform='translate(92.4,125.6) scale(2.70)' color='rgb(229,  30,  16)'/>\n",
       "\t<use xlink:href='#gpPt6' transform='translate(104.0,117.0) scale(2.70)' color='rgb(229,  30,  16)'/>\n",
       "\t<use xlink:href='#gpPt6' transform='translate(115.5,107.2) scale(2.70)' color='rgb(229,  30,  16)'/>\n",
       "\t<use xlink:href='#gpPt6' transform='translate(127.0,100.1) scale(2.70)' color='rgb(229,  30,  16)'/>\n",
       "\t<use xlink:href='#gpPt6' transform='translate(138.5,92.8) scale(2.70)' color='rgb(229,  30,  16)'/>\n",
       "\t<use xlink:href='#gpPt6' transform='translate(150.1,84.6) scale(2.70)' color='rgb(229,  30,  16)'/>\n",
       "\t<use xlink:href='#gpPt6' transform='translate(161.6,78.9) scale(2.70)' color='rgb(229,  30,  16)'/>\n",
       "\t<use xlink:href='#gpPt6' transform='translate(173.1,71.8) scale(2.70)' color='rgb(229,  30,  16)'/>\n",
       "\t<use xlink:href='#gpPt6' transform='translate(184.6,67.3) scale(2.70)' color='rgb(229,  30,  16)'/>\n",
       "\t<use xlink:href='#gpPt6' transform='translate(196.2,59.8) scale(2.70)' color='rgb(229,  30,  16)'/>\n",
       "\t<use xlink:href='#gpPt6' transform='translate(207.7,54.8) scale(2.70)' color='rgb(229,  30,  16)'/>\n",
       "\t<use xlink:href='#gpPt6' transform='translate(219.2,49.2) scale(2.70)' color='rgb(229,  30,  16)'/>\n",
       "\t<use xlink:href='#gpPt6' transform='translate(230.7,44.6) scale(2.70)' color='rgb(229,  30,  16)'/>\n",
       "\t<use xlink:href='#gpPt6' transform='translate(242.3,41.7) scale(2.70)' color='rgb(229,  30,  16)'/>\n",
       "\t<use xlink:href='#gpPt6' transform='translate(253.8,36.4) scale(2.70)' color='rgb(229,  30,  16)'/>\n",
       "\t<use xlink:href='#gpPt6' transform='translate(265.3,33.7) scale(2.70)' color='rgb(229,  30,  16)'/>\n",
       "\t<use xlink:href='#gpPt6' transform='translate(276.8,31.2) scale(2.70)' color='rgb(229,  30,  16)'/>\n",
       "\t<use xlink:href='#gpPt6' transform='translate(288.4,28.7) scale(2.70)' color='rgb(229,  30,  16)'/>\n",
       "\t<use xlink:href='#gpPt6' transform='translate(299.9,26.9) scale(2.70)' color='rgb(229,  30,  16)'/>\n",
       "\t<use xlink:href='#gpPt6' transform='translate(384.4,27.1) scale(2.70)' color='rgb(229,  30,  16)'/>\n",
       "</g>\n",
       "\t</g>\n",
       "\t<g id=\"gnuplot_plot_2a\" ><title>tie</title>\n",
       "<g fill=\"none\" color=\"black\" stroke=\"currentColor\" stroke-width=\"1.00\" stroke-linecap=\"butt\" stroke-linejoin=\"miter\">\n",
       "\t<g transform=\"translate(355.0,49.0)\" stroke=\"none\" fill=\"black\" font-family=\"Helvetica\" font-size=\"12.00\"  text-anchor=\"end\">\n",
       "\t\t<text><tspan font-family=\"Helvetica\" >tie</tspan></text>\n",
       "\t</g>\n",
       "</g>\n",
       "<g fill=\"none\" color=\"black\" stroke=\"currentColor\" stroke-width=\"1.00\" stroke-linecap=\"butt\" stroke-linejoin=\"miter\">\n",
       "\t<path stroke='rgb(  0,   0,   0)'  d='M363.3,45.1 L405.5,45.1 M80.9,18.1 L92.4,28.6 L104.0,38.7 L115.5,51.1 L127.0,57.3 L138.5,65.6\n",
       "\t\tL150.1,74.5 L161.6,79.3 L173.1,86.8 L184.6,90.3 L196.2,97.2 L207.7,101.8 L219.2,106.5 L230.7,110.8\n",
       "\t\tL242.3,113.6 L253.8,117.7 L265.3,120.3 L276.8,122.4 L288.4,124.1 L299.9,125.6  '/>\t<use xlink:href='#gpPt6' transform='translate(80.9,18.1) scale(2.70)' color='rgb(  0,   0,   0)'/>\n",
       "\t<use xlink:href='#gpPt6' transform='translate(92.4,28.6) scale(2.70)' color='rgb(  0,   0,   0)'/>\n",
       "\t<use xlink:href='#gpPt6' transform='translate(104.0,38.7) scale(2.70)' color='rgb(  0,   0,   0)'/>\n",
       "\t<use xlink:href='#gpPt6' transform='translate(115.5,51.1) scale(2.70)' color='rgb(  0,   0,   0)'/>\n",
       "\t<use xlink:href='#gpPt6' transform='translate(127.0,57.3) scale(2.70)' color='rgb(  0,   0,   0)'/>\n",
       "\t<use xlink:href='#gpPt6' transform='translate(138.5,65.6) scale(2.70)' color='rgb(  0,   0,   0)'/>\n",
       "\t<use xlink:href='#gpPt6' transform='translate(150.1,74.5) scale(2.70)' color='rgb(  0,   0,   0)'/>\n",
       "\t<use xlink:href='#gpPt6' transform='translate(161.6,79.3) scale(2.70)' color='rgb(  0,   0,   0)'/>\n",
       "\t<use xlink:href='#gpPt6' transform='translate(173.1,86.8) scale(2.70)' color='rgb(  0,   0,   0)'/>\n",
       "\t<use xlink:href='#gpPt6' transform='translate(184.6,90.3) scale(2.70)' color='rgb(  0,   0,   0)'/>\n",
       "\t<use xlink:href='#gpPt6' transform='translate(196.2,97.2) scale(2.70)' color='rgb(  0,   0,   0)'/>\n",
       "\t<use xlink:href='#gpPt6' transform='translate(207.7,101.8) scale(2.70)' color='rgb(  0,   0,   0)'/>\n",
       "\t<use xlink:href='#gpPt6' transform='translate(219.2,106.5) scale(2.70)' color='rgb(  0,   0,   0)'/>\n",
       "\t<use xlink:href='#gpPt6' transform='translate(230.7,110.8) scale(2.70)' color='rgb(  0,   0,   0)'/>\n",
       "\t<use xlink:href='#gpPt6' transform='translate(242.3,113.6) scale(2.70)' color='rgb(  0,   0,   0)'/>\n",
       "\t<use xlink:href='#gpPt6' transform='translate(253.8,117.7) scale(2.70)' color='rgb(  0,   0,   0)'/>\n",
       "\t<use xlink:href='#gpPt6' transform='translate(265.3,120.3) scale(2.70)' color='rgb(  0,   0,   0)'/>\n",
       "\t<use xlink:href='#gpPt6' transform='translate(276.8,122.4) scale(2.70)' color='rgb(  0,   0,   0)'/>\n",
       "\t<use xlink:href='#gpPt6' transform='translate(288.4,124.1) scale(2.70)' color='rgb(  0,   0,   0)'/>\n",
       "\t<use xlink:href='#gpPt6' transform='translate(299.9,125.6) scale(2.70)' color='rgb(  0,   0,   0)'/>\n",
       "\t<use xlink:href='#gpPt6' transform='translate(384.4,45.1) scale(2.70)' color='rgb(  0,   0,   0)'/>\n",
       "</g>\n",
       "\t</g>\n",
       "\t<g id=\"gnuplot_plot_3a\" ><title>lose</title>\n",
       "<g fill=\"none\" color=\"black\" stroke=\"currentColor\" stroke-width=\"1.00\" stroke-linecap=\"butt\" stroke-linejoin=\"miter\">\n",
       "\t<g transform=\"translate(355.0,67.0)\" stroke=\"none\" fill=\"black\" font-family=\"Helvetica\" font-size=\"12.00\"  text-anchor=\"end\">\n",
       "\t\t<text><tspan font-family=\"Helvetica\" >lose</tspan></text>\n",
       "\t</g>\n",
       "</g>\n",
       "<g fill=\"none\" color=\"black\" stroke=\"currentColor\" stroke-width=\"1.00\" stroke-linecap=\"butt\" stroke-linejoin=\"miter\">\n",
       "\t<path stroke='rgb( 86, 180, 233)'  d='M363.3,63.1 L405.5,63.1 M80.9,133.4 L92.4,130.7 L104.0,129.1 L115.5,126.6 L127.0,127.5 L138.5,126.5\n",
       "\t\tL150.1,125.8 L161.6,126.7 L173.1,126.3 L184.6,127.3 L196.2,127.9 L207.7,128.3 L219.2,129.1 L230.7,129.5\n",
       "\t\tL242.3,129.6 L253.8,130.7 L265.3,131.0 L276.8,131.2 L288.4,132.1 L299.9,132.5  '/>\t<use xlink:href='#gpPt6' transform='translate(80.9,133.4) scale(2.70)' color='rgb( 86, 180, 233)'/>\n",
       "\t<use xlink:href='#gpPt6' transform='translate(92.4,130.7) scale(2.70)' color='rgb( 86, 180, 233)'/>\n",
       "\t<use xlink:href='#gpPt6' transform='translate(104.0,129.1) scale(2.70)' color='rgb( 86, 180, 233)'/>\n",
       "\t<use xlink:href='#gpPt6' transform='translate(115.5,126.6) scale(2.70)' color='rgb( 86, 180, 233)'/>\n",
       "\t<use xlink:href='#gpPt6' transform='translate(127.0,127.5) scale(2.70)' color='rgb( 86, 180, 233)'/>\n",
       "\t<use xlink:href='#gpPt6' transform='translate(138.5,126.5) scale(2.70)' color='rgb( 86, 180, 233)'/>\n",
       "\t<use xlink:href='#gpPt6' transform='translate(150.1,125.8) scale(2.70)' color='rgb( 86, 180, 233)'/>\n",
       "\t<use xlink:href='#gpPt6' transform='translate(161.6,126.7) scale(2.70)' color='rgb( 86, 180, 233)'/>\n",
       "\t<use xlink:href='#gpPt6' transform='translate(173.1,126.3) scale(2.70)' color='rgb( 86, 180, 233)'/>\n",
       "\t<use xlink:href='#gpPt6' transform='translate(184.6,127.3) scale(2.70)' color='rgb( 86, 180, 233)'/>\n",
       "\t<use xlink:href='#gpPt6' transform='translate(196.2,127.9) scale(2.70)' color='rgb( 86, 180, 233)'/>\n",
       "\t<use xlink:href='#gpPt6' transform='translate(207.7,128.3) scale(2.70)' color='rgb( 86, 180, 233)'/>\n",
       "\t<use xlink:href='#gpPt6' transform='translate(219.2,129.1) scale(2.70)' color='rgb( 86, 180, 233)'/>\n",
       "\t<use xlink:href='#gpPt6' transform='translate(230.7,129.5) scale(2.70)' color='rgb( 86, 180, 233)'/>\n",
       "\t<use xlink:href='#gpPt6' transform='translate(242.3,129.6) scale(2.70)' color='rgb( 86, 180, 233)'/>\n",
       "\t<use xlink:href='#gpPt6' transform='translate(253.8,130.7) scale(2.70)' color='rgb( 86, 180, 233)'/>\n",
       "\t<use xlink:href='#gpPt6' transform='translate(265.3,131.0) scale(2.70)' color='rgb( 86, 180, 233)'/>\n",
       "\t<use xlink:href='#gpPt6' transform='translate(276.8,131.2) scale(2.70)' color='rgb( 86, 180, 233)'/>\n",
       "\t<use xlink:href='#gpPt6' transform='translate(288.4,132.1) scale(2.70)' color='rgb( 86, 180, 233)'/>\n",
       "\t<use xlink:href='#gpPt6' transform='translate(299.9,132.5) scale(2.70)' color='rgb( 86, 180, 233)'/>\n",
       "\t<use xlink:href='#gpPt6' transform='translate(384.4,63.1) scale(2.70)' color='rgb( 86, 180, 233)'/>\n",
       "</g>\n",
       "\t</g>\n",
       "<g fill=\"none\" color=\"white\" stroke=\"rgb( 86, 180, 233)\" stroke-width=\"2.00\" stroke-linecap=\"butt\" stroke-linejoin=\"miter\">\n",
       "</g>\n",
       "<g fill=\"none\" color=\"black\" stroke=\"currentColor\" stroke-width=\"2.00\" stroke-linecap=\"butt\" stroke-linejoin=\"miter\">\n",
       "</g>\n",
       "<g fill=\"none\" color=\"black\" stroke=\"black\" stroke-width=\"1.00\" stroke-linecap=\"butt\" stroke-linejoin=\"miter\">\n",
       "</g>\n",
       "<g fill=\"none\" color=\"black\" stroke=\"currentColor\" stroke-width=\"1.00\" stroke-linecap=\"butt\" stroke-linejoin=\"miter\">\n",
       "\t<path stroke='black'  d='M80.9,18.1 L80.9,133.4 L299.9,133.4 M299.9,18.1 M80.9,18.1  '/></g>\n",
       "<g fill=\"none\" color=\"black\" stroke=\"currentColor\" stroke-width=\"1.00\" stroke-linecap=\"butt\" stroke-linejoin=\"miter\">\n",
       "</g>\n",
       "</g>\n",
       "</svg>\n",
       "\n"
      ]
     },
     "metadata": {},
     "output_type": "display_data"
    }
   ],
   "source": [
    "let () =\n",
    "  let open Owl in\n",
    "  let ps = Mat.linspace 0. 1. 20 in\n",
    "  let results = ps |> Mat.to_array |> Array.map stats in\n",
    "  let wins = results |> Array.map fst |> fun v -> Mat.of_array v 1 (-1) in\n",
    "  let ties = results |> Array.map snd |> fun v -> Mat.of_array v 1 (-1) in\n",
    "  let lose = Mat.(1. $- wins + ties) in\n",
    "  let open Gp in\n",
    "  let figure (module P : Plot) =\n",
    "    P.plots\n",
    "      [ item (L [ ps; wins ]) ~style:\"lp pt 7 lc 7 ps 0.6\" ~legend:\"win\"\n",
    "      ; item (L [ ps; ties ]) ~style:\"lp pt 7 lc 8 ps 0.6\" ~legend:\"tie\"\n",
    "      ; item (L [ ps; lose ]) ~style:\"lp pt 7 lc 3 ps 0.6\" ~legend:\"lose\"\n",
    "      ]\n",
    "      [ barebone\n",
    "      ; set \"key at graph 1.1, graph 1 top left\"\n",
    "      ; tics \"out nomirror\"\n",
    "      ; borders [ `bottom; `left ]\n",
    "      ; xlabel \"probability of opponent playing randomly\"\n",
    "      ; ylabel \"win / tie probabilities\"\n",
    "      ; margins [ `right 0.6 ]\n",
    "      ]\n",
    "  in\n",
    "  Juplot.draw ~fmt:`svg ~size:(500, 200) figure"
   ]
  },
  {
   "cell_type": "markdown",
   "metadata": {},
   "source": [
    "Take-home exercise: redo the stats above, in the case where the order of play gets decided randomly (50-50) at the beginning of every game!"
   ]
  },
  {
   "cell_type": "code",
   "execution_count": null,
   "metadata": {},
   "outputs": [],
   "source": []
  }
 ],
 "metadata": {
  "kernelspec": {
   "display_name": "OCaml 4.07.1+flambda",
   "language": "OCaml",
   "name": "ocaml-jupyter"
  },
  "language_info": {
   "codemirror_mode": "text/x-ocaml",
   "file_extension": ".ml",
   "mimetype": "text/x-ocaml",
   "name": "OCaml",
   "nbconverter_exporter": null,
   "pygments_lexer": "OCaml",
   "version": "4.07.1"
  }
 },
 "nbformat": 4,
 "nbformat_minor": 2
}
