{
 "cells": [
  {
   "cell_type": "markdown",
   "metadata": {},
   "source": [
    "# SETUP"
   ]
  },
  {
   "cell_type": "code",
   "execution_count": null,
   "metadata": {},
   "outputs": [],
   "source": [
    ";;\n",
    "#require \"pkp\"\n",
    "open Owl\n",
    "open Gp"
   ]
  },
  {
   "cell_type": "code",
   "execution_count": null,
   "metadata": {},
   "outputs": [],
   "source": [
    "module A = Pkp.Balanced_net (* module alias to simplify outputs *)\n",
    "\n",
    "open A"
   ]
  },
  {
   "cell_type": "code",
   "execution_count": null,
   "metadata": {},
   "outputs": [],
   "source": [
    "let k = 100 (* number of (exc. or inh.) input synapses per neuron, cf lecture *)"
   ]
  },
  {
   "cell_type": "markdown",
   "metadata": {},
   "source": [
    "# 1. Poisson neurons → they will provide input to our network"
   ]
  },
  {
   "cell_type": "markdown",
   "metadata": {},
   "source": [
    "☝ Create a population of `n_neurons` Poisson neurons firing at 5 Hz -- cf. `poisson` function."
   ]
  },
  {
   "cell_type": "code",
   "execution_count": null,
   "metadata": {},
   "outputs": [],
   "source": [
    "let input = ... "
   ]
  },
  {
   "cell_type": "markdown",
   "metadata": {},
   "source": [
    "☝ Now create a network (a simple record -- cf. `network` type), and simulate it for `duration = 3.0` s."
   ]
  },
  {
   "cell_type": "code",
   "execution_count": null,
   "metadata": {},
   "outputs": [],
   "source": [
    "let net = ..."
   ]
  },
  {
   "cell_type": "code",
   "execution_count": null,
   "metadata": {},
   "outputs": [],
   "source": [
    "let _ = simulate ~duration:3.0 net"
   ]
  },
  {
   "cell_type": "markdown",
   "metadata": {},
   "source": [
    "☝ Inspect the spiking behaviour of this input population, by plotting a spike raster:"
   ]
  },
  {
   "cell_type": "code",
   "execution_count": null,
   "metadata": {},
   "outputs": [],
   "source": [
    "let _ =\n",
    "  let spikes = input |> Array.map spikes |> raster in\n",
    "  let figure (module P : Plot) =\n",
    "    P.plot\n",
    "      (A spikes)\n",
    "      ~style:\"p pt 7 lc 8 ps 0.4\"\n",
    "      [ barebone; borders [ `bottom ]; xtics `auto; set \"offsets graph 0.1, 0, 0, 0\" ]\n",
    "  in\n",
    "  Juplot.draw ~fmt:`svg ~size:(600, 300) figure"
   ]
  },
  {
   "cell_type": "markdown",
   "metadata": {},
   "source": [
    "☝ Check that neurons fire an average of `r_x` spikes per second, as they should."
   ]
  },
  {
   "cell_type": "code",
   "execution_count": null,
   "metadata": {},
   "outputs": [],
   "source": [
    "let _ =\n",
    "  let firing_rates =\n",
    "    ...\n",
    "    (* fill this in; should be a `float array` of [n_neurons] firing rates;\n",
    "       NB: you will need to simulate for much longer than 1 s,\n",
    "       so you can accurately estimate each neuron's firing rate *)\n",
    "  in\n",
    "  (* convert to owl array type, do some stats and plot *)\n",
    "  let firing_rates = Mat.of_array firing_rates 1 (-1) in\n",
    "  let mu = Mat.mean' firing_rates in\n",
    "  let sem = Mat.std' firing_rates /. sqrt (float (Array.length input)) in\n",
    "  let figure (module P : Plot) =\n",
    "    P.plot\n",
    "      (A firing_rates)\n",
    "      ~style:\"p pt 7 lc 8 ps 0.5\"\n",
    "      [ barebone\n",
    "      ; borders [ `left ]\n",
    "      ; ylabel \"firing rate\"\n",
    "      ; ytics `auto ~o:\"out nomirror\"\n",
    "      ; title (Printf.sprintf \"mean = %.3f ± %.3f\" mu sem)\n",
    "      ]\n",
    "  in\n",
    "  Juplot.draw ~fmt:`svg ~size:(600, 300) figure"
   ]
  },
  {
   "cell_type": "markdown",
   "metadata": {},
   "source": [
    "# 2. A single LIF neuron receiving Poisson input"
   ]
  },
  {
   "cell_type": "markdown",
   "metadata": {},
   "source": [
    "☝ Now, create a function of type `float → neuron * network`, which takes a weight parameter `w` and:\n",
    "   1. creates a single LIF neuron (function `lif`)\n",
    "   2. creates connections from `input` (the Poisson neurons above) to the LIF neuron, with weight `w/k` (function `all_to_all_connections`)\n",
    "   3. returns a `A.neuron * A.network`: (single LIF, network):"
   ]
  },
  {
   "cell_type": "code",
   "execution_count": null,
   "metadata": {},
   "outputs": [],
   "source": [
    "let make_simple_net w = \n",
    "  ... (* fill this in! *)"
   ]
  },
  {
   "cell_type": "markdown",
   "metadata": {},
   "source": [
    "Here is a helper function to plot the activity (voltage timecourse + spikes) of the LIF neuron:"
   ]
  },
  {
   "cell_type": "code",
   "execution_count": null,
   "metadata": {},
   "outputs": [],
   "source": [
    "let plot_response ~duration x =\n",
    "  let figure (module P : Plot) =\n",
    "    P.plots\n",
    "      [ plottable_voltage ~duration x; plottable_spikes x ]\n",
    "      [ barebone\n",
    "      ; ytics `auto ~o:\"out nomirror\"\n",
    "      ; margins [ `bottom 0.2 ]\n",
    "      ; set\n",
    "          \"object 1 rectangle from first 0, graph -0.1 rto first 0.2, graph -0.02 fs \\\n",
    "           solid 1.0 noborder fc rgb 'black' noclip\"\n",
    "      ]\n",
    "  in\n",
    "  Juplot.draw ~fmt:`svg ~size:(500, 200) figure"
   ]
  },
  {
   "cell_type": "markdown",
   "metadata": {},
   "source": [
    "☝ Using the above function, together with your `make_simple_net` and `simulate ~duration:1.0` functions, explore the behaviour of this mini network. Start with `w=5.0` and increase it until you find that the LIF neuron's voltage goes above threshold."
   ]
  },
  {
   "cell_type": "code",
   "execution_count": null,
   "metadata": {},
   "outputs": [],
   "source": [
    "..."
   ]
  },
  {
   "cell_type": "markdown",
   "metadata": {},
   "source": [
    "☝ How does the firing rate of the LIF neuron depend on `w`? Plot this dependence."
   ]
  },
  {
   "cell_type": "code",
   "execution_count": null,
   "metadata": {},
   "outputs": [],
   "source": [
    "...\n",
    "\n",
    "(* you might want to use these plot properties for a plot of firing rate vs. w: *)\n",
    "\n",
    "let props =\n",
    "  [ barebone\n",
    "  ; borders [ `bottom; `left ]\n",
    "  ; xtics `auto ~o:\"out nomirror\"\n",
    "  ; ytics `auto ~o:\"out nomirror\"\n",
    "  ; xlabel \"weight w * n_{neurons}\"\n",
    "  ; ylabel \"firing rate\"\n",
    "  ]"
   ]
  },
  {
   "cell_type": "markdown",
   "metadata": {},
   "source": [
    "# 3. Single neuron receiving balanced E and I inputs"
   ]
  },
  {
   "cell_type": "markdown",
   "metadata": {},
   "source": [
    "Now we are going to simulate a single neuron, receiving:\n",
    "1. excitatory input from `k` Poisson neurons (5 Hz), with weight $+w/\\sqrt{K}$, and\n",
    "2. inhibitory input from `k` Poisson neurons (5 Hz; another, independent set), with weight $-w/\\sqrt{K}$\n",
    "\n",
    "☝ Begin by writing a function of type `float → neuron * network` (similar to `make_simple_net` above) that sets up the whole network given the parameter `w`."
   ]
  },
  {
   "cell_type": "code",
   "execution_count": null,
   "metadata": {},
   "outputs": [],
   "source": [
    "let make_simple_ei_net w = ..."
   ]
  },
  {
   "cell_type": "markdown",
   "metadata": {},
   "source": [
    "☝ Now, repeat the analysis of the previous section:\n",
    "1. Plot the voltage+spike response of your LIF neuron, and explore the effect of `w`\n",
    "2. Plot the firing rate of the LIF neuron as a function of `w`.\n",
    "\n",
    "You might want to reuse some of your previous code. "
   ]
  },
  {
   "cell_type": "code",
   "execution_count": null,
   "metadata": {},
   "outputs": [],
   "source": [
    "..."
   ]
  },
  {
   "cell_type": "markdown",
   "metadata": {},
   "source": [
    "# 4. Full balanced network\n",
    "\n",
    "We are now ready to simulate the full network.\n",
    "\n",
    "To begin with, let's define a custom record type to hold all our weight parameters (will come in handy later):"
   ]
  },
  {
   "cell_type": "code",
   "execution_count": null,
   "metadata": {},
   "outputs": [],
   "source": [
    "(* cf lecture slides: e.g. \"ex\" means \"from x to e\" *)\n",
    "type weights =\n",
    "  { ex : float\n",
    "  ; ix : float\n",
    "  ; ee : float\n",
    "  ; ei : float\n",
    "  ; ie : float\n",
    "  ; ii : float\n",
    "  }"
   ]
  },
  {
   "cell_type": "markdown",
   "metadata": {},
   "source": [
    "This is a good set of default parameters you might want to use later:"
   ]
  },
  {
   "cell_type": "code",
   "execution_count": null,
   "metadata": {},
   "outputs": [],
   "source": [
    "let default_weights =\n",
    "  { ex = 1.0; ix = 0.8; ee = 1.0; ei = -2.0; ie = 1.0; ii = -1.8 }"
   ]
  },
  {
   "cell_type": "markdown",
   "metadata": {},
   "source": [
    "☝ Now, write a function of type `weights → (neuron array * neuron array * neuron array) * network` which:\n",
    "1. creates a population of $N=1000$ Poisson neurons (5 Hz rate) -- call this `popX`\n",
    "2. creates a population of $N$ (excitatory) LIF neurons -- call this `popE`\n",
    "3. creates a population of $N$ (inhibitory) LIF neurons -- call this `popI`\n",
    "4. sets up random connections as discussed in the lecture: each neuron in each of the {X, E, and I} population makes a connection onto `k` randomly chosen neurons in both `popE` and `popI`. You will want to use the `random_connections` function provided in `module A`. Set the connection weights appropriately, don't forget the $1/\\sqrt{K}$ factor!\n",
    "5. return a tuple with the 3 populations, along with the full network"
   ]
  },
  {
   "cell_type": "code",
   "execution_count": null,
   "metadata": {},
   "outputs": [],
   "source": [
    "let make_full_net weights =\n",
    "  let n = 1000 in\n",
    "  let popE = Array.init n (fun _ -> lif ()) in\n",
    "  let popI = Array.init n (fun _ -> lif ()) in\n",
    "  let ext = Array.init n_neurons (fun _ -> poisson rx) in\n",
    "  let k = 100 in\n",
    "  let normalized w = w /. sqrt (float k) in\n",
    "  let connections =\n",
    "    [ random_connections ~from:exc ~onto:exc ~k ~w:(normalized weights.wee)\n",
    "    ; random_connections ~from:exc ~onto:inh ~k ~w:(normalized weights.wie)\n",
    "    ; random_connections ~from:inh ~onto:exc ~k ~w:(normalized weights.wei)\n",
    "    ; random_connections ~from:inh ~onto:inh ~k ~w:(normalized weights.wii)\n",
    "    ; random_connections ~from:ext ~onto:exc ~k ~w:(normalized weights.wex)\n",
    "    ; random_connections ~from:ext ~onto:inh ~k ~w:(normalized weights.wix)\n",
    "    ]\n",
    "  in\n",
    "  let net = { neurons = [ exc; inh; ext ]; connections } in\n",
    "  exc, inh, ext, net"
   ]
  },
  {
   "cell_type": "code",
   "execution_count": null,
   "metadata": {},
   "outputs": [],
   "source": [
    "let plot_network_output ~exc ~inh ~ext =\n",
    "  let keep = 100 in\n",
    "  let figure (module P : Plot) =\n",
    "    P.plot\n",
    "      (A (raster (Array.map spikes (Array.sub ext 0 keep))))\n",
    "      ~style:\"p pt 7 lc 8 ps 0.4\"\n",
    "      [ barebone; margins [ `left 0.2; `right 0.95; `top 0.9; `bottom 0.7 ] ];\n",
    "    P.plot\n",
    "      (A (raster (Array.map spikes (Array.sub exc 0 keep))))\n",
    "      ~style:\"p pt 7 lc 7 ps 0.4\"\n",
    "      [ barebone; margins [ `left 0.2; `right 0.95; `top 0.68; `bottom 0.48 ] ];\n",
    "    P.plot\n",
    "      (A (raster (Array.map spikes (Array.sub inh 0 keep))))\n",
    "      ~style:\"p pt 7 lc 3 ps 0.4\"\n",
    "      [ barebone; margins [ `left 0.2; `right 0.95; `top 0.46; `bottom 0.26 ] ]\n",
    "  in\n",
    "  Juplot.draw ~fmt:`svg ~size:(300, 600) figure"
   ]
  },
  {
   "cell_type": "code",
   "execution_count": null,
   "metadata": {},
   "outputs": [],
   "source": [
    "let _ =\n",
    "  let exc, inh, ext, net = make_net ~rx:10. default_weights in\n",
    "  simulate net 1.0;\n",
    "  (* plot_network_output ~exc ~inh ~ext *) ()"
   ]
  },
  {
   "cell_type": "markdown",
   "metadata": {},
   "source": [
    "Mathematical calculations show that the firing rates $r_E$ and $r_I$ should solve:\n",
    "$$ 1.0 \\times r_E -2 \\times r_I + 1.0 \\times r_X = 0$$\n",
    "$$ 1.5 \\times r_E -2 \\times r_I + 0.9 \\times r_X = 0 $$"
   ]
  },
  {
   "cell_type": "markdown",
   "metadata": {},
   "source": [
    "---"
   ]
  },
  {
   "cell_type": "code",
   "execution_count": null,
   "metadata": {},
   "outputs": [],
   "source": [
    "let input = Array.init 1000 (fun _ -> poisson 10.)\n",
    "\n",
    "let output = Array.init 1 (fun _ -> lif ())\n",
    "\n",
    "let connections = [ random_connections ~from:input ~onto:output ~k:1 ~w:0.005 ]\n",
    "\n",
    "let net = { neurons = [ input; output ]; connections }\n",
    "\n",
    "let duration = 1.0 (* in seconds *)\n",
    "\n",
    "let _ = simulate ~duration net\n",
    "\n",
    "(* simplest possible analysis: what's the output firing rate? *)\n",
    "let output_rate = float (List.length (spikes output.(0))) /. duration"
   ]
  },
  {
   "cell_type": "code",
   "execution_count": null,
   "metadata": {},
   "outputs": [],
   "source": []
  }
 ],
 "metadata": {
  "kernelspec": {
   "display_name": "OCaml 4.07.1+flambda",
   "language": "OCaml",
   "name": "ocaml-jupyter"
  },
  "language_info": {
   "codemirror_mode": "text/x-ocaml",
   "file_extension": ".ml",
   "mimetype": "text/x-ocaml",
   "name": "OCaml",
   "nbconverter_exporter": null,
   "pygments_lexer": "OCaml",
   "version": "4.07.1"
  }
 },
 "nbformat": 4,
 "nbformat_minor": 2
}
