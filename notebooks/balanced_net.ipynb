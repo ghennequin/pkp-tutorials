{
 "cells": [
  {
   "cell_type": "markdown",
   "metadata": {},
   "source": [
    "# Classical Balanced Network Theory\n",
    "\n",
    "In this tutorial, we will follow up on the lecture on balanced networks. We will simulate large networks of neurons and show that they can naturally produce the kind of collective spiking activity widely observed throughout the mammalian cortex:\n",
    "\n",
    "<figure style=\"margin: 2em;\">\n",
    "    <img src=\"img/renart2010.png\" style=\"width: 300px;\">\n",
    "    <figcaption style=\"text-align: center; margin-top:0.5em;\">Population activity in rat neocortex [Renart et al., Science 2010].</figcaption>\n",
    "</figure>\n",
    "\n",
    "The notebook follows a slow progression from:\n",
    "\n",
    "- generation of Poisson processes, to provide a source of external (variable) input to neurons\n",
    "- showing that despite variability in their input, LIF model neurons tend to spike _regularly_ (in contrast with empirical observations), _unless they receive balanced excitatory and inhibitory inputs_.\n",
    "- simulation of a full balanced network, and analysis\n",
    "\n"
   ]
  },
  {
   "cell_type": "code",
   "execution_count": null,
   "metadata": {},
   "outputs": [],
   "source": [
    ";;\n",
    "#require \"pkp\"\n",
    "\n",
    "open Owl\n",
    "\n",
    "open Gp"
   ]
  },
  {
   "cell_type": "code",
   "execution_count": null,
   "metadata": {},
   "outputs": [],
   "source": [
    "module A = Pkp.Balanced_net (* module alias to simplify outputs *)\n",
    "\n",
    "open A"
   ]
  },
  {
   "cell_type": "code",
   "execution_count": null,
   "metadata": {},
   "outputs": [],
   "source": [
    "let k = 100 (* number of (exc. or inh.) input synapses per neuron; cf. lecture *)"
   ]
  },
  {
   "cell_type": "markdown",
   "metadata": {},
   "source": [
    "Before you start, have a quick look at the [documentation](https://pkp-neuro.github.io/pkp-tutorials/pkp/Pkp/Balanced_net/index.html) of the `Pkp.Balanced_net` module."
   ]
  },
  {
   "cell_type": "markdown",
   "metadata": {},
   "source": [
    "## 1. Poisson neurons → they will provide input to our network"
   ]
  },
  {
   "cell_type": "markdown",
   "metadata": {},
   "source": [
    "Poisson neurons are “fake neurons” which simply emit action potentials following a “Poisson process“.\n",
    "\n",
    "Create an array of `n` Poisson neurons firing at 5 Hz -- cf. `poisson` function. Here, `n` is set to `k`. Use `Array.init`, not `Array.make`."
   ]
  },
  {
   "cell_type": "code",
   "execution_count": null,
   "metadata": {},
   "outputs": [],
   "source": [
    "let n = k"
   ]
  },
  {
   "cell_type": "code",
   "execution_count": null,
   "metadata": {},
   "outputs": [],
   "source": [
    "let input = ... (* your code here *)"
   ]
  },
  {
   "cell_type": "markdown",
   "metadata": {},
   "source": [
    "Now create a “network” (a simple record ─ cf. `network` type), and simulate it for `duration = 3.0` s."
   ]
  },
  {
   "cell_type": "code",
   "execution_count": null,
   "metadata": {},
   "outputs": [],
   "source": [
    "(* your code here *)"
   ]
  },
  {
   "cell_type": "markdown",
   "metadata": {},
   "source": [
    "Inspect the spiking behaviour of this input population, by plotting a spike raster using this function:"
   ]
  },
  {
   "cell_type": "code",
   "execution_count": null,
   "metadata": {},
   "outputs": [],
   "source": [
    "let plot_raster population =\n",
    "  let spikes = population |> Array.map spikes |> raster in\n",
    "  let figure (module P : Plot) =\n",
    "    P.plot\n",
    "      (A spikes)\n",
    "      ~style:\"p pt 7 lc 8 ps 0.4\"\n",
    "      [ barebone\n",
    "      ; borders [ `bottom ]\n",
    "      ; offsets [ `bottom (`graph 0.1) ]\n",
    "      ; xtics `auto\n",
    "      ; xlabel \"time [s]\"\n",
    "      ; ylabel \"neurons\"\n",
    "      ]\n",
    "  in\n",
    "  Juplot.draw ~fmt:`svg ~size:(600, 300) figure"
   ]
  },
  {
   "cell_type": "markdown",
   "metadata": {},
   "source": [
    "Now run the simulation over a longer duration (e.g. 50 seconds).\n",
    "\n",
    "- Verify numerically that neurons fire an average of 5 spikes per second, as they should.\n",
    "- Compute the Fano factor for each neuron. What is it, on average? What should it be?"
   ]
  },
  {
   "cell_type": "code",
   "execution_count": null,
   "metadata": {},
   "outputs": [],
   "source": [
    "(* your code here *)"
   ]
  },
  {
   "cell_type": "markdown",
   "metadata": {},
   "source": [
    "## 2. A single LIF neuron receiving Poisson input"
   ]
  },
  {
   "cell_type": "markdown",
   "metadata": {},
   "source": [
    "Now, create a function `make_simple_net` of type `float → (neuron * network)`, which takes a weight parameter `w` and:\n",
    "   1. creates a single LIF neuron (function `lif`)\n",
    "   2. creates connections from `input` (the `n` Poisson neurons above) to the LIF neuron, with weight $w/k$ (function `all_to_all_connections`)\n",
    "   3. creates a network with all those neurons and connections\n",
    "   4. returns the pair (single LIF, network)"
   ]
  },
  {
   "cell_type": "code",
   "execution_count": null,
   "metadata": {},
   "outputs": [],
   "source": [
    "let make_simple_net w = \n",
    " (* your code here *)"
   ]
  },
  {
   "cell_type": "markdown",
   "metadata": {},
   "source": [
    "Here is a helper function to plot the activity (voltage timecourse + spikes) of the LIF neuron:"
   ]
  },
  {
   "cell_type": "code",
   "execution_count": null,
   "metadata": {},
   "outputs": [],
   "source": [
    "let plot_response ~duration x =\n",
    "  let figure (module P : Plot) =\n",
    "    P.plots\n",
    "      [ plottable_voltage ~duration x; plottable_spikes x ]\n",
    "      [ barebone\n",
    "      ; xrange (0., duration)\n",
    "      ; ytics `auto\n",
    "      ; margins [ `bottom 0.2 ]\n",
    "      ; set\n",
    "          \"object 1 rectangle from first 0, graph -0.1 rto first 0.2, graph -0.02 fs \\\n",
    "           solid 1.0 noborder fc rgb 'black' noclip\"\n",
    "      ]\n",
    "  in\n",
    "  Juplot.draw ~fmt:`svg ~size:(500, 200) figure"
   ]
  },
  {
   "cell_type": "markdown",
   "metadata": {},
   "source": [
    "Using the above function, together with your `make_simple_net` and `simulate ~duration:1.0` functions, explore the behaviour of this mini network. Start with `w=5.0` and increase it until you find that the LIF neuron's voltage goes above threshold."
   ]
  },
  {
   "cell_type": "code",
   "execution_count": null,
   "metadata": {},
   "outputs": [],
   "source": [
    "(* your code here *)"
   ]
  },
  {
   "cell_type": "markdown",
   "metadata": {},
   "source": [
    "How does the firing rate of the LIF neuron depend on `w`? Plot this dependence."
   ]
  },
  {
   "cell_type": "code",
   "execution_count": null,
   "metadata": {},
   "outputs": [],
   "source": [
    "(* your code here *)"
   ]
  },
  {
   "cell_type": "markdown",
   "metadata": {},
   "source": [
    "When `w` is set to achieve a firing rate of approximately 5 Hz, what is the Fano factor of the spike count distribution assuming a “counting window” of 0.1 s?"
   ]
  },
  {
   "cell_type": "markdown",
   "metadata": {},
   "source": [
    "## 3. Single neuron receiving balanced E and I inputs"
   ]
  },
  {
   "cell_type": "markdown",
   "metadata": {},
   "source": [
    "Now we are going to simulate a single neuron, receiving:\n",
    "1. excitatory input from `k` Poisson neurons (5 Hz), with weight $+w/\\sqrt{K}$, and\n",
    "2. inhibitory input from `k` Poisson neurons (5 Hz; another, independent set), with weight $-w/\\sqrt{K}$\n",
    "\n",
    "Begin by writing a function `make_simple_ei_net` of type `float → (neuron * network)` (similar to `make_simple_net` above) that sets up the whole network given the parameter `w`."
   ]
  },
  {
   "cell_type": "code",
   "execution_count": null,
   "metadata": {},
   "outputs": [],
   "source": [
    "let make_simple_ei_net w = (* your code here *)"
   ]
  },
  {
   "cell_type": "markdown",
   "metadata": {},
   "source": [
    "Now, repeat the analysis of the previous section:\n",
    "1. Plot the voltage+spike response of your LIF neuron, and explore the effect of `w`\n",
    "2. Plot the firing rate of the LIF neuron as a function of `w`.\n",
    "3. Find the Fano factor when `w` is set so as to achieve a firing rate of ~5 Hz.\n",
    "\n",
    "You might want to reuse some of your previous code. "
   ]
  },
  {
   "cell_type": "code",
   "execution_count": null,
   "metadata": {},
   "outputs": [],
   "source": [
    "(* your code here *)"
   ]
  },
  {
   "cell_type": "markdown",
   "metadata": {},
   "source": [
    "## 4. Full balanced network\n",
    "\n",
    "We are now ready to simulate the full network.\n",
    "\n",
    "To begin with, let's define a custom record type to hold all our weight parameters (will come in handy later):"
   ]
  },
  {
   "cell_type": "code",
   "execution_count": null,
   "metadata": {},
   "outputs": [],
   "source": [
    "(* cf lecture slides: e.g. \"ex\" means \"from x to e\" *)\n",
    "type weight =\n",
    "  { ex : float\n",
    "  ; ix : float\n",
    "  ; ee : float\n",
    "  ; ei : float\n",
    "  ; ie : float\n",
    "  ; ii : float\n",
    "  }"
   ]
  },
  {
   "cell_type": "markdown",
   "metadata": {},
   "source": [
    "This is a good set of default parameters you might want to use later:"
   ]
  },
  {
   "cell_type": "code",
   "execution_count": null,
   "metadata": {},
   "outputs": [],
   "source": [
    "let default_weights =\n",
    "  { ex = 1.0; ix = 1.0; ee = 1.0; ei = -2.0; ie = 1.0; ii = -1.8 }"
   ]
  },
  {
   "cell_type": "markdown",
   "metadata": {},
   "source": [
    "Now, write a function of type `weights → (neuron array * neuron array * neuron array) * network` which:\n",
    "1. creates a population of $N=1000$ Poisson neurons (5 Hz rate) ─ call this `popX`\n",
    "2. creates a population of $N$ (excitatory) LIF neurons ─ call this `popE`; make sure that all but the very first neuron have `~log_voltage:false` in their options.\n",
    "3. creates a population of $N$ (inhibitory) LIF neurons ─ call this `popI`; make sure that all but the very first neuron have `~log_voltage:false` in their options.\n",
    "4. sets up random connections as discussed in the lecture: each neuron in each of the {X, E, and I} population makes a connection onto `k` randomly chosen neurons in both `popE` and `popI`. You will want to use the `random_connections` function provided in `module A`. Set the connection weights appropriately, don't forget the $1/\\sqrt{K}$ factor!\n",
    "5. return a tuple with the 3 populations, along with the full network"
   ]
  },
  {
   "cell_type": "code",
   "execution_count": null,
   "metadata": {},
   "outputs": [],
   "source": [
    "let make_full_net weights = (* your code here *)"
   ]
  },
  {
   "cell_type": "markdown",
   "metadata": {},
   "source": [
    "Here is a function that plots a summary of the network output."
   ]
  },
  {
   "cell_type": "code",
   "execution_count": null,
   "metadata": {},
   "outputs": [],
   "source": [
    "let plot_network_output ~duration (popE, popI, popX) =\n",
    "  let keep = 100 in\n",
    "  let popE = Array.sub popE 0 keep in\n",
    "  let popI = Array.sub popI 0 keep in\n",
    "  let popX = Array.sub popX 0 keep in\n",
    "  let figure (module P : Plot) =\n",
    "    let common =\n",
    "      [ barebone; xrange (0.0, duration); margins [ `left 0.2; `right 0.95 ] ]\n",
    "    in\n",
    "    let plot_raster ~tm ~bm (pop, name, color) =\n",
    "      P.plot\n",
    "        (A (popX |> Array.map spikes |> raster))\n",
    "        ~style:(Printf.sprintf \"p pt 7 lc rgb '%s' ps 0.4\" color)\n",
    "        (common @ [ margins [ `top tm; `bottom bm ]; ylabel name ])\n",
    "    in\n",
    "    plot_raster ~tm:0.9 ~bm:0.7 (popX, \"X neurons\", \"black\");\n",
    "    plot_raster ~tm:0.68 ~bm:0.48 (popE, \"E neurons\", \"#e51e10\");\n",
    "    plot_raster ~tm:0.46 ~bm:0.26 (popI, \"I neurons\", \"#56b4e9\");\n",
    "    P.plots\n",
    "      [ plottable_voltage ~duration popE.(0); plottable_spikes popE.(0) ]\n",
    "      (common\n",
    "      @ [ margins [ `top 0.24; `bottom 0.1 ]\n",
    "        ; borders [ `bottom ]\n",
    "        ; xtics (`regular [ 0.; 1. ])\n",
    "        ; offsets [ `bottom (`graph 0.1) ]\n",
    "        ; xlabel \"time\"\n",
    "        ; ylabel \"V_m\"\n",
    "        ])\n",
    "  in\n",
    "  Juplot.draw ~fmt:`svg ~size:(400, 600) figure"
   ]
  },
  {
   "cell_type": "markdown",
   "metadata": {},
   "source": [
    "Compute the mean firing rates in the E and I populations. Do they match the theoretical expectation (cf. lecture)?"
   ]
  },
  {
   "cell_type": "markdown",
   "metadata": {},
   "source": [
    "Compute the Fano factors in each population. What is it, on average? Comment."
   ]
  }
 ],
 "metadata": {
  "kernelspec": {
   "display_name": "OCaml 4.07.1+flambda",
   "language": "OCaml",
   "name": "ocaml-jupyter"
  },
  "language_info": {
   "codemirror_mode": "text/x-ocaml",
   "file_extension": ".ml",
   "mimetype": "text/x-ocaml",
   "name": "OCaml",
   "nbconverter_exporter": null,
   "pygments_lexer": "OCaml",
   "version": "4.07.1"
  }
 },
 "nbformat": 4,
 "nbformat_minor": 2
}
