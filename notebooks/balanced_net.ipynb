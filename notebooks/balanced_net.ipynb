{
 "cells": [
  {
   "cell_type": "markdown",
   "metadata": {},
   "source": [
    "# Preliminaries"
   ]
  },
  {
   "cell_type": "code",
   "execution_count": null,
   "metadata": {},
   "outputs": [],
   "source": [
    ";;\n",
    "#require \"pkp\"\n",
    "\n",
    "open Pkp\n",
    "\n",
    "module A = Balanced_net\n",
    "\n",
    "let _ = Pkp.Misc.silence ()"
   ]
  },
  {
   "cell_type": "code",
   "execution_count": null,
   "metadata": {},
   "outputs": [],
   "source": [
    "let dt = 1E-3\n",
    "\n",
    "let n_neurons = 1000\n",
    "\n",
    "let rx = 5.0"
   ]
  },
  {
   "cell_type": "code",
   "execution_count": null,
   "metadata": {},
   "outputs": [],
   "source": [
    "module X = A.Poisson_population (struct\n",
    "  let n = n_neurons\n",
    "  and rate = rx\n",
    "  and dt = dt\n",
    "end)"
   ]
  },
  {
   "cell_type": "markdown",
   "metadata": {},
   "source": [
    "----\n",
    "## Test the Poisson population"
   ]
  },
  {
   "cell_type": "code",
   "execution_count": null,
   "metadata": {},
   "outputs": [],
   "source": [
    "let plot_raster ?(ps = 0.2) raster color (module F : Gp.Figure) =\n",
    "  F.barebone () ;\n",
    "  F.set Label (`y, \"neurons\") ;\n",
    "  F.set Range (`y, (0.0, 100.0)) ;\n",
    "  F.ex\n",
    "    \"set object 1 rectangle from first 0, graph -0.1 rto first 0.2, graph \\\n",
    "     0.05 fs solid 1.0 fc rgb 'black' noclip\" ;\n",
    "  F.plot\n",
    "    [| ( [Mat.col raster 0; Mat.col raster 1]\n",
    "       , Printf.sprintf \"u 1:2 w p pt 7 lc rgb '%s' ps %f\" color ps ) |]"
   ]
  },
  {
   "cell_type": "code",
   "execution_count": null,
   "metadata": {},
   "outputs": [],
   "source": [
    "let _ =\n",
    "  let d = 3. in\n",
    "  let raster =\n",
    "    Array.init (int_of_float (d /. dt)) (fun t -> X.step () ; X.spikes ())\n",
    "    |> A.plottable_raster ~dt\n",
    "  in\n",
    "  Juplot.draw ~fmt:`svg ~size:(600, 300) (plot_raster ~ps:0.5 raster \"black\")"
   ]
  },
  {
   "cell_type": "markdown",
   "metadata": {},
   "source": [
    "-----\n",
    "## Single neuron receiving input from $N$ excitatory neurons"
   ]
  },
  {
   "cell_type": "code",
   "execution_count": null,
   "metadata": {},
   "outputs": [],
   "source": [
    "module S = A.LIF_population (struct\n",
    "  let n = 1\n",
    "  and dt = dt\n",
    "  and free_vm = false\n",
    "  and tau = 20E-3\n",
    "  and threshold = 1.0\n",
    "end)"
   ]
  },
  {
   "cell_type": "code",
   "execution_count": null,
   "metadata": {},
   "outputs": [],
   "source": [
    "let _ =\n",
    "  let module Prms = struct let n = n_neurons let rate = rx let dt = dt end in\n",
    "  let module XE = A.Poisson_population (Prms) in\n",
    "  let module XI = A.Poisson_population (Prms) in\n",
    "  (* strength of the connections *)\n",
    "  let w = 1.8 /. sqrt (float n_neurons) in\n",
    "  (* input: this LIF neuron receives input from ALL neurons in XE and XI *)\n",
    "  let inputs =\n",
    "    [ (+.w, A.all_to_all_synapses 1 n_neurons, XE.spikes)\n",
    "    ; (-.w, A.all_to_all_synapses 1 n_neurons, XI.spikes) ]\n",
    "  in\n",
    "  let d = 10. in\n",
    "  let n_bins = int_of_float (d /. dt) in\n",
    "  let count = ref 0 in\n",
    "  let voltage =\n",
    "    Mat.init 1 n_bins (fun t ->\n",
    "        XE.step () ;\n",
    "        XI.step () ;\n",
    "        S.step inputs ;\n",
    "        if Array.length (S.spikes ()) > 0 then ( incr count ; 5. )\n",
    "        else Mat.(get S.us 0 0) )\n",
    "  in\n",
    "  let plot (module F : Gp.Figure) =\n",
    "    F.barebone () ;\n",
    "    F.plot [|([voltage], \"w l lc 8 lw 2\")|]\n",
    "  in\n",
    "  Juplot.draw ~fmt:`svg ~size:(1000, 120) plot ;\n",
    "  !count"
   ]
  },
  {
   "cell_type": "markdown",
   "metadata": {},
   "source": [
    "## Fully connected E/I"
   ]
  },
  {
   "cell_type": "code",
   "execution_count": null,
   "metadata": {},
   "outputs": [],
   "source": [
    "module Prms = struct\n",
    "  let n = n_neurons\n",
    "  and dt = dt\n",
    "  and free_vm = false\n",
    "  and tau = 20E-3\n",
    "  and threshold = 1.0\n",
    "end\n",
    "\n",
    "module E = A.LIF_population (Prms)\n",
    "\n",
    "module I = A.LIF_population (Prms)"
   ]
  },
  {
   "cell_type": "code",
   "execution_count": null,
   "metadata": {},
   "outputs": [],
   "source": [
    "let k = 100\n",
    "\n",
    "let z = 1. /. sqrt (float k)\n",
    "\n",
    "let inputs jx je ji =\n",
    "  [ (z *. jx, A.random_synapses n_neurons n_neurons k, X.spikes)\n",
    "  ; (z *. je, A.random_synapses n_neurons n_neurons k, E.spikes)\n",
    "  ; (z *. ji, A.random_synapses n_neurons n_neurons k, I.spikes) ]\n",
    "\n",
    "let inputs_e = inputs 1. 1. (-2.)\n",
    "\n",
    "let inputs_i = inputs 0.9 1.5 (-2.)"
   ]
  },
  {
   "cell_type": "code",
   "execution_count": null,
   "metadata": {},
   "outputs": [],
   "source": [
    "let _ =\n",
    "  let progress = Pkp.Misc.time_indicator dt in\n",
    "  let d = 3. in\n",
    "  let rasters =\n",
    "    Array.init\n",
    "      (int_of_float (d /. dt))\n",
    "      (fun t ->\n",
    "        if t mod 10 = 0 then progress t ;\n",
    "        X.step () ;\n",
    "        E.step inputs_e ;\n",
    "        I.step inputs_i ;\n",
    "        (X.spikes (), E.spikes (), I.spikes ()) )\n",
    "  in\n",
    "  let raster extract =\n",
    "    rasters |> Array.map extract |> A.plottable_raster ~dt\n",
    "  in\n",
    "  Juplot.draw ~fmt:`svg ~size:(1000, 120) (fun (module F : Gp.Figure) ->\n",
    "      F.multiplot (1, 3) (fun i j k ->\n",
    "          let extract (a, b, c) =\n",
    "            if i = 0 then a else if i = 1 then b else c\n",
    "          in\n",
    "          let color =\n",
    "            if i = 0 then \"black\" else if i = 1 then \"red\" else \"blue\"\n",
    "          in\n",
    "          plot_raster (raster extract) color (module F) ) )"
   ]
  },
  {
   "cell_type": "markdown",
   "metadata": {},
   "source": [
    "Mathematical calculations show that the firing rates $r_E$ and $r_I$ should solve:\n",
    "$$ 1.0 \\times r_E -2 \\times r_I + 1.0 \\times r_X = 0$$\n",
    "$$ 1.5 \\times r_E -2 \\times r_I + 0.9 \\times r_X = 0 $$"
   ]
  },
  {
   "cell_type": "markdown",
   "metadata": {},
   "source": [
    "---"
   ]
  }
 ],
 "metadata": {
  "kernelspec": {
   "display_name": "OCaml 4.07.1+flambda",
   "language": "OCaml",
   "name": "ocaml-jupyter"
  },
  "language_info": {
   "codemirror_mode": "text/x-ocaml",
   "file_extension": ".ml",
   "mimetype": "text/x-ocaml",
   "name": "OCaml",
   "nbconverter_exporter": null,
   "pygments_lexer": "OCaml",
   "version": "4.07.1"
  }
 },
 "nbformat": 4,
 "nbformat_minor": 2
}
